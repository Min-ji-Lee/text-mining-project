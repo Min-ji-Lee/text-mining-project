{
 "cells": [
  {
   "cell_type": "code",
   "execution_count": 1,
   "id": "723df9b7",
   "metadata": {},
   "outputs": [],
   "source": [
    "import requests, time, re\n",
    "from bs4 import BeautifulSoup\n",
    "import pandas as pd"
   ]
  },
  {
   "cell_type": "markdown",
   "id": "fb93a768",
   "metadata": {},
   "source": [
    "# 1. 리뷰 스크래핑"
   ]
  },
  {
   "cell_type": "code",
   "execution_count": 2,
   "id": "50c0f0eb",
   "metadata": {},
   "outputs": [],
   "source": [
    "# 잡플래닛 로그인 url\n",
    "url = \"https://www.jobplanet.co.kr/users/sign_in?_nav=gb\"\n",
    "user_agent = 'Mozilla/5.0 (Windows NT 10.0; Win64; x64) AppleWebKit/537.36 (KHTML, like Gecko) Chrome/78.0.3904.97 Safari/537.36'\n",
    "headers = {'Content-type': 'application/json', 'Accept': 'text/plain', 'User-Agent':user_agent}\n",
    "login_data = {'user':{'email':'hsmy31@hanyang.ac.kr', 'password':'rhkwpgksmswnd!', 'remember_me':'true'}}\n",
    "session = requests.session()\n",
    "\n",
    "# 로그인 실행\n",
    "login_response = session.post(url, json = login_data, headers = headers)"
   ]
  },
  {
   "cell_type": "code",
   "execution_count": 3,
   "id": "1bec9fa6",
   "metadata": {},
   "outputs": [],
   "source": [
    "# 1.정부/공공기관/공기업(1001), 2.은행/금융업(900), 3.네트워크/통신/모바일(704), 4.세무/회계(1004)\n",
    "codes = ['1001', '900', '704', '1004']\n",
    "nums = ['1', '2', '3', '4']"
   ]
  },
  {
   "cell_type": "code",
   "execution_count": 58,
   "id": "3f2bc214",
   "metadata": {},
   "outputs": [],
   "source": [
    "# PyKoSpacing(띄어쓰기 교정) 패키지 적용\n",
    "from pykospacing import Spacing\n",
    "spacing = Spacing()"
   ]
  },
  {
   "cell_type": "code",
   "execution_count": 59,
   "id": "8dee492d",
   "metadata": {},
   "outputs": [],
   "source": [
    "# 리뷰를 txt파일로 저장\n",
    "f = open('review_train.txt', 'w', encoding = 'utf-8')\n",
    "\n",
    "for code, count in zip(codes, nums):\n",
    "    reviews = {}\n",
    "    url = \"https://www.jobplanet.co.kr/reviews?&industry_id=\" + str(code)\n",
    "    response = session.get(url)\n",
    "    soup = BeautifulSoup(response.text, 'html.parser')\n",
    "    num = soup.find('span', class_='num') # 리뷰 개수 확인\n",
    "    num = int(num.get_text().strip())\n",
    "    import math\n",
    "    pages = math.ceil(num / 10) # 한 페이지당 리뷰 10개로 구성됨\n",
    "    \n",
    "    for i in range(1, pages + 1): # 전체 페이지의 리뷰 추출\n",
    "        time.sleep(1)\n",
    "        url = \"https://www.jobplanet.co.kr/reviews?&industry_id=\" + str(code) + \"&page=\"+ str(i)\n",
    "        response =  session.get(url)\n",
    "        soup = BeautifulSoup(response.text, 'html.parser')\n",
    "        label = soup.find_all('h2', class_ = 'us_label') # 한 줄 리뷰 추출\n",
    "\n",
    "        # 추출한 리뷰에서 태그를 제외한 텍스트만 추출하여 labels 리스트에 저장\n",
    "        labels = [label.get_text().replace('\\r', ' ') for label in label[:]]\n",
    "        \n",
    "        # 별점이 포함된 div 추출\n",
    "        star = soup.find_all('div', class_=\"us_star_m\") \n",
    "        # 추출한 div에서 별점을 나타내는 width 속성의 숫자로 된 부분을 stars 리스트에 저장\n",
    "        stars = re.findall('[0-9]+[.]+[0-9]', str(star))\n",
    "\n",
    "        # txt파일에 리뷰 쓰기\n",
    "        for k in range(len(labels)):\n",
    "            start = labels[k].find('\"')\n",
    "            f.write(spacing(labels[k][start+1:-1]) + '  ')\n",
    "            # reviews 딕셔너리에 '리뷰: 별점' 형식으로 추가\n",
    "            reviews[spacing(labels[k][start+1:-1])] = stars[k].replace('.0', '')\n",
    " \n",
    "    # 동적변수를 할당하여 산업군별 리뷰를 각각 리스트로 저장(총 4개의 딕셔너리 생성)\n",
    "    globals()['reviews' + str(count)] = reviews\n",
    "    f.write('\\n')\n",
    "f.close()"
   ]
  },
  {
   "cell_type": "code",
   "execution_count": 60,
   "id": "39ed23b9",
   "metadata": {},
   "outputs": [],
   "source": [
    "# 산업군별 리뷰 4개의 딕셔너리를 하나로 합치기\n",
    "reviews_all = {**reviews1, **reviews2, **reviews3, **reviews4}"
   ]
  },
  {
   "cell_type": "code",
   "execution_count": 61,
   "id": "acacc21d",
   "metadata": {},
   "outputs": [
    {
     "data": {
      "text/plain": [
       "2552"
      ]
     },
     "execution_count": 61,
     "metadata": {},
     "output_type": "execute_result"
    }
   ],
   "source": [
    "len(reviews_all)"
   ]
  },
  {
   "cell_type": "code",
   "execution_count": 62,
   "id": "306eced7",
   "metadata": {},
   "outputs": [
    {
     "name": "stdout",
     "output_type": "stream",
     "text": [
      "774 1062 342 374\n"
     ]
    }
   ],
   "source": [
    "# 각 산업군별 리뷰 개수 확인\n",
    "print(len(reviews1), len(reviews2), len(reviews3), len(reviews4))"
   ]
  },
  {
   "cell_type": "code",
   "execution_count": 63,
   "id": "dfbdc169",
   "metadata": {},
   "outputs": [
    {
     "name": "stdout",
     "output_type": "stream",
     "text": [
      "4\n"
     ]
    }
   ],
   "source": [
    "with open('review_train.txt', 'r', encoding = 'utf-8') as f:\n",
    "    print(len(f.readlines()))"
   ]
  },
  {
   "cell_type": "markdown",
   "id": "02db7be1",
   "metadata": {},
   "source": [
    "###  review_train.txt는 하나의 산업군 리뷰 전체를 한 줄로 스크래핑하여 총 4문장으로 이루어져 있음\n",
    " - 각 리뷰는 '  '로 구분하여 저장하였음.\n",
    " - -> 이는 soynlp의 클래스 사용 시 적합하도록 저장한 것임.\n",
    " - (한 줄을 하나의 문서로 인식, 한 문서 내에서 두 칸 띄어쓰기로 문장 구분)\n",
    " \n",
    "### 전체 산업군과 별도로 각각의 산업군별으로도 분석해보기 위해 텍스트 파일을 4개로 분할\n"
   ]
  },
  {
   "cell_type": "code",
   "execution_count": 64,
   "id": "83ce2c12",
   "metadata": {},
   "outputs": [],
   "source": [
    "with open('review_train.txt', 'r', encoding = 'utf-8') as f :\n",
    "    data = f.read().split('\\n')\n",
    "    for i in range(4):\n",
    "        a = 1 + i\n",
    "        with open(f'review_{a}.txt', 'w+', encoding = 'utf-8') as txt:\n",
    "            txt.write(data[i]) "
   ]
  },
  {
   "cell_type": "markdown",
   "id": "d8ce8a9c",
   "metadata": {},
   "source": [
    "# 2. soynlp를 이용한 명사 추출기 적용\n",
    "#### 목적: 말뭉치를 기반으로 학습된 기존의 형태소 분석기는 pos 태깅 시 복합명사를 각각의 명사로 태깅하거나 \n",
    "#### 새로 등장하는 단어를 명사로 인식하지 못하는 문제가 있음. 이에 따라 문서집합의 학습을 통해 명사점수를 부여하고 명사가 아닌지 판단\n",
    " - L - [R]의 bipartite graph의 정보를 이용하여 해당 단어가 명사인지 아닌지 판단\n",
    " - 해당 패키지는 세종 말뭉치를 이용하여 명사 뒤에 등장하는 R set에서 명사 가능 점수가 학습되어 있음.\n",
    " - 명사 가능 점수의 범위: [-1, 1]\n",
    " - 통계 기반의 unsupervised 학습 방법 적용\n",
    " \n",
    "#### 두 가지의 명사 추출기를 적용하여 봄"
   ]
  },
  {
   "cell_type": "code",
   "execution_count": 65,
   "id": "7ab11985",
   "metadata": {},
   "outputs": [],
   "source": [
    "import urllib.request\n",
    "from soynlp import DoublespaceLineCorpus\n",
    "from soynlp.word import WordExtractor"
   ]
  },
  {
   "cell_type": "code",
   "execution_count": 66,
   "id": "b071548b",
   "metadata": {},
   "outputs": [
    {
     "data": {
      "text/plain": [
       "2557"
      ]
     },
     "execution_count": 66,
     "metadata": {},
     "output_type": "execute_result"
    }
   ],
   "source": [
    "from soynlp.utils import DoublespaceLineCorpus\n",
    "\n",
    "corpus_fname = 'review_train.txt'\n",
    "sentences = DoublespaceLineCorpus(corpus_fname, iter_sent=True)\n",
    "len(sentences)"
   ]
  },
  {
   "cell_type": "markdown",
   "id": "507c68ce",
   "metadata": {},
   "source": [
    "## 1) LRNounExtractor\n",
    "#### soynlp의 기본적인 명사 추출기 적용"
   ]
  },
  {
   "cell_type": "code",
   "execution_count": 67,
   "id": "8ce945c8",
   "metadata": {},
   "outputs": [
    {
     "name": "stdout",
     "output_type": "stream",
     "text": [
      "[Noun Extractor] used default noun predictor; Sejong corpus predictor\n",
      "[Noun Extractor] used noun_predictor_sejong\n",
      "[Noun Extractor] All 2398 r features was loaded\n"
     ]
    }
   ],
   "source": [
    "from soynlp.noun import LRNounExtractor\n",
    "\n",
    "noun_extractor = LRNounExtractor(\n",
    "    max_left_length = 10, \n",
    "    max_right_length = 7,\n",
    "    predictor_fnames = None,\n",
    "    verbose = True\n",
    ")"
   ]
  },
  {
   "cell_type": "markdown",
   "id": "76b098ed",
   "metadata": {},
   "source": [
    "#### 전체 리뷰 문장에서 단어를 추출하여 명사를 판단하는 학습 실행"
   ]
  },
  {
   "cell_type": "code",
   "execution_count": 68,
   "id": "0fcd56c7",
   "metadata": {},
   "outputs": [
    {
     "name": "stdout",
     "output_type": "stream",
     "text": [
      "\r",
      "[Noun Extractor] scanning was done (L,R) has (651, 327) tokens\n",
      "\r",
      "[Noun Extractor] building L-R graph was done\n",
      "[Noun Extractor] 162 nouns are extracted\n",
      "Wall time: 398 ms\n"
     ]
    }
   ],
   "source": [
    "%%time\n",
    "nouns = noun_extractor.train_extract(\n",
    "    sentences,\n",
    "    min_noun_score=0.3,\n",
    "    min_noun_frequency=20\n",
    ")"
   ]
  },
  {
   "cell_type": "code",
   "execution_count": 69,
   "id": "cc1040ac",
   "metadata": {
    "scrolled": true
   },
   "outputs": [
    {
     "name": "stdout",
     "output_type": "stream",
     "text": [
      "[('회사', NounScore_v1(frequency=718, score=0.6732154655172413, known_r_ratio=0.7404255319148936)), ('업무', NounScore_v1(frequency=364, score=0.864112077348066, known_r_ratio=0.9329896907216495)), ('사람', NounScore_v1(frequency=203, score=0.5262195136612021, known_r_ratio=0.6310344827586207)), ('기업', NounScore_v1(frequency=195, score=0.8705182888888888, known_r_ratio=0.6428571428571429)), ('다양', NounScore_v1(frequency=147, score=0.999474713286713, known_r_ratio=0.9727891156462585)), ('사람들', NounScore_v1(frequency=136, score=0.9152982631578946, known_r_ratio=0.9895833333333334)), ('경험', NounScore_v1(frequency=133, score=0.6445116265060242, known_r_ratio=0.7217391304347827)), ('복지', NounScore_v1(frequency=131, score=0.9554130714285715, known_r_ratio=0.875)), ('추천', NounScore_v1(frequency=130, score=0.9863392, known_r_ratio=0.29411764705882354)), ('생각', NounScore_v1(frequency=127, score=0.9078011212121213, known_r_ratio=0.5739130434782609)), ('직원', NounScore_v1(frequency=112, score=0.532330397260274, known_r_ratio=0.437125748502994)), ('연봉', NounScore_v1(frequency=105, score=0.6179340847457627, known_r_ratio=0.9833333333333333)), ('직원들', NounScore_v1(frequency=101, score=0.8537530862068966, known_r_ratio=1.0)), ('문화', NounScore_v1(frequency=100, score=0.8201545333333333, known_r_ratio=0.9523809523809523)), ('근무', NounScore_v1(frequency=98, score=0.6695826734693877, known_r_ratio=0.8032786885245902)), ('직장', NounScore_v1(frequency=98, score=0.8036440416666668, known_r_ratio=0.6)), ('성장', NounScore_v1(frequency=89, score=0.82514606122449, known_r_ratio=0.7424242424242424)), ('안정적', NounScore_v1(frequency=85, score=0.9992101428571428, known_r_ratio=0.5121951219512195)), ('경력', NounScore_v1(frequency=81, score=0.7276091142857143, known_r_ratio=0.813953488372093)), ('급여', NounScore_v1(frequency=78, score=0.885065894736842, known_r_ratio=1.0)), ('발전', NounScore_v1(frequency=71, score=0.4828800952380953, known_r_ratio=0.875)), ('체계', NounScore_v1(frequency=71, score=0.8601581272727273, known_r_ratio=0.8208955223880597)), ('가능', NounScore_v1(frequency=66, score=0.9900018518518517, known_r_ratio=0.38028169014084506)), ('환경', NounScore_v1(frequency=62, score=0.7568379999999999, known_r_ratio=0.7105263157894737)), ('최고', NounScore_v1(frequency=59, score=0.9599985675675676, known_r_ratio=0.9024390243902439)), ('좋아', NounScore_v1(frequency=59, score=0.9856713333333333, known_r_ratio=0.46153846153846156)), ('공무원', NounScore_v1(frequency=58, score=0.8306296315789473, known_r_ratio=0.76)), ('강도', NounScore_v1(frequency=57, score=0.5743960714285714, known_r_ratio=1.0)), ('계약직', NounScore_v1(frequency=56, score=0.7247534750000001, known_r_ratio=0.9523809523809523)), ('하나', NounScore_v1(frequency=55, score=0.6539426153846155, known_r_ratio=1.0)), ('개인', NounScore_v1(frequency=54, score=0.8825936470588234, known_r_ratio=0.5483870967741935)), ('본인', NounScore_v1(frequency=54, score=0.950753431818182, known_r_ratio=0.9565217391304348)), ('사업', NounScore_v1(frequency=54, score=0.5373659166666667, known_r_ratio=0.8372093023255814)), ('시간', NounScore_v1(frequency=53, score=0.6983598484848486, known_r_ratio=0.9705882352941176)), ('자유', NounScore_v1(frequency=53, score=0.9876255, known_r_ratio=0.9803921568627451)), ('신입', NounScore_v1(frequency=53, score=0.9180766216216216, known_r_ratio=0.8809523809523809)), ('조직', NounScore_v1(frequency=52, score=0.906847375, known_r_ratio=0.8421052631578947)), ('워라밸', NounScore_v1(frequency=52, score=0.5089795625, known_r_ratio=1.0)), ('대우', NounScore_v1(frequency=50, score=0.69897, known_r_ratio=1.0)), ('정도', NounScore_v1(frequency=48, score=0.5427975789473686, known_r_ratio=0.7916666666666666)), ('보수적', NounScore_v1(frequency=47, score=0.99872775, known_r_ratio=0.41025641025641024)), ('공공기관', NounScore_v1(frequency=47, score=0.8800223225806451, known_r_ratio=0.96875)), ('분들', NounScore_v1(frequency=45, score=0.9687882499999999, known_r_ratio=1.0)), ('이상', NounScore_v1(frequency=44, score=0.7558757142857144, known_r_ratio=0.875)), ('장점', NounScore_v1(frequency=44, score=0.6073775172413793, known_r_ratio=0.9354838709677419)), ('무난', NounScore_v1(frequency=43, score=0.9973780303030303, known_r_ratio=0.8048780487804879)), ('사무실', NounScore_v1(frequency=43, score=0.8682798750000001, known_r_ratio=1.0)), ('운영', NounScore_v1(frequency=42, score=0.9267602727272728, known_r_ratio=0.88)), ('야근', NounScore_v1(frequency=42, score=0.8531559545454545, known_r_ratio=0.9565217391304348)), ('능력', NounScore_v1(frequency=41, score=0.7734959499999998, known_r_ratio=1.0)), ('커리어', NounScore_v1(frequency=41, score=0.9996461304347826, known_r_ratio=1.0)), ('수평적', NounScore_v1(frequency=41, score=0.9993894285714287, known_r_ratio=0.25)), ('위치', NounScore_v1(frequency=40, score=0.9067477857142857, known_r_ratio=0.9333333333333333)), ('대표', NounScore_v1(frequency=40, score=0.841425142857143, known_r_ratio=0.84)), ('워라벨', NounScore_v1(frequency=40, score=0.5792950000000001, known_r_ratio=1.0)), ('업계', NounScore_v1(frequency=39, score=0.9991635384615385, known_r_ratio=1.0)), ('규모', NounScore_v1(frequency=38, score=0.9460005, known_r_ratio=1.0)), ('기회', NounScore_v1(frequency=38, score=0.8712305384615385, known_r_ratio=1.0)), ('가족', NounScore_v1(frequency=38, score=0.48056580000000004, known_r_ratio=0.2631578947368421)), ('가능성', NounScore_v1(frequency=38, score=0.4542768235294118, known_r_ratio=1.0)), ('부서', NounScore_v1(frequency=37, score=0.9954134375000001, known_r_ratio=0.7272727272727273)), ('노력', NounScore_v1(frequency=36, score=0.9154195384615382, known_r_ratio=0.8125)), ('느낌', NounScore_v1(frequency=36, score=0.9662897333333333, known_r_ratio=0.75)), ('개발', NounScore_v1(frequency=36, score=0.5389380769230769, known_r_ratio=0.4642857142857143)), ('정규직', NounScore_v1(frequency=36, score=0.6808497200000001, known_r_ratio=0.9615384615384616)), ('필요', NounScore_v1(frequency=35, score=0.9942081764705882, known_r_ratio=0.68)), ('수준', NounScore_v1(frequency=35, score=0.5374239130434783, known_r_ratio=0.9583333333333334)), ('단점', NounScore_v1(frequency=34, score=0.747410423076923, known_r_ratio=0.896551724137931)), ('자체', NounScore_v1(frequency=34, score=0.5898381428571429, known_r_ratio=0.875)), ('입사', NounScore_v1(frequency=33, score=0.9922589523809525, known_r_ratio=0.84)), ('부족', NounScore_v1(frequency=33, score=0.9952279545454544, known_r_ratio=0.7586206896551724)), ('때문', NounScore_v1(frequency=33, score=0.99972, known_r_ratio=0.9696969696969697)), ('공기업', NounScore_v1(frequency=33, score=0.8761182352941176, known_r_ratio=0.9444444444444444)), ('근무환경', NounScore_v1(frequency=33, score=0.49397154545454547, known_r_ratio=1.0)), ('나름', NounScore_v1(frequency=31, score=0.9988021666666667, known_r_ratio=1.0)), ('기관', NounScore_v1(frequency=30, score=0.9996954615384617, known_r_ratio=0.8125)), ('적당', NounScore_v1(frequency=30, score=1.0, known_r_ratio=0.26666666666666666)), ('업무량', NounScore_v1(frequency=30, score=0.7112065, known_r_ratio=1.0)), ('스트레스', NounScore_v1(frequency=30, score=0.6213276666666666, known_r_ratio=1.0)), ('보장', NounScore_v1(frequency=29, score=0.6507334285714286, known_r_ratio=0.7368421052631579)), ('눈치', NounScore_v1(frequency=29, score=0.5430063636363637, known_r_ratio=1.0)), ('전문', NounScore_v1(frequency=29, score=0.9985295000000001, known_r_ratio=0.08333333333333333)), ('은행', NounScore_v1(frequency=29, score=0.9287782857142856, known_r_ratio=0.6363636363636364)), ('투자', NounScore_v1(frequency=29, score=0.9924412857142858, known_r_ratio=0.7777777777777778)), ('관련', NounScore_v1(frequency=29, score=0.9970383333333332, known_r_ratio=0.6)), ('전반적', NounScore_v1(frequency=29, score=0.999725, known_r_ratio=0.5)), ('최악', NounScore_v1(frequency=28, score=0.9998325, known_r_ratio=0.75)), ('경우', NounScore_v1(frequency=28, score=0.8473760714285714, known_r_ratio=1.0)), ('성과', NounScore_v1(frequency=28, score=0.9993260588235297, known_r_ratio=0.9444444444444444)), ('욕심', NounScore_v1(frequency=28, score=0.7104838461538461, known_r_ratio=1.0)), ('비교', NounScore_v1(frequency=28, score=0.7491334999999999, known_r_ratio=0.07692307692307693)), ('계속', NounScore_v1(frequency=28, score=0.995454, known_r_ratio=0.6666666666666666)), ('영업', NounScore_v1(frequency=28, score=0.6491942999999999, known_r_ratio=0.625)), ('만족', NounScore_v1(frequency=27, score=0.9833164615384615, known_r_ratio=0.5652173913043478)), ('문제', NounScore_v1(frequency=27, score=0.8735781538461539, known_r_ratio=0.8125)), ('구조', NounScore_v1(frequency=27, score=0.9878606363636365, known_r_ratio=0.7333333333333333)), ('관심', NounScore_v1(frequency=27, score=0.999341, known_r_ratio=1.0)), ('관리', NounScore_v1(frequency=26, score=0.7462157500000001, known_r_ratio=0.8421052631578947)), ('차이', NounScore_v1(frequency=26, score=0.999605, known_r_ratio=1.0)), ('생활', NounScore_v1(frequency=26, score=0.7293565384615385, known_r_ratio=1.0))]\n"
     ]
    }
   ],
   "source": [
    "# 빈도수 기준 상위 100개 단어\n",
    "sort_nouns1 = sorted(nouns.items(), key=lambda x:-x[1].frequency)[:100]\n",
    "print(sort_nouns1)"
   ]
  },
  {
   "cell_type": "code",
   "execution_count": 70,
   "id": "db6f827d",
   "metadata": {},
   "outputs": [
    {
     "name": "stdout",
     "output_type": "stream",
     "text": [
      "\n",
      "    회사 (718.00)    업무 (364.00)    사람 (203.00)    기업 (195.00)    다양 (147.00)\n",
      "   사람들 (136.00)    경험 (133.00)    복지 (131.00)    추천 (130.00)    생각 (127.00)\n",
      "    직원 (112.00)    연봉 (105.00)   직원들 (101.00)    문화 (100.00)    근무 (98.00)\n",
      "    직장 (98.00)    성장 (89.00)   안정적 (85.00)    경력 (81.00)    급여 (78.00)\n",
      "    발전 (71.00)    체계 (71.00)    가능 (66.00)    환경 (62.00)    최고 (59.00)\n",
      "    좋아 (59.00)   공무원 (58.00)    강도 (57.00)   계약직 (56.00)    하나 (55.00)\n",
      "    개인 (54.00)    본인 (54.00)    사업 (54.00)    시간 (53.00)    자유 (53.00)\n",
      "    신입 (53.00)    조직 (52.00)   워라밸 (52.00)    대우 (50.00)    정도 (48.00)\n",
      "   보수적 (47.00)  공공기관 (47.00)    분들 (45.00)    이상 (44.00)    장점 (44.00)\n",
      "    무난 (43.00)   사무실 (43.00)    운영 (42.00)    야근 (42.00)    능력 (41.00)\n",
      "   커리어 (41.00)   수평적 (41.00)    위치 (40.00)    대표 (40.00)   워라벨 (40.00)\n",
      "    업계 (39.00)    규모 (38.00)    기회 (38.00)    가족 (38.00)   가능성 (38.00)\n",
      "    부서 (37.00)    노력 (36.00)    느낌 (36.00)    개발 (36.00)   정규직 (36.00)\n",
      "    필요 (35.00)    수준 (35.00)    단점 (34.00)    자체 (34.00)    입사 (33.00)\n",
      "    부족 (33.00)    때문 (33.00)   공기업 (33.00)  근무환경 (33.00)    나름 (31.00)\n",
      "    기관 (30.00)    적당 (30.00)   업무량 (30.00)  스트레스 (30.00)    보장 (29.00)\n",
      "    눈치 (29.00)    전문 (29.00)    은행 (29.00)    투자 (29.00)    관련 (29.00)\n",
      "   전반적 (29.00)    최악 (28.00)    경우 (28.00)    성과 (28.00)    욕심 (28.00)\n",
      "    비교 (28.00)    계속 (28.00)    영업 (28.00)    만족 (27.00)    문제 (27.00)\n",
      "    구조 (27.00)    관심 (27.00)    관리 (26.00)    차이 (26.00)    생활 (26.00)"
     ]
    }
   ],
   "source": [
    "# 빈도수 기준 상위 100개 단어 확인\n",
    "for i, (word, score) in enumerate(sort_nouns1):\n",
    "    if i % 5 == 0:\n",
    "        print()\n",
    "    print('%6s (%.2f)' % (word, score.frequency), end = '')"
   ]
  },
  {
   "cell_type": "code",
   "execution_count": 71,
   "id": "4afcaff5",
   "metadata": {
    "scrolled": true
   },
   "outputs": [
    {
     "name": "stdout",
     "output_type": "stream",
     "text": [
      "[('회사', NounScore_v1(frequency=718, score=0.6732154655172413, known_r_ratio=0.7404255319148936)), ('업무', NounScore_v1(frequency=364, score=0.864112077348066, known_r_ratio=0.9329896907216495)), ('기업', NounScore_v1(frequency=195, score=0.8705182888888888, known_r_ratio=0.6428571428571429)), ('다양', NounScore_v1(frequency=147, score=0.999474713286713, known_r_ratio=0.9727891156462585)), ('추천', NounScore_v1(frequency=130, score=0.9863392, known_r_ratio=0.29411764705882354)), ('복지', NounScore_v1(frequency=131, score=0.9554130714285715, known_r_ratio=0.875)), ('사람들', NounScore_v1(frequency=136, score=0.9152982631578946, known_r_ratio=0.9895833333333334)), ('생각', NounScore_v1(frequency=127, score=0.9078011212121213, known_r_ratio=0.5739130434782609)), ('사람', NounScore_v1(frequency=203, score=0.5262195136612021, known_r_ratio=0.6310344827586207)), ('직원들', NounScore_v1(frequency=101, score=0.8537530862068966, known_r_ratio=1.0)), ('경험', NounScore_v1(frequency=133, score=0.6445116265060242, known_r_ratio=0.7217391304347827)), ('안정적', NounScore_v1(frequency=85, score=0.9992101428571428, known_r_ratio=0.5121951219512195)), ('문화', NounScore_v1(frequency=100, score=0.8201545333333333, known_r_ratio=0.9523809523809523)), ('직장', NounScore_v1(frequency=98, score=0.8036440416666668, known_r_ratio=0.6)), ('성장', NounScore_v1(frequency=89, score=0.82514606122449, known_r_ratio=0.7424242424242424)), ('급여', NounScore_v1(frequency=78, score=0.885065894736842, known_r_ratio=1.0)), ('근무', NounScore_v1(frequency=98, score=0.6695826734693877, known_r_ratio=0.8032786885245902)), ('가능', NounScore_v1(frequency=66, score=0.9900018518518517, known_r_ratio=0.38028169014084506)), ('연봉', NounScore_v1(frequency=105, score=0.6179340847457627, known_r_ratio=0.9833333333333333)), ('체계', NounScore_v1(frequency=71, score=0.8601581272727273, known_r_ratio=0.8208955223880597)), ('직원', NounScore_v1(frequency=112, score=0.532330397260274, known_r_ratio=0.437125748502994)), ('경력', NounScore_v1(frequency=81, score=0.7276091142857143, known_r_ratio=0.813953488372093)), ('좋아', NounScore_v1(frequency=59, score=0.9856713333333333, known_r_ratio=0.46153846153846156)), ('최고', NounScore_v1(frequency=59, score=0.9599985675675676, known_r_ratio=0.9024390243902439)), ('자유', NounScore_v1(frequency=53, score=0.9876255, known_r_ratio=0.9803921568627451)), ('본인', NounScore_v1(frequency=54, score=0.950753431818182, known_r_ratio=0.9565217391304348)), ('신입', NounScore_v1(frequency=53, score=0.9180766216216216, known_r_ratio=0.8809523809523809)), ('공무원', NounScore_v1(frequency=58, score=0.8306296315789473, known_r_ratio=0.76)), ('개인', NounScore_v1(frequency=54, score=0.8825936470588234, known_r_ratio=0.5483870967741935)), ('조직', NounScore_v1(frequency=52, score=0.906847375, known_r_ratio=0.8421052631578947)), ('보수적', NounScore_v1(frequency=47, score=0.99872775, known_r_ratio=0.41025641025641024)), ('환경', NounScore_v1(frequency=62, score=0.7568379999999999, known_r_ratio=0.7105263157894737)), ('분들', NounScore_v1(frequency=45, score=0.9687882499999999, known_r_ratio=1.0)), ('무난', NounScore_v1(frequency=43, score=0.9973780303030303, known_r_ratio=0.8048780487804879)), ('공공기관', NounScore_v1(frequency=47, score=0.8800223225806451, known_r_ratio=0.96875)), ('커리어', NounScore_v1(frequency=41, score=0.9996461304347826, known_r_ratio=1.0)), ('수평적', NounScore_v1(frequency=41, score=0.9993894285714287, known_r_ratio=0.25)), ('계약직', NounScore_v1(frequency=56, score=0.7247534750000001, known_r_ratio=0.9523809523809523)), ('업계', NounScore_v1(frequency=39, score=0.9991635384615385, known_r_ratio=1.0)), ('운영', NounScore_v1(frequency=42, score=0.9267602727272728, known_r_ratio=0.88)), ('사무실', NounScore_v1(frequency=43, score=0.8682798750000001, known_r_ratio=1.0)), ('시간', NounScore_v1(frequency=53, score=0.6983598484848486, known_r_ratio=0.9705882352941176)), ('부서', NounScore_v1(frequency=37, score=0.9954134375000001, known_r_ratio=0.7272727272727273)), ('위치', NounScore_v1(frequency=40, score=0.9067477857142857, known_r_ratio=0.9333333333333333)), ('하나', NounScore_v1(frequency=55, score=0.6539426153846155, known_r_ratio=1.0)), ('규모', NounScore_v1(frequency=38, score=0.9460005, known_r_ratio=1.0)), ('야근', NounScore_v1(frequency=42, score=0.8531559545454545, known_r_ratio=0.9565217391304348)), ('대우', NounScore_v1(frequency=50, score=0.69897, known_r_ratio=1.0)), ('필요', NounScore_v1(frequency=35, score=0.9942081764705882, known_r_ratio=0.68)), ('느낌', NounScore_v1(frequency=36, score=0.9662897333333333, known_r_ratio=0.75)), ('발전', NounScore_v1(frequency=71, score=0.4828800952380953, known_r_ratio=0.875)), ('대표', NounScore_v1(frequency=40, score=0.841425142857143, known_r_ratio=0.84)), ('이상', NounScore_v1(frequency=44, score=0.7558757142857144, known_r_ratio=0.875)), ('기회', NounScore_v1(frequency=38, score=0.8712305384615385, known_r_ratio=1.0)), ('때문', NounScore_v1(frequency=33, score=0.99972, known_r_ratio=0.9696969696969697)), ('노력', NounScore_v1(frequency=36, score=0.9154195384615382, known_r_ratio=0.8125)), ('부족', NounScore_v1(frequency=33, score=0.9952279545454544, known_r_ratio=0.7586206896551724)), ('입사', NounScore_v1(frequency=33, score=0.9922589523809525, known_r_ratio=0.84)), ('강도', NounScore_v1(frequency=57, score=0.5743960714285714, known_r_ratio=1.0)), ('능력', NounScore_v1(frequency=41, score=0.7734959499999998, known_r_ratio=1.0)), ('나름', NounScore_v1(frequency=31, score=0.9988021666666667, known_r_ratio=1.0)), ('적당', NounScore_v1(frequency=30, score=1.0, known_r_ratio=0.26666666666666666)), ('기관', NounScore_v1(frequency=30, score=0.9996954615384617, known_r_ratio=0.8125)), ('사업', NounScore_v1(frequency=54, score=0.5373659166666667, known_r_ratio=0.8372093023255814)), ('전반적', NounScore_v1(frequency=29, score=0.999725, known_r_ratio=0.5)), ('전문', NounScore_v1(frequency=29, score=0.9985295000000001, known_r_ratio=0.08333333333333333)), ('관련', NounScore_v1(frequency=29, score=0.9970383333333332, known_r_ratio=0.6)), ('공기업', NounScore_v1(frequency=33, score=0.8761182352941176, known_r_ratio=0.9444444444444444)), ('투자', NounScore_v1(frequency=29, score=0.9924412857142858, known_r_ratio=0.7777777777777778)), ('최악', NounScore_v1(frequency=28, score=0.9998325, known_r_ratio=0.75)), ('성과', NounScore_v1(frequency=28, score=0.9993260588235297, known_r_ratio=0.9444444444444444)), ('계속', NounScore_v1(frequency=28, score=0.995454, known_r_ratio=0.6666666666666666)), ('관심', NounScore_v1(frequency=27, score=0.999341, known_r_ratio=1.0)), ('은행', NounScore_v1(frequency=29, score=0.9287782857142856, known_r_ratio=0.6363636363636364)), ('장점', NounScore_v1(frequency=44, score=0.6073775172413793, known_r_ratio=0.9354838709677419)), ('구조', NounScore_v1(frequency=27, score=0.9878606363636365, known_r_ratio=0.7333333333333333)), ('만족', NounScore_v1(frequency=27, score=0.9833164615384615, known_r_ratio=0.5652173913043478)), ('워라밸', NounScore_v1(frequency=52, score=0.5089795625, known_r_ratio=1.0)), ('정도', NounScore_v1(frequency=48, score=0.5427975789473686, known_r_ratio=0.7916666666666666)), ('차이', NounScore_v1(frequency=26, score=0.999605, known_r_ratio=1.0)), ('외국계', NounScore_v1(frequency=26, score=0.9869042, known_r_ratio=1.0)), ('단점', NounScore_v1(frequency=34, score=0.747410423076923, known_r_ratio=0.896551724137931)), ('확실', NounScore_v1(frequency=25, score=0.9958933333333335, known_r_ratio=0.375)), ('정규직', NounScore_v1(frequency=36, score=0.6808497200000001, known_r_ratio=0.9615384615384616)), ('처음', NounScore_v1(frequency=24, score=0.9999088, known_r_ratio=1.0)), ('사회', NounScore_v1(frequency=24, score=0.999073875, known_r_ratio=0.7272727272727273)), ('경우', NounScore_v1(frequency=28, score=0.8473760714285714, known_r_ratio=1.0)), ('꼰대', NounScore_v1(frequency=24, score=0.9864900000000001, known_r_ratio=0.3076923076923077)), ('문제', NounScore_v1(frequency=27, score=0.8735781538461539, known_r_ratio=0.8125)), ('중소기업', NounScore_v1(frequency=26, score=0.8936144285714287, known_r_ratio=0.8235294117647058)), ('워라벨', NounScore_v1(frequency=40, score=0.5792950000000001, known_r_ratio=1.0)), ('굉장', NounScore_v1(frequency=23, score=1.0, known_r_ratio=0.043478260869565216)), ('지역', NounScore_v1(frequency=23, score=0.9996791999999999, known_r_ratio=0.8333333333333334)), ('퇴사', NounScore_v1(frequency=26, score=0.8720526923076923, known_r_ratio=0.7222222222222222)), ('서울', NounScore_v1(frequency=22, score=0.9996627142857143, known_r_ratio=0.6363636363636364)), ('보험', NounScore_v1(frequency=22, score=0.9994525000000001, known_r_ratio=0.2857142857142857)), ('보고', NounScore_v1(frequency=22, score=0.996245, known_r_ratio=1.0)), ('경영진', NounScore_v1(frequency=26, score=0.8305182105263158, known_r_ratio=0.9047619047619048)), ('업무량', NounScore_v1(frequency=30, score=0.7112065, known_r_ratio=1.0)), ('마인드', NounScore_v1(frequency=22, score=0.958863642857143, known_r_ratio=1.0))]\n"
     ]
    }
   ],
   "source": [
    "# 빈도수 * 명사점수 기준 상위 100개 단어\n",
    "sort_nouns2 = sorted(nouns.items(), key=lambda x:-x[1].frequency * x[1].score)[:100]\n",
    "print(sort_nouns2)"
   ]
  },
  {
   "cell_type": "code",
   "execution_count": 72,
   "id": "142d9e0a",
   "metadata": {},
   "outputs": [
    {
     "name": "stdout",
     "output_type": "stream",
     "text": [
      "\n",
      "    회사 (0.67)    업무 (0.86)    기업 (0.87)    다양 (1.00)    추천 (0.99)\n",
      "    복지 (0.96)   사람들 (0.92)    생각 (0.91)    사람 (0.53)   직원들 (0.85)\n",
      "    경험 (0.64)   안정적 (1.00)    문화 (0.82)    직장 (0.80)    성장 (0.83)\n",
      "    급여 (0.89)    근무 (0.67)    가능 (0.99)    연봉 (0.62)    체계 (0.86)\n",
      "    직원 (0.53)    경력 (0.73)    좋아 (0.99)    최고 (0.96)    자유 (0.99)\n",
      "    본인 (0.95)    신입 (0.92)   공무원 (0.83)    개인 (0.88)    조직 (0.91)\n",
      "   보수적 (1.00)    환경 (0.76)    분들 (0.97)    무난 (1.00)  공공기관 (0.88)\n",
      "   커리어 (1.00)   수평적 (1.00)   계약직 (0.72)    업계 (1.00)    운영 (0.93)\n",
      "   사무실 (0.87)    시간 (0.70)    부서 (1.00)    위치 (0.91)    하나 (0.65)\n",
      "    규모 (0.95)    야근 (0.85)    대우 (0.70)    필요 (0.99)    느낌 (0.97)\n",
      "    발전 (0.48)    대표 (0.84)    이상 (0.76)    기회 (0.87)    때문 (1.00)\n",
      "    노력 (0.92)    부족 (1.00)    입사 (0.99)    강도 (0.57)    능력 (0.77)\n",
      "    나름 (1.00)    적당 (1.00)    기관 (1.00)    사업 (0.54)   전반적 (1.00)\n",
      "    전문 (1.00)    관련 (1.00)   공기업 (0.88)    투자 (0.99)    최악 (1.00)\n",
      "    성과 (1.00)    계속 (1.00)    관심 (1.00)    은행 (0.93)    장점 (0.61)\n",
      "    구조 (0.99)    만족 (0.98)   워라밸 (0.51)    정도 (0.54)    차이 (1.00)\n",
      "   외국계 (0.99)    단점 (0.75)    확실 (1.00)   정규직 (0.68)    처음 (1.00)\n",
      "    사회 (1.00)    경우 (0.85)    꼰대 (0.99)    문제 (0.87)  중소기업 (0.89)\n",
      "   워라벨 (0.58)    굉장 (1.00)    지역 (1.00)    퇴사 (0.87)    서울 (1.00)\n",
      "    보험 (1.00)    보고 (1.00)   경영진 (0.83)   업무량 (0.71)   마인드 (0.96)"
     ]
    }
   ],
   "source": [
    "# 빈도수 * 명사점수 기준 상위 100개 단어 확인\n",
    "for i, (word, score) in enumerate(sort_nouns2):\n",
    "    if i % 5 ==0:\n",
    "        print()\n",
    "    print('%6s (%.2f)' % (word, score.score), end = '')\n",
    "f.close()"
   ]
  },
  {
   "cell_type": "markdown",
   "id": "d1b3f285",
   "metadata": {},
   "source": [
    "## 2) NewsNounExtractor\n",
    "#### 뉴스 데이터에서 더 좋은 성능을 내기 위해 여러가지 후처리 과정이 추가된 명사 추출기 적용"
   ]
  },
  {
   "cell_type": "code",
   "execution_count": 73,
   "id": "b746adfc",
   "metadata": {},
   "outputs": [
    {
     "name": "stdout",
     "output_type": "stream",
     "text": [
      "used default noun predictor; Sejong corpus based logistic predictor\n",
      "C:/Users/hsmy1/Anaconda3/envs/py37/lib/site-packages/soynlp\n",
      "local variable 'f' referenced before assignment\n",
      "local variable 'f' referenced before assignment\n"
     ]
    }
   ],
   "source": [
    "from soynlp.noun import NewsNounExtractor\n",
    "\n",
    "noun_extractor = NewsNounExtractor(\n",
    "    max_left_length=10, \n",
    "    max_right_length=7,\n",
    "    predictor_fnames=None,\n",
    "    verbose=True\n",
    ")"
   ]
  },
  {
   "cell_type": "code",
   "execution_count": 74,
   "id": "b02ef084",
   "metadata": {},
   "outputs": [
    {
     "name": "stdout",
     "output_type": "stream",
     "text": [
      "scan vocabulary ... \n",
      "done (Lset, Rset, Eojeol) = (20648, 10987, 11929)\n",
      "predicting noun score was done                                        \n",
      "before postprocessing 3439\n",
      "_noun_scores_ 1029\n",
      "checking hardrules ... done / 1029떡볶+(이)), NVsubE (사기(당)+했다) ... done\n",
      "after postprocessing 649\n",
      "extracted 1 compounds from eojeolss ... 1000 / 1079"
     ]
    }
   ],
   "source": [
    "nouns = noun_extractor.train_extract(sentences)"
   ]
  },
  {
   "cell_type": "code",
   "execution_count": 75,
   "id": "6db79f07",
   "metadata": {},
   "outputs": [
    {
     "name": "stdout",
     "output_type": "stream",
     "text": [
      "word: 공공기관, score: 0.90, frequency: 62.00\n",
      "word: 워라밸, score: 0.51, frequency: 52.00\n",
      "word: 분위기, score: 0.51, frequency: 266.00\n",
      "word: 야근, score: 0.85, frequency: 48.00\n",
      "word: 꼰대, score: 0.67, frequency: 29.00\n"
     ]
    }
   ],
   "source": [
    "# 각 단어별 점수 및 빈도수 확인\n",
    "words = ['공공기관', '워라밸', '분위기', '야근', '꼰대']\n",
    "\n",
    "for word in words:\n",
    "    if not word in nouns:\n",
    "        continue\n",
    "    score = nouns[word]\n",
    "    print('word: %s, score: %.2f, frequency: %.2f' % (word, score.score, score.frequency))"
   ]
  },
  {
   "cell_type": "markdown",
   "id": "f48329ff",
   "metadata": {},
   "source": [
    "### 각 산업군별 차이를 확인하기 위해 각 산업군별 리뷰 학습 실행"
   ]
  },
  {
   "cell_type": "code",
   "execution_count": 76,
   "id": "29d3581c",
   "metadata": {},
   "outputs": [
    {
     "data": {
      "text/plain": [
       "774"
      ]
     },
     "execution_count": 76,
     "metadata": {},
     "output_type": "execute_result"
    }
   ],
   "source": [
    "corpus_fname1 = 'review_1.txt'\n",
    "sentences1 = DoublespaceLineCorpus(corpus_fname1, iter_sent=True)\n",
    "len(sentences1)"
   ]
  },
  {
   "cell_type": "code",
   "execution_count": 77,
   "id": "88f6da0f",
   "metadata": {},
   "outputs": [
    {
     "data": {
      "text/plain": [
       "1064"
      ]
     },
     "execution_count": 77,
     "metadata": {},
     "output_type": "execute_result"
    }
   ],
   "source": [
    "corpus_fname2 = 'review_2.txt'\n",
    "sentences2 = DoublespaceLineCorpus(corpus_fname2, iter_sent=True)\n",
    "len(sentences2)"
   ]
  },
  {
   "cell_type": "code",
   "execution_count": 78,
   "id": "246b66b9",
   "metadata": {},
   "outputs": [
    {
     "data": {
      "text/plain": [
       "345"
      ]
     },
     "execution_count": 78,
     "metadata": {},
     "output_type": "execute_result"
    }
   ],
   "source": [
    "corpus_fname3 = 'review_3.txt'\n",
    "sentences3 = DoublespaceLineCorpus(corpus_fname3, iter_sent=True)\n",
    "len(sentences3)"
   ]
  },
  {
   "cell_type": "code",
   "execution_count": 79,
   "id": "c92bd568",
   "metadata": {},
   "outputs": [
    {
     "data": {
      "text/plain": [
       "374"
      ]
     },
     "execution_count": 79,
     "metadata": {},
     "output_type": "execute_result"
    }
   ],
   "source": [
    "corpus_fname4 = 'review_4.txt'\n",
    "sentences4 = DoublespaceLineCorpus(corpus_fname4, iter_sent=True)\n",
    "len(sentences4)"
   ]
  },
  {
   "cell_type": "code",
   "execution_count": 80,
   "id": "e7b2358d",
   "metadata": {},
   "outputs": [],
   "source": [
    "# 리뷰 개수가 적은 산업군을 감안하여 최소 빈도수를 15로 조정\n",
    "def nounextractor(sent):\n",
    "    noun_extractor = LRNounExtractor(\n",
    "    max_left_length = 10, \n",
    "    max_right_length = 7,\n",
    "    predictor_fnames = None,\n",
    "    verbose = True\n",
    "    )\n",
    "    \n",
    "    nouns = noun_extractor.train_extract(\n",
    "        sent,\n",
    "        min_noun_score=0.3,\n",
    "        min_noun_frequency=15\n",
    "    )\n",
    "\n",
    "    # 빈도수 * 명사점수 기준 상위 100개 단어\n",
    "    sort_nouns = sorted(nouns.items(), key=lambda x:-x[1].frequency * x[1].score)[:100]\n",
    "\n",
    "    for i, (word, score) in enumerate(sort_nouns):\n",
    "        if i % 5 ==0:\n",
    "            print()\n",
    "        print('%6s (%.2f, %.2f)' % (word, score.frequency, score.score), end = '')"
   ]
  },
  {
   "cell_type": "code",
   "execution_count": 81,
   "id": "ac1d41f1",
   "metadata": {},
   "outputs": [
    {
     "name": "stdout",
     "output_type": "stream",
     "text": [
      "[Noun Extractor] used default noun predictor; Sejong corpus predictor\n",
      "[Noun Extractor] used noun_predictor_sejong\n",
      "[Noun Extractor] All 2398 r features was loaded\n",
      "\r",
      "[Noun Extractor] scanning was done (L,R) has (276, 139) tokens\n",
      "\r",
      "[Noun Extractor] building L-R graph was done\n",
      "[Noun Extractor] 59 nouns are extracted\n",
      "\n",
      "    업무 (130.00, 0.82)   분위기 (73.00, 1.00)    회사 (77.00, 0.53)    다양 (40.00, 1.00)   공무원 (48.00, 0.80)\n",
      "    복지 (39.00, 0.98)    경험 (56.00, 0.68)    직장 (43.00, 0.87)    근무 (48.00, 0.76)   계약직 (43.00, 0.82)\n",
      "    기업 (33.00, 1.00)   사람들 (38.00, 0.86)    생각 (37.00, 0.88)  공공기관 (37.00, 0.83)    추천 (30.00, 0.99)\n",
      "   안정적 (29.00, 1.00)    기관 (26.00, 1.00)    가능 (25.00, 0.99)    급여 (26.00, 0.92)    조직 (26.00, 0.88)\n",
      "    강도 (24.00, 0.91)   공기업 (22.00, 0.95)    사람 (56.00, 0.37)    환경 (25.00, 0.80)   직원들 (21.00, 0.83)\n",
      "    좋아 (17.00, 0.98)    경력 (19.00, 0.85)    서울 (16.00, 1.00)    문화 (24.00, 0.66)    만족 (16.00, 0.99)\n",
      "    체계 (19.00, 0.76)   정규직 (20.00, 0.72)   워라밸 (23.00, 0.62)    관련 (14.00, 1.00)    개인 (14.00, 1.00)\n",
      "    지역 (13.00, 1.00)    사회 (13.00, 1.00)    본인 (15.00, 0.87)    문제 (13.00, 1.00)    시간 (16.00, 0.78)\n",
      "    자유 (13.00, 0.95)    장점 (20.00, 0.60)    눈치 (14.00, 0.79)    분들 (11.00, 1.00)    부서 (11.00, 0.99)\n",
      "    사업 (18.00, 0.60)    위치 (13.00, 0.83)    연봉 (15.00, 0.70)    하나 (15.00, 0.69)    직원 (20.00, 0.50)\n",
      "    민원 (12.00, 0.79)    단점 (14.00, 0.66)    연구 (9.00, 0.94)    보람 (12.00, 0.68)   워라벨 (17.00, 0.47)\n",
      "  근무환경 (15.00, 0.47)    지방 (7.00, 1.00)    행정 (7.00, 0.46)    보장 (9.00, 0.35)"
     ]
    }
   ],
   "source": [
    "nounextractor(sentences1)"
   ]
  },
  {
   "cell_type": "code",
   "execution_count": 82,
   "id": "6a70884e",
   "metadata": {},
   "outputs": [
    {
     "name": "stdout",
     "output_type": "stream",
     "text": [
      "[Noun Extractor] used default noun predictor; Sejong corpus predictor\n",
      "[Noun Extractor] used noun_predictor_sejong\n",
      "[Noun Extractor] All 2398 r features was loaded\n",
      "[Noun Extractor] scanning was done (L,R) has (396, 197) tokens\n",
      "[Noun Extractor] building L-R graph was done\n",
      "[Noun Extractor] 86 nouns are extracted\n",
      "\n",
      "    회사 (387.00, 0.66)    업무 (139.00, 0.92)   분위기 (100.00, 1.00)    기업 (98.00, 0.88)   사람들 (64.00, 0.93)\n",
      "    문화 (58.00, 0.87)    추천 (51.00, 0.98)    다양 (50.00, 1.00)    생각 (52.00, 0.92)    복지 (51.00, 0.94)\n",
      "    연봉 (67.00, 0.69)    성장 (55.00, 0.83)   안정적 (43.00, 1.00)    사람 (69.00, 0.62)   직원들 (48.00, 0.81)\n",
      "    최고 (37.00, 0.93)   보수적 (31.00, 1.00)    급여 (33.00, 0.85)    은행 (30.00, 0.93)    체계 (28.00, 0.97)\n",
      "    본인 (27.00, 0.98)    투자 (26.00, 0.99)    경험 (40.00, 0.63)    직원 (41.00, 0.59)    경력 (33.00, 0.73)\n",
      "   커리어 (24.00, 1.00)    업계 (24.00, 1.00)    규모 (26.00, 0.92)    직장 (39.00, 0.59)    기회 (23.00, 0.99)\n",
      "    가능 (23.00, 0.99)    무난 (22.00, 1.00)    조직 (24.00, 0.91)    근무 (31.00, 0.69)    개인 (21.00, 1.00)\n",
      "    좋아 (21.00, 0.99)   외국계 (21.00, 0.98)    운영 (21.00, 0.95)    가족 (20.00, 1.00)   수평적 (20.00, 1.00)\n",
      "    성과 (20.00, 1.00)    하나 (26.00, 0.75)    분들 (20.00, 0.96)    대우 (27.00, 0.71)    정도 (22.00, 0.84)\n",
      "    발전 (37.00, 0.49)    보험 (18.00, 1.00)    적당 (17.00, 1.00)    대표 (20.00, 0.84)    이상 (20.00, 0.81)\n",
      "    시간 (25.00, 0.64)    능력 (23.00, 0.66)    실적 (16.00, 0.95)    그만 (15.00, 1.00)    필요 (15.00, 0.99)\n",
      "  기업문화 (15.00, 0.94)    부족 (14.00, 1.00)    환경 (16.00, 0.86)  스트레스 (17.00, 0.81)    야근 (16.00, 0.85)\n",
      "    장점 (17.00, 0.78)    위치 (15.00, 0.88)    자유 (13.00, 1.00)    영업 (23.00, 0.56)    입사 (12.00, 0.99)\n",
      "    사업 (17.00, 0.67)    자체 (20.00, 0.56)    수준 (19.00, 0.59)   워라밸 (24.00, 0.47)   가능성 (26.00, 0.42)\n",
      "    노력 (12.00, 0.87)    욕심 (16.00, 0.65)    보장 (15.00, 0.68)    증권 (10.00, 1.00)    지원 (12.00, 0.83)\n",
      "    역량 (15.00, 0.65)    신입 (13.00, 0.73)    경영 (11.00, 0.83)    부서 (9.00, 1.00)    보상 (13.00, 0.67)\n",
      "    만족 (9.00, 0.97)    개발 (16.00, 0.50)    퇴사 (9.00, 0.67)    보수 (6.00, 1.00)    자산 (7.00, 0.83)\n",
      "    안정 (6.00, 0.75)"
     ]
    }
   ],
   "source": [
    "nounextractor(sentences2)"
   ]
  },
  {
   "cell_type": "code",
   "execution_count": 83,
   "id": "3c1a0690",
   "metadata": {},
   "outputs": [
    {
     "name": "stdout",
     "output_type": "stream",
     "text": [
      "[Noun Extractor] used default noun predictor; Sejong corpus predictor\n",
      "[Noun Extractor] used noun_predictor_sejong\n",
      "[Noun Extractor] All 2398 r features was loaded\n",
      "\r",
      "[Noun Extractor] scanning was done (L,R) has (114, 65) tokens\n",
      "\r",
      "[Noun Extractor] building L-R graph was done\n",
      "[Noun Extractor] 16 nouns are extracted\n",
      "\n",
      "    회사 (144.00, 0.80)    기업 (49.00, 0.71)    업무 (41.00, 0.74)    직원 (31.00, 0.73)    다양 (22.00, 1.00)\n",
      "    개발 (28.00, 0.75)    복지 (21.00, 0.95)    경험 (19.00, 0.64)    성장 (16.00, 0.69)    생각 (11.00, 0.94)\n",
      "    사람 (22.00, 0.44)    가능 (9.00, 1.00)    대우 (9.00, 1.00)    연봉 (16.00, 0.47)    사업 (12.00, 0.59)\n",
      "    근무 (8.00, 0.63)"
     ]
    }
   ],
   "source": [
    "nounextractor(sentences3)"
   ]
  },
  {
   "cell_type": "code",
   "execution_count": 84,
   "id": "fb07f486",
   "metadata": {},
   "outputs": [
    {
     "name": "stdout",
     "output_type": "stream",
     "text": [
      "[Noun Extractor] used default noun predictor; Sejong corpus predictor\n",
      "[Noun Extractor] used noun_predictor_sejong\n",
      "[Noun Extractor] All 2398 r features was loaded\n",
      "\r",
      "[Noun Extractor] scanning was done (L,R) has (128, 70) tokens\n",
      "\r",
      "[Noun Extractor] building L-R graph was done\n",
      "[Noun Extractor] 19 nouns are extracted\n",
      "\n",
      "    회사 (98.00, 0.54)    업무 (50.00, 0.91)    다양 (33.00, 1.00)    사람 (46.00, 0.71)   사무실 (27.00, 1.00)\n",
      "    신입 (23.00, 0.99)   사람들 (22.00, 0.97)    복지 (20.00, 1.00)   직원들 (19.00, 0.96)    추천 (18.00, 0.99)\n",
      "    야근 (14.00, 1.00)   회계사 (14.00, 0.98)    경력 (18.00, 0.72)    직원 (30.00, 0.42)   거래처 (16.00, 0.74)\n",
      "    경험 (18.00, 0.58)    입사 (10.00, 0.99)    생각 (7.00, 0.80)    개인 (12.00, 0.34)"
     ]
    }
   ],
   "source": [
    "nounextractor(sentences4)"
   ]
  },
  {
   "cell_type": "code",
   "execution_count": null,
   "id": "f3ad96fd",
   "metadata": {},
   "outputs": [],
   "source": []
  }
 ],
 "metadata": {
  "kernelspec": {
   "display_name": "python3.7",
   "language": "python",
   "name": "py37"
  },
  "language_info": {
   "codemirror_mode": {
    "name": "ipython",
    "version": 3
   },
   "file_extension": ".py",
   "mimetype": "text/x-python",
   "name": "python",
   "nbconvert_exporter": "python",
   "pygments_lexer": "ipython3",
   "version": "3.7.11"
  }
 },
 "nbformat": 4,
 "nbformat_minor": 5
}
