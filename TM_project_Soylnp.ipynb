{
 "cells": [
  {
   "cell_type": "code",
   "execution_count": 1,
   "id": "723df9b7",
   "metadata": {},
   "outputs": [],
   "source": [
    "import requests, time, re\n",
    "from bs4 import BeautifulSoup\n",
    "import pandas as pd\n",
    "\n",
    "from pykospacing import Spacing\n",
    "from hanspell import spell_checker"
   ]
  },
  {
   "cell_type": "markdown",
   "id": "fb93a768",
   "metadata": {},
   "source": [
    "# 리뷰 스크래핑"
   ]
  },
  {
   "cell_type": "code",
   "execution_count": 2,
   "id": "50c0f0eb",
   "metadata": {},
   "outputs": [],
   "source": [
    "# 잡플래닛 로그인 url\n",
    "url = \"https://www.jobplanet.co.kr/users/sign_in?_nav=gb\"\n",
    "user_agent = 'Mozilla/5.0 (Windows NT 10.0; Win64; x64) AppleWebKit/537.36 (KHTML, like Gecko) Chrome/78.0.3904.97 Safari/537.36'\n",
    "headers = {'Content-type': 'application/json', 'Accept': 'text/plain', 'User-Agent':user_agent}\n",
    "login_data = {'user':{'email':'hsmy31@hanyang.ac.kr', 'password':'rhkwpgksmswnd!', 'remember_me':'true'}}\n",
    "session = requests.session()\n",
    "\n",
    "# 로그인 실행\n",
    "login_response = session.post(url, json = login_data, headers = headers)\n",
    "\n",
    "reviews = []"
   ]
  },
  {
   "cell_type": "code",
   "execution_count": 3,
   "id": "1bec9fa6",
   "metadata": {},
   "outputs": [],
   "source": [
    "# 1.정부/공공기관/공기업(1001), 2.은행/금융업(900), 3.네트워크/통신/모바일(704), 4.세무/회계(1004)\n",
    "codes = ['1001', '900', '704', '1004']"
   ]
  },
  {
   "cell_type": "code",
   "execution_count": 19,
   "id": "d7b6eb9a",
   "metadata": {},
   "outputs": [],
   "source": [
    "# 리뷰를 txt파일로 저장\n",
    "f = open('review_train.txt', 'w', encoding = 'utf-8')\n",
    "reviews = {}\n",
    "\n",
    "for code in codes:\n",
    "    url = \"https://www.jobplanet.co.kr/reviews?&industry_id=\" + str(code)\n",
    "    response =  session.get(url)\n",
    "    soup = BeautifulSoup(response.text, 'html.parser')\n",
    "    num = soup.find('span', class_='num') # 리뷰 개수 확인\n",
    "    num = int(num.get_text().strip())\n",
    "    import math\n",
    "    pages = math.ceil(num / 10) # 한 페이지당 리뷰 10개로 구성됨\n",
    "    \n",
    "    for i in range(1, pages + 2): # 전체 페이지의 리뷰 추출\n",
    "        time.sleep(1)\n",
    "        url = \"https://www.jobplanet.co.kr/reviews?&industry_id=\" + str(code) + \"&page=\"+ str(i)\n",
    "        response =  session.get(url)\n",
    "        soup = BeautifulSoup(response.text, 'html.parser')\n",
    "        label = soup.find_all('h2', class_=\"us_label\") # 한 줄 리뷰 추출\n",
    "        \n",
    "        # 추출한 리뷰에서 태그를 제외한 텍스트만 추출하여 labels 리스트에 저장\n",
    "        labels = [label.get_text().replace('\\r', ' ') for label in label[:]]   \n",
    "        # 별점이 포함된 div 추출\n",
    "        star = soup.find_all('div', class_=\"star_score\") \n",
    "        # 추출한 div에서 별점을 나타내는 width 속성의 숫자로 된 부분을 stars 리스트에 저장\n",
    "        stars = re.findall('[0-9]+[.]+[0-9]', str(star))\n",
    "        \n",
    "        # txt파일에 리뷰 쓰기\n",
    "        for j in labels:\n",
    "            f.write(j[5:-1] + '  ')\n",
    "        \n",
    "        # reviews 딕셔너리에 '리뷰: 별점' 형식으로 추가\n",
    "        for k in range(len(labels)):\n",
    "            reviews[labels[k][5:-1]] = stars[k].replace('.0','')\n",
    "    f.write('\\n')\n",
    "            \n",
    "f.close()"
   ]
  },
  {
   "cell_type": "code",
   "execution_count": 20,
   "id": "306eced7",
   "metadata": {},
   "outputs": [
    {
     "data": {
      "text/plain": [
       "2546"
      ]
     },
     "execution_count": 20,
     "metadata": {},
     "output_type": "execute_result"
    }
   ],
   "source": [
    "len(reviews)"
   ]
  },
  {
   "cell_type": "code",
   "execution_count": 21,
   "id": "dfbdc169",
   "metadata": {},
   "outputs": [
    {
     "name": "stdout",
     "output_type": "stream",
     "text": [
      "4\n"
     ]
    }
   ],
   "source": [
    "with open('review_train.txt', 'r', encoding = 'utf-8') as f:\n",
    "    print(len(f.readlines()))"
   ]
  },
  {
   "cell_type": "markdown",
   "id": "02db7be1",
   "metadata": {},
   "source": [
    "####  review_train.txt는 하나의 산업군 리뷰 전체를 한 줄로 스크래핑하여 총 4문장으로 이루어져 있음\n",
    " - 각 리뷰는 '  '로 구분됨\n",
    " - 이는 soynlp를 실행하는데 적합하도록 한 것임\n",
    " \n",
    "#### 전체 산업군과 별도로 각각의 산업군별로 분석하기 위해 텍스트 파일을 4개로 분할\n"
   ]
  },
  {
   "cell_type": "code",
   "execution_count": 34,
   "id": "83ce2c12",
   "metadata": {},
   "outputs": [],
   "source": [
    "with open('review_train.txt', 'r', encoding = 'utf-8') as f :\n",
    "    data = f.read().split('\\n')\n",
    "    for i in range(4):\n",
    "        a = 1 + i\n",
    "        with open(f'review_{a}.txt', 'w+', encoding = 'utf-8') as txt:\n",
    "            txt.write(data[i]) "
   ]
  },
  {
   "cell_type": "markdown",
   "id": "d8ce8a9c",
   "metadata": {},
   "source": [
    "# soynlp의 명사추출기 적용\n",
    "#### - L + [R]의 bipartite graph의 정보를 이용하여 해당 단어가 명사인지 아닌지 판단\n",
    "#### - 명사 가능 점수의 범위: [-1, 1]"
   ]
  },
  {
   "cell_type": "code",
   "execution_count": 2,
   "id": "7ab11985",
   "metadata": {},
   "outputs": [],
   "source": [
    "import urllib.request\n",
    "from soynlp import DoublespaceLineCorpus\n",
    "from soynlp.word import WordExtractor"
   ]
  },
  {
   "cell_type": "code",
   "execution_count": 3,
   "id": "b071548b",
   "metadata": {},
   "outputs": [
    {
     "data": {
      "text/plain": [
       "2669"
      ]
     },
     "execution_count": 3,
     "metadata": {},
     "output_type": "execute_result"
    }
   ],
   "source": [
    "from soynlp.utils import DoublespaceLineCorpus\n",
    "\n",
    "corpus_fname = 'review_train.txt'\n",
    "sentences = DoublespaceLineCorpus(corpus_fname, iter_sent=True)\n",
    "len(sentences)"
   ]
  },
  {
   "cell_type": "markdown",
   "id": "507c68ce",
   "metadata": {},
   "source": [
    "## 1. LRNounExtractor"
   ]
  },
  {
   "cell_type": "code",
   "execution_count": 4,
   "id": "8ce945c8",
   "metadata": {},
   "outputs": [
    {
     "name": "stdout",
     "output_type": "stream",
     "text": [
      "[Noun Extractor] used default noun predictor; Sejong corpus predictor\n",
      "[Noun Extractor] used noun_predictor_sejong\n",
      "[Noun Extractor] All 2398 r features was loaded\n"
     ]
    }
   ],
   "source": [
    "from soynlp.noun import LRNounExtractor\n",
    "\n",
    "noun_extractor = LRNounExtractor(\n",
    "    max_left_length = 10, \n",
    "    max_right_length = 7,\n",
    "    predictor_fnames = None,\n",
    "    verbose = True\n",
    ")"
   ]
  },
  {
   "cell_type": "code",
   "execution_count": 5,
   "id": "0fcd56c7",
   "metadata": {},
   "outputs": [
    {
     "name": "stdout",
     "output_type": "stream",
     "text": [
      "\r",
      "[Noun Extractor] scanning was done (L,R) has (612, 331) tokens\n",
      "\r",
      "[Noun Extractor] building L-R graph was done\n",
      "[Noun Extractor] 168 nouns are extracted\n",
      "Wall time: 349 ms\n"
     ]
    }
   ],
   "source": [
    "%%time\n",
    "nouns = noun_extractor.train_extract(\n",
    "    sentences,\n",
    "    min_noun_score=0.3,\n",
    "    min_noun_frequency=20\n",
    ")"
   ]
  },
  {
   "cell_type": "code",
   "execution_count": 6,
   "id": "cc1040ac",
   "metadata": {
    "scrolled": true
   },
   "outputs": [
    {
     "name": "stdout",
     "output_type": "stream",
     "text": [
      "[('적당', NounScore_v1(frequency=23, score=1.0, known_r_ratio=0.13043478260869565)), ('굉장', NounScore_v1(frequency=20, score=1.0, known_r_ratio=0.05)), ('그만', NounScore_v1(frequency=23, score=1.0, known_r_ratio=0.045454545454545456)), ('다닐만', NounScore_v1(frequency=18, score=1.0, known_r_ratio=1.0)), ('처음', NounScore_v1(frequency=20, score=0.999943, known_r_ratio=1.0)), ('공공', NounScore_v1(frequency=2, score=0.999913, known_r_ratio=0.07142857142857142)), ('회계', NounScore_v1(frequency=5, score=0.999913, known_r_ratio=0.09090909090909091)), ('최악', NounScore_v1(frequency=21, score=0.9998325, known_r_ratio=0.8)), ('전반적', NounScore_v1(frequency=29, score=0.999725, known_r_ratio=0.5357142857142857)), ('보험', NounScore_v1(frequency=12, score=0.99972, known_r_ratio=0.2)), ('때문', NounScore_v1(frequency=26, score=0.99972, known_r_ratio=0.9615384615384616)), ('전반', NounScore_v1(frequency=2, score=0.99972, known_r_ratio=0.03333333333333333)), ('외국', NounScore_v1(frequency=3, score=0.999707, known_r_ratio=0.058823529411764705)), ('기관', NounScore_v1(frequency=25, score=0.9996811666666668, known_r_ratio=0.8)), ('서울', NounScore_v1(frequency=20, score=0.999669875, known_r_ratio=0.6666666666666666)), ('커리어', NounScore_v1(frequency=37, score=0.9996522999999998, known_r_ratio=1.0)), ('지역', NounScore_v1(frequency=14, score=0.9996480000000001, known_r_ratio=0.75)), ('성과', NounScore_v1(frequency=20, score=0.9995907142857143, known_r_ratio=0.9333333333333333)), ('분야', NounScore_v1(frequency=18, score=0.9995753076923077, known_r_ratio=1.0)), ('대부분', NounScore_v1(frequency=21, score=0.9995501666666665, known_r_ratio=0.75)), ('다양', NounScore_v1(frequency=139, score=0.9994220367647055, known_r_ratio=0.9784172661870504)), ('업계', NounScore_v1(frequency=29, score=0.9994023076923078, known_r_ratio=1.0)), ('수평적', NounScore_v1(frequency=33, score=0.9993894285714287, known_r_ratio=0.2916666666666667)), ('안정적', NounScore_v1(frequency=80, score=0.999177525, known_r_ratio=0.5194805194805194)), ('사회', NounScore_v1(frequency=15, score=0.9990562857142857, known_r_ratio=0.7)), ('대체', NounScore_v1(frequency=20, score=0.99883, known_r_ratio=0.35294117647058826)), ('나름', NounScore_v1(frequency=35, score=0.9988021666666667, known_r_ratio=1.0)), ('보수적', NounScore_v1(frequency=44, score=0.99872775, known_r_ratio=0.41025641025641024)), ('지방', NounScore_v1(frequency=7, score=0.998596, known_r_ratio=0.5)), ('수직적', NounScore_v1(frequency=19, score=0.9985465000000001, known_r_ratio=0.375)), ('전문', NounScore_v1(frequency=23, score=0.9985295000000001, known_r_ratio=0.1)), ('있는곳', NounScore_v1(frequency=29, score=0.9982176666666667, known_r_ratio=1.0)), ('편안', NounScore_v1(frequency=18, score=0.9978230555555556, known_r_ratio=1.0)), ('관련', NounScore_v1(frequency=17, score=0.997796, known_r_ratio=0.5714285714285714)), ('싶은', NounScore_v1(frequency=39, score=0.997693, known_r_ratio=0.6666666666666666)), ('확실', NounScore_v1(frequency=24, score=0.9975695, known_r_ratio=0.36363636363636365)), ('무난', NounScore_v1(frequency=40, score=0.99716125, known_r_ratio=0.8421052631578947)), ('중요', NounScore_v1(frequency=16, score=0.9966682222222221, known_r_ratio=0.6)), ('비추', NounScore_v1(frequency=23, score=0.995534, known_r_ratio=0.07692307692307693)), ('계속', NounScore_v1(frequency=26, score=0.995454, known_r_ratio=0.5714285714285714)), ('부서', NounScore_v1(frequency=32, score=0.9950959333333336, known_r_ratio=0.6818181818181818)), ('부족', NounScore_v1(frequency=27, score=0.9944140555555556, known_r_ratio=0.75)), ('필요', NounScore_v1(frequency=27, score=0.9942776470588235, known_r_ratio=0.7391304347826086)), ('가능', NounScore_v1(frequency=55, score=0.9918861153846155, known_r_ratio=0.5777777777777777)), ('입사', NounScore_v1(frequency=30, score=0.9918343000000001, known_r_ratio=0.8695652173913043)), ('기대', NounScore_v1(frequency=18, score=0.9896127272727273, known_r_ratio=0.6470588235294118)), ('추천', NounScore_v1(frequency=115, score=0.9883593124999999, known_r_ratio=0.32)), ('꼰대', NounScore_v1(frequency=16, score=0.9871565, known_r_ratio=0.3076923076923077)), ('자유', NounScore_v1(frequency=51, score=0.9871098958333334, known_r_ratio=0.9795918367346939)), ('만족', NounScore_v1(frequency=21, score=0.9859994545454547, known_r_ratio=0.5789473684210527)), ('외국계', NounScore_v1(frequency=19, score=0.98363025, known_r_ratio=0.8)), ('구조', NounScore_v1(frequency=17, score=0.981761, known_r_ratio=0.7777777777777778)), ('좋아', NounScore_v1(frequency=42, score=0.9809645714285714, known_r_ratio=0.6363636363636364)), ('함께', NounScore_v1(frequency=30, score=0.9770833333333333, known_r_ratio=0.75)), ('최고', NounScore_v1(frequency=50, score=0.9599985675675676, known_r_ratio=0.9487179487179487)), ('시스템', NounScore_v1(frequency=21, score=0.9583085000000001, known_r_ratio=0.9230769230769231)), ('기업문화', NounScore_v1(frequency=23, score=0.95725075, known_r_ratio=0.8571428571428571)), ('마인드', NounScore_v1(frequency=20, score=0.9557208461538463, known_r_ratio=1.0)), ('분들', NounScore_v1(frequency=30, score=0.9552629599999999, known_r_ratio=1.0)), ('본인', NounScore_v1(frequency=52, score=0.9507378139534886, known_r_ratio=0.9555555555555556)), ('은행', NounScore_v1(frequency=25, score=0.937579125, known_r_ratio=0.6666666666666666)), ('출퇴근', NounScore_v1(frequency=18, score=0.937573125, known_r_ratio=0.8888888888888888)), ('기회', NounScore_v1(frequency=33, score=0.9340988518518519, known_r_ratio=1.0)), ('생각', NounScore_v1(frequency=117, score=0.9327781363636364, known_r_ratio=0.5892857142857143)), ('운영', NounScore_v1(frequency=28, score=0.9310459375000001, known_r_ratio=0.8421052631578947)), ('느낌', NounScore_v1(frequency=31, score=0.9286214285714286, known_r_ratio=0.7777777777777778)), ('중소기업', NounScore_v1(frequency=24, score=0.9235084615384618, known_r_ratio=0.8125)), ('복지', NounScore_v1(frequency=110, score=0.9164357058823529, known_r_ratio=1.0)), ('사람들', NounScore_v1(frequency=120, score=0.9160305, known_r_ratio=1.0)), ('노력', NounScore_v1(frequency=34, score=0.9159806538461539, known_r_ratio=0.7878787878787878)), ('신입', NounScore_v1(frequency=46, score=0.9133952857142859, known_r_ratio=0.9459459459459459)), ('도움', NounScore_v1(frequency=19, score=0.9034885625000001, known_r_ratio=0.9411764705882353)), ('개인', NounScore_v1(frequency=35, score=0.8993503749999999, known_r_ratio=0.5925925925925926)), ('위치', NounScore_v1(frequency=31, score=0.8956195499999999, known_r_ratio=0.9090909090909091)), ('규모', NounScore_v1(frequency=31, score=0.8896559655172415, known_r_ratio=1.0)), ('체계', NounScore_v1(frequency=67, score=0.8845420192307694, known_r_ratio=0.8125)), ('급여', NounScore_v1(frequency=65, score=0.8835767027027027, known_r_ratio=1.0)), ('미래', NounScore_v1(frequency=18, score=0.8832064285714286, known_r_ratio=0.9333333333333333)), ('조직', NounScore_v1(frequency=47, score=0.8831451176470588, known_r_ratio=0.7391304347826086)), ('기업', NounScore_v1(frequency=151, score=0.8827037500000001, known_r_ratio=0.5625)), ('업무', NounScore_v1(frequency=253, score=0.8790694967320261, known_r_ratio=0.9386503067484663)), ('가족', NounScore_v1(frequency=33, score=0.8763591176470588, known_r_ratio=0.5862068965517241)), ('어려움', NounScore_v1(frequency=23, score=0.8757356666666668, known_r_ratio=1.0)), ('공기업', NounScore_v1(frequency=31, score=0.868434125, known_r_ratio=1.0)), ('투자', NounScore_v1(frequency=26, score=0.859607153846154, known_r_ratio=0.7222222222222222)), ('지점', NounScore_v1(frequency=18, score=0.8579406428571428, known_r_ratio=0.9333333333333333)), ('공공기관', NounScore_v1(frequency=39, score=0.8570498076923077, known_r_ratio=1.0)), ('직원들', NounScore_v1(frequency=90, score=0.8537492068965518, known_r_ratio=0.9508196721311475)), ('문제', NounScore_v1(frequency=22, score=0.8508960909090909, known_r_ratio=0.7857142857142857)), ('관심', NounScore_v1(frequency=22, score=0.8501150000000001, known_r_ratio=1.0)), ('수준', NounScore_v1(frequency=21, score=0.8492748571428571, known_r_ratio=0.9333333333333333)), ('퇴사', NounScore_v1(frequency=22, score=0.8487895454545455, known_r_ratio=0.7333333333333333)), ('대표', NounScore_v1(frequency=35, score=0.841444619047619, known_r_ratio=0.9130434782608695)), ('문화', NounScore_v1(frequency=74, score=0.8340791190476192, known_r_ratio=0.9333333333333333)), ('사무실', NounScore_v1(frequency=33, score=0.8244960833333334, known_r_ratio=1.0)), ('이상', NounScore_v1(frequency=41, score=0.82308705, known_r_ratio=0.8)), ('관리', NounScore_v1(frequency=18, score=0.8135917272727273, known_r_ratio=0.7333333333333333)), ('경우', NounScore_v1(frequency=23, score=0.8062568181818183, known_r_ratio=1.0)), ('성장', NounScore_v1(frequency=74, score=0.8061842272727273, known_r_ratio=0.7213114754098361)), ('직장', NounScore_v1(frequency=83, score=0.802018, known_r_ratio=0.5588235294117647))]\n"
     ]
    }
   ],
   "source": [
    "# 빈도수 기준 상위 100개 단어\n",
    "sort_nouns1 = sorted(nouns.items(), key=lambda x:-x[1].score)[:100]\n",
    "print(sort_nouns1)"
   ]
  },
  {
   "cell_type": "code",
   "execution_count": 29,
   "id": "db6f827d",
   "metadata": {},
   "outputs": [
    {
     "name": "stdout",
     "output_type": "stream",
     "text": [
      "\n",
      "    적당 (1.00)    굉장 (1.00)    그만 (1.00)   다닐만 (1.00)    처음 (1.00)\n",
      "    공공 (1.00)    회계 (1.00)    최악 (1.00)   전반적 (1.00)    보험 (1.00)\n",
      "    때문 (1.00)    전반 (1.00)    외국 (1.00)    기관 (1.00)    서울 (1.00)\n",
      "   커리어 (1.00)    지역 (1.00)    성과 (1.00)    분야 (1.00)   대부분 (1.00)\n",
      "    다양 (1.00)    업계 (1.00)   수평적 (1.00)   안정적 (1.00)    사회 (1.00)\n",
      "    대체 (1.00)    나름 (1.00)   보수적 (1.00)    지방 (1.00)   수직적 (1.00)\n",
      "    전문 (1.00)   있는곳 (1.00)    편안 (1.00)    관련 (1.00)    싶은 (1.00)\n",
      "    확실 (1.00)    무난 (1.00)    중요 (1.00)    비추 (1.00)    계속 (1.00)\n",
      "    부서 (1.00)    부족 (0.99)    필요 (0.99)    가능 (0.99)    입사 (0.99)\n",
      "    기대 (0.99)    추천 (0.99)    꼰대 (0.99)    자유 (0.99)    만족 (0.99)\n",
      "   외국계 (0.98)    구조 (0.98)    좋아 (0.98)    함께 (0.98)    최고 (0.96)\n",
      "   시스템 (0.96)  기업문화 (0.96)   마인드 (0.96)    분들 (0.96)    본인 (0.95)\n",
      "    은행 (0.94)   출퇴근 (0.94)    기회 (0.93)    생각 (0.93)    운영 (0.93)\n",
      "    느낌 (0.93)  중소기업 (0.92)    복지 (0.92)   사람들 (0.92)    노력 (0.92)\n",
      "    신입 (0.91)    도움 (0.90)    개인 (0.90)    위치 (0.90)    규모 (0.89)\n",
      "    체계 (0.88)    급여 (0.88)    미래 (0.88)    조직 (0.88)    기업 (0.88)\n",
      "    업무 (0.88)    가족 (0.88)   어려움 (0.88)   공기업 (0.87)    투자 (0.86)\n",
      "    지점 (0.86)  공공기관 (0.86)   직원들 (0.85)    문제 (0.85)    관심 (0.85)\n",
      "    수준 (0.85)    퇴사 (0.85)    대표 (0.84)    문화 (0.83)   사무실 (0.82)\n",
      "    이상 (0.82)    관리 (0.81)    경우 (0.81)    성장 (0.81)    직장 (0.80)"
     ]
    }
   ],
   "source": [
    "# 빈도수 기준 상위 100개 단어를 words_top100_fq.txt로 저장 및 출력\n",
    "f = open('words_top100_fq.txt', 'w', encoding = 'utf-8')\n",
    "for i, (word, score) in enumerate(sort_nouns1):\n",
    "    f.write(sort_nouns1[i][0] + '  ')\n",
    "    if i % 5 ==0:\n",
    "        print()\n",
    "    print('%6s (%.2f)' % (word, score.score), end = '')\n",
    "f.close()"
   ]
  },
  {
   "cell_type": "code",
   "execution_count": 32,
   "id": "4afcaff5",
   "metadata": {
    "scrolled": true
   },
   "outputs": [
    {
     "name": "stdout",
     "output_type": "stream",
     "text": [
      "[('회사', NounScore_v1(frequency=597, score=0.6511768373493976, known_r_ratio=0.7685185185185185)), ('업무', NounScore_v1(frequency=253, score=0.8790694967320261, known_r_ratio=0.9386503067484663)), ('다양', NounScore_v1(frequency=139, score=0.9994220367647055, known_r_ratio=0.9784172661870504)), ('기업', NounScore_v1(frequency=151, score=0.8827037500000001, known_r_ratio=0.5625)), ('추천', NounScore_v1(frequency=115, score=0.9883593124999999, known_r_ratio=0.32)), ('사람들', NounScore_v1(frequency=120, score=0.9160305, known_r_ratio=1.0)), ('생각', NounScore_v1(frequency=117, score=0.9327781363636364, known_r_ratio=0.5892857142857143)), ('복지', NounScore_v1(frequency=110, score=0.9164357058823529, known_r_ratio=1.0)), ('사람', NounScore_v1(frequency=172, score=0.5357988633540373, known_r_ratio=0.6313725490196078)), ('안정적', NounScore_v1(frequency=80, score=0.999177525, known_r_ratio=0.5194805194805194)), ('직원들', NounScore_v1(frequency=90, score=0.8537492068965518, known_r_ratio=0.9508196721311475)), ('경험', NounScore_v1(frequency=112, score=0.6045810694444445, known_r_ratio=0.7128712871287128)), ('직장', NounScore_v1(frequency=83, score=0.802018, known_r_ratio=0.5588235294117647)), ('문화', NounScore_v1(frequency=74, score=0.8340791190476192, known_r_ratio=0.9333333333333333)), ('성장', NounScore_v1(frequency=74, score=0.8061842272727273, known_r_ratio=0.7213114754098361)), ('체계', NounScore_v1(frequency=67, score=0.8845420192307694, known_r_ratio=0.8125)), ('하는', NounScore_v1(frequency=88, score=0.6539166, known_r_ratio=0.5555555555555556)), ('급여', NounScore_v1(frequency=65, score=0.8835767027027027, known_r_ratio=1.0)), ('가능', NounScore_v1(frequency=55, score=0.9918861153846155, known_r_ratio=0.5777777777777777)), ('근무', NounScore_v1(frequency=77, score=0.6932508571428572, known_r_ratio=0.8076923076923077)), ('연봉', NounScore_v1(frequency=81, score=0.6247161090909091, known_r_ratio=0.9821428571428571)), ('자유', NounScore_v1(frequency=51, score=0.9871098958333334, known_r_ratio=0.9795918367346939)), ('본인', NounScore_v1(frequency=52, score=0.9507378139534886, known_r_ratio=0.9555555555555556)), ('경력', NounScore_v1(frequency=62, score=0.78004496875, known_r_ratio=0.8)), ('최고', NounScore_v1(frequency=50, score=0.9599985675675676, known_r_ratio=0.9487179487179487)), ('보수적', NounScore_v1(frequency=44, score=0.99872775, known_r_ratio=0.41025641025641024)), ('신입', NounScore_v1(frequency=46, score=0.9133952857142859, known_r_ratio=0.9459459459459459)), ('조직', NounScore_v1(frequency=47, score=0.8831451176470588, known_r_ratio=0.7391304347826086)), ('좋아', NounScore_v1(frequency=42, score=0.9809645714285714, known_r_ratio=0.6363636363636364)), ('직원', NounScore_v1(frequency=84, score=0.4839673278688524, known_r_ratio=0.41216216216216217)), ('무난', NounScore_v1(frequency=40, score=0.99716125, known_r_ratio=0.8421052631578947)), ('환경', NounScore_v1(frequency=53, score=0.7373919999999999, known_r_ratio=0.7352941176470589)), ('싶은', NounScore_v1(frequency=39, score=0.997693, known_r_ratio=0.6666666666666666)), ('공무원', NounScore_v1(frequency=49, score=0.7855177333333333, known_r_ratio=0.6818181818181818)), ('커리어', NounScore_v1(frequency=37, score=0.9996522999999998, known_r_ratio=1.0)), ('나름', NounScore_v1(frequency=35, score=0.9988021666666667, known_r_ratio=1.0)), ('이상', NounScore_v1(frequency=41, score=0.82308705, known_r_ratio=0.8)), ('계약직', NounScore_v1(frequency=50, score=0.6724248108108108, known_r_ratio=0.9487179487179487)), ('공공기관', NounScore_v1(frequency=39, score=0.8570498076923077, known_r_ratio=1.0)), ('수평적', NounScore_v1(frequency=33, score=0.9993894285714287, known_r_ratio=0.2916666666666667)), ('부서', NounScore_v1(frequency=32, score=0.9950959333333336, known_r_ratio=0.6818181818181818)), ('개인', NounScore_v1(frequency=35, score=0.8993503749999999, known_r_ratio=0.5925925925925926)), ('워라벨', NounScore_v1(frequency=49, score=0.6381968846153845, known_r_ratio=1.0)), ('노력', NounScore_v1(frequency=34, score=0.9159806538461539, known_r_ratio=0.7878787878787878)), ('기회', NounScore_v1(frequency=33, score=0.9340988518518519, known_r_ratio=1.0)), ('입사', NounScore_v1(frequency=30, score=0.9918343000000001, known_r_ratio=0.8695652173913043)), ('대표', NounScore_v1(frequency=35, score=0.841444619047619, known_r_ratio=0.9130434782608695)), ('함께', NounScore_v1(frequency=30, score=0.9770833333333333, known_r_ratio=0.75)), ('전반적', NounScore_v1(frequency=29, score=0.999725, known_r_ratio=0.5357142857142857)), ('업계', NounScore_v1(frequency=29, score=0.9994023076923078, known_r_ratio=1.0)), ('있는곳', NounScore_v1(frequency=29, score=0.9982176666666667, known_r_ratio=1.0)), ('가족', NounScore_v1(frequency=33, score=0.8763591176470588, known_r_ratio=0.5862068965517241)), ('느낌', NounScore_v1(frequency=31, score=0.9286214285714286, known_r_ratio=0.7777777777777778)), ('분들', NounScore_v1(frequency=30, score=0.9552629599999999, known_r_ratio=1.0)), ('위치', NounScore_v1(frequency=31, score=0.8956195499999999, known_r_ratio=0.9090909090909091)), ('대우', NounScore_v1(frequency=39, score=0.7076604285714286, known_r_ratio=1.0)), ('규모', NounScore_v1(frequency=31, score=0.8896559655172415, known_r_ratio=1.0)), ('사무실', NounScore_v1(frequency=33, score=0.8244960833333334, known_r_ratio=1.0)), ('공기업', NounScore_v1(frequency=31, score=0.868434125, known_r_ratio=1.0)), ('부족', NounScore_v1(frequency=27, score=0.9944140555555556, known_r_ratio=0.75)), ('필요', NounScore_v1(frequency=27, score=0.9942776470588235, known_r_ratio=0.7391304347826086)), ('발전', NounScore_v1(frequency=53, score=0.4998928717948718, known_r_ratio=0.8863636363636364)), ('운영', NounScore_v1(frequency=28, score=0.9310459375000001, known_r_ratio=0.8421052631578947)), ('때문', NounScore_v1(frequency=26, score=0.99972, known_r_ratio=0.9615384615384616)), ('계속', NounScore_v1(frequency=26, score=0.995454, known_r_ratio=0.5714285714285714)), ('장점', NounScore_v1(frequency=43, score=0.5933583928571429, known_r_ratio=0.9333333333333333)), ('워라밸', NounScore_v1(frequency=59, score=0.42877544117647065, known_r_ratio=0.9714285714285714)), ('기관', NounScore_v1(frequency=25, score=0.9996811666666668, known_r_ratio=0.8)), ('야근', NounScore_v1(frequency=32, score=0.7697394761904762, known_r_ratio=1.0)), ('확실', NounScore_v1(frequency=24, score=0.9975695, known_r_ratio=0.36363636363636365)), ('시간', NounScore_v1(frequency=33, score=0.7240533200000001, known_r_ratio=0.9615384615384616)), ('은행', NounScore_v1(frequency=25, score=0.937579125, known_r_ratio=0.6666666666666666)), ('적당', NounScore_v1(frequency=23, score=1.0, known_r_ratio=0.13043478260869565)), ('그만', NounScore_v1(frequency=23, score=1.0, known_r_ratio=0.045454545454545456)), ('전문', NounScore_v1(frequency=23, score=0.9985295000000001, known_r_ratio=0.1)), ('비추', NounScore_v1(frequency=23, score=0.995534, known_r_ratio=0.07692307692307693)), ('투자', NounScore_v1(frequency=26, score=0.859607153846154, known_r_ratio=0.7222222222222222)), ('정규직', NounScore_v1(frequency=33, score=0.6745902173913043, known_r_ratio=0.8846153846153846)), ('중소기업', NounScore_v1(frequency=24, score=0.9235084615384618, known_r_ratio=0.8125)), ('기업문화', NounScore_v1(frequency=23, score=0.95725075, known_r_ratio=0.8571428571428571)), ('하나', NounScore_v1(frequency=35, score=0.6160137692307692, known_r_ratio=1.0)), ('최악', NounScore_v1(frequency=21, score=0.9998325, known_r_ratio=0.8)), ('대부분', NounScore_v1(frequency=21, score=0.9995501666666665, known_r_ratio=0.75)), ('만족', NounScore_v1(frequency=21, score=0.9859994545454547, known_r_ratio=0.5789473684210527)), ('단점', NounScore_v1(frequency=29, score=0.7109710476190477, known_r_ratio=0.875)), ('어려움', NounScore_v1(frequency=23, score=0.8757356666666668, known_r_ratio=1.0)), ('시스템', NounScore_v1(frequency=21, score=0.9583085000000001, known_r_ratio=0.9230769230769231)), ('굉장', NounScore_v1(frequency=20, score=1.0, known_r_ratio=0.05)), ('처음', NounScore_v1(frequency=20, score=0.999943, known_r_ratio=1.0)), ('서울', NounScore_v1(frequency=20, score=0.999669875, known_r_ratio=0.6666666666666666)), ('성과', NounScore_v1(frequency=20, score=0.9995907142857143, known_r_ratio=0.9333333333333333)), ('대체', NounScore_v1(frequency=20, score=0.99883, known_r_ratio=0.35294117647058826)), ('비교', NounScore_v1(frequency=26, score=0.7491334999999999, known_r_ratio=0.08)), ('업무강도', NounScore_v1(frequency=33, score=0.5825162727272728, known_r_ratio=1.0)), ('마인드', NounScore_v1(frequency=20, score=0.9557208461538463, known_r_ratio=1.0)), ('수직적', NounScore_v1(frequency=19, score=0.9985465000000001, known_r_ratio=0.375)), ('차이', NounScore_v1(frequency=25, score=0.75268, known_r_ratio=1.0)), ('문제', NounScore_v1(frequency=22, score=0.8508960909090909, known_r_ratio=0.7857142857142857)), ('관심', NounScore_v1(frequency=22, score=0.8501150000000001, known_r_ratio=1.0)), ('외국계', NounScore_v1(frequency=19, score=0.98363025, known_r_ratio=0.8))]\n"
     ]
    }
   ],
   "source": [
    "# 빈도수 * 명사점수 기준 상위 100개 단어\n",
    "sort_nouns2 = sorted(nouns.items(), key=lambda x:-x[1].frequency * x[1].score)[:100]\n",
    "print(sort_nouns2)"
   ]
  },
  {
   "cell_type": "code",
   "execution_count": 33,
   "id": "142d9e0a",
   "metadata": {},
   "outputs": [
    {
     "name": "stdout",
     "output_type": "stream",
     "text": [
      "\n",
      "    회사 (0.65)    업무 (0.88)    다양 (1.00)    기업 (0.88)    추천 (0.99)\n",
      "   사람들 (0.92)    생각 (0.93)    복지 (0.92)    사람 (0.54)   안정적 (1.00)\n",
      "   직원들 (0.85)    경험 (0.60)    직장 (0.80)    문화 (0.83)    성장 (0.81)\n",
      "    체계 (0.88)    하는 (0.65)    급여 (0.88)    가능 (0.99)    근무 (0.69)\n",
      "    연봉 (0.62)    자유 (0.99)    본인 (0.95)    경력 (0.78)    최고 (0.96)\n",
      "   보수적 (1.00)    신입 (0.91)    조직 (0.88)    좋아 (0.98)    직원 (0.48)\n",
      "    무난 (1.00)    환경 (0.74)    싶은 (1.00)   공무원 (0.79)   커리어 (1.00)\n",
      "    나름 (1.00)    이상 (0.82)   계약직 (0.67)  공공기관 (0.86)   수평적 (1.00)\n",
      "    부서 (1.00)    개인 (0.90)   워라벨 (0.64)    노력 (0.92)    기회 (0.93)\n",
      "    입사 (0.99)    대표 (0.84)    함께 (0.98)   전반적 (1.00)    업계 (1.00)\n",
      "   있는곳 (1.00)    가족 (0.88)    느낌 (0.93)    분들 (0.96)    위치 (0.90)\n",
      "    대우 (0.71)    규모 (0.89)   사무실 (0.82)   공기업 (0.87)    부족 (0.99)\n",
      "    필요 (0.99)    발전 (0.50)    운영 (0.93)    때문 (1.00)    계속 (1.00)\n",
      "    장점 (0.59)   워라밸 (0.43)    기관 (1.00)    야근 (0.77)    확실 (1.00)\n",
      "    시간 (0.72)    은행 (0.94)    적당 (1.00)    그만 (1.00)    전문 (1.00)\n",
      "    비추 (1.00)    투자 (0.86)   정규직 (0.67)  중소기업 (0.92)  기업문화 (0.96)\n",
      "    하나 (0.62)    최악 (1.00)   대부분 (1.00)    만족 (0.99)    단점 (0.71)\n",
      "   어려움 (0.88)   시스템 (0.96)    굉장 (1.00)    처음 (1.00)    서울 (1.00)\n",
      "    성과 (1.00)    대체 (1.00)    비교 (0.75)  업무강도 (0.58)   마인드 (0.96)\n",
      "   수직적 (1.00)    차이 (0.75)    문제 (0.85)    관심 (0.85)   외국계 (0.98)"
     ]
    }
   ],
   "source": [
    "# 빈도수 * 명사점수 기준 상위 100개 단어를 words_top100_sc.txt로 저장 및 출력\n",
    "f = open('words_top100_sc.txt', 'w', encoding = 'utf-8')\n",
    "for i, (word, score) in enumerate(sort_nouns2):\n",
    "    f.write(sort_nouns2[i][0] + '  ')\n",
    "    if i % 5 ==0:\n",
    "        print()\n",
    "    print('%6s (%.2f)' % (word, score.score), end = '')\n",
    "f.close()"
   ]
  },
  {
   "cell_type": "markdown",
   "id": "d1b3f285",
   "metadata": {},
   "source": [
    "## 2. NewsNounExtractor"
   ]
  },
  {
   "cell_type": "code",
   "execution_count": 50,
   "id": "b746adfc",
   "metadata": {},
   "outputs": [
    {
     "name": "stdout",
     "output_type": "stream",
     "text": [
      "used default noun predictor; Sejong corpus based logistic predictor\n",
      "C:/Users/hsmy1/Anaconda3/envs/py37/lib/site-packages/soynlp\n",
      "local variable 'f' referenced before assignment\n",
      "local variable 'f' referenced before assignment\n"
     ]
    }
   ],
   "source": [
    "from soynlp.noun import NewsNounExtractor\n",
    "\n",
    "noun_extractor = NewsNounExtractor(\n",
    "    max_left_length=10, \n",
    "    max_right_length=7,\n",
    "    predictor_fnames=None,\n",
    "    verbose=True\n",
    ")"
   ]
  },
  {
   "cell_type": "code",
   "execution_count": 51,
   "id": "b02ef084",
   "metadata": {},
   "outputs": [
    {
     "name": "stdout",
     "output_type": "stream",
     "text": [
      "scan vocabulary ... \n",
      "done (Lset, Rset, Eojeol) = (26563, 15906, 13021)\n",
      "predicting noun score was done                                        \n",
      "before postprocessing 3516\n",
      "_noun_scores_ 1086\n",
      "checking hardrules ... done / 1086떡볶+(이)), NVsubE (사기(당)+했다) ... done\n",
      "after postprocessing 668\n",
      "extracted 0 compounds from eojeols"
     ]
    }
   ],
   "source": [
    "nouns = noun_extractor.train_extract(sentences)"
   ]
  },
  {
   "cell_type": "code",
   "execution_count": 60,
   "id": "6db79f07",
   "metadata": {},
   "outputs": [
    {
     "name": "stdout",
     "output_type": "stream",
     "text": [
      "word: 워라벨, score: 0.45, frequency: 61.00\n"
     ]
    }
   ],
   "source": [
    "score = nouns[word]\n",
    "word = '워라벨'\n",
    "print('word: %s, score: %.2f, frequency: %.2f' % (word, score.score, score.frequency))\n",
    "#('%6s (%.2f)' % (word, score.score), end = '')"
   ]
  },
  {
   "cell_type": "markdown",
   "id": "f48329ff",
   "metadata": {},
   "source": [
    "### 각 산업군별 리뷰 학습"
   ]
  },
  {
   "cell_type": "code",
   "execution_count": 84,
   "id": "29d3581c",
   "metadata": {},
   "outputs": [
    {
     "data": {
      "text/plain": [
       "812"
      ]
     },
     "execution_count": 84,
     "metadata": {},
     "output_type": "execute_result"
    }
   ],
   "source": [
    "corpus_fname1 = 'review_1.txt'\n",
    "sentences1 = DoublespaceLineCorpus(corpus_fname1, iter_sent=True)\n",
    "len(sentences1)"
   ]
  },
  {
   "cell_type": "code",
   "execution_count": 41,
   "id": "88f6da0f",
   "metadata": {},
   "outputs": [
    {
     "data": {
      "text/plain": [
       "1113"
      ]
     },
     "execution_count": 41,
     "metadata": {},
     "output_type": "execute_result"
    }
   ],
   "source": [
    "corpus_fname2 = 'review_2.txt'\n",
    "sentences2 = DoublespaceLineCorpus(corpus_fname2, iter_sent=True)\n",
    "len(sentences2)"
   ]
  },
  {
   "cell_type": "code",
   "execution_count": 42,
   "id": "246b66b9",
   "metadata": {},
   "outputs": [
    {
     "data": {
      "text/plain": [
       "358"
      ]
     },
     "execution_count": 42,
     "metadata": {},
     "output_type": "execute_result"
    }
   ],
   "source": [
    "corpus_fname3 = 'review_3.txt'\n",
    "sentences3 = DoublespaceLineCorpus(corpus_fname3, iter_sent=True)\n",
    "len(sentences3)"
   ]
  },
  {
   "cell_type": "code",
   "execution_count": 43,
   "id": "c92bd568",
   "metadata": {},
   "outputs": [
    {
     "data": {
      "text/plain": [
       "386"
      ]
     },
     "execution_count": 43,
     "metadata": {},
     "output_type": "execute_result"
    }
   ],
   "source": [
    "corpus_fname4 = 'review_4.txt'\n",
    "sentences4 = DoublespaceLineCorpus(corpus_fname4, iter_sent=True)\n",
    "len(sentences4)"
   ]
  },
  {
   "cell_type": "code",
   "execution_count": 85,
   "id": "e7b2358d",
   "metadata": {},
   "outputs": [],
   "source": [
    "def nounextractor(sentences):\n",
    "    nouns = noun_extractor.train_extract(\n",
    "        sentences,\n",
    "        min_noun_score=0.3,\n",
    "        min_noun_frequency=15\n",
    "    )\n",
    "\n",
    "    # 빈도수 * 명사점수 기준 상위 100개 단어\n",
    "    sort_nouns = sorted(nouns.items(), key=lambda x:-x[1].frequency * x[1].score)[:100]\n",
    "\n",
    "    for i, (word, score) in enumerate(sort_nouns):\n",
    "        if i % 5 ==0:\n",
    "            print()\n",
    "        print('%6s (%.2f, %.2f)' % (word, score.frequency, score.score), end = '')"
   ]
  },
  {
   "cell_type": "code",
   "execution_count": 86,
   "id": "c1fca57b",
   "metadata": {},
   "outputs": [
    {
     "name": "stdout",
     "output_type": "stream",
     "text": [
      "[Noun Extractor] scanning was done (L,R) has (792, 434) tokens\n",
      "[Noun Extractor] building L-R graph was done\n",
      "[Noun Extractor] 220 nouns are extracted\n",
      "\n",
      "    회사 (598.00, 0.65)    업무 (259.00, 0.88)    다양 (139.00, 1.00)    기업 (152.00, 0.89)    추천 (115.00, 0.99)\n",
      "    생각 (119.00, 0.93)   사람들 (121.00, 0.92)    복지 (111.00, 0.92)    사람 (178.00, 0.55)   직원들 (96.00, 0.85)\n",
      "   안정적 (80.00, 1.00)    경험 (112.00, 0.60)    직장 (83.00, 0.80)    성장 (77.00, 0.81)    문화 (74.00, 0.83)\n",
      "    급여 (66.00, 0.89)    하는 (88.00, 0.65)    가능 (56.00, 0.99)    근무 (79.00, 0.70)    연봉 (81.00, 0.62)\n",
      "    자유 (51.00, 0.99)    본인 (52.00, 0.95)    최고 (51.00, 0.96)    체계 (55.00, 0.88)    경력 (62.00, 0.78)\n",
      "    조직 (52.00, 0.89)    신입 (48.00, 0.92)   보수적 (44.00, 1.00)    좋아 (44.00, 0.98)   공무원 (52.00, 0.82)\n",
      "    직원 (86.00, 0.48)    무난 (40.00, 1.00)    환경 (53.00, 0.74)    싶은 (39.00, 1.00)   커리어 (37.00, 1.00)\n",
      "  공공기관 (41.00, 0.87)    나름 (35.00, 1.00)   계약직 (51.00, 0.68)   수평적 (34.00, 1.00)    이상 (41.00, 0.82)\n",
      "    부서 (33.00, 1.00)    개인 (36.00, 0.90)    노력 (35.00, 0.92)   워라벨 (49.00, 0.64)    기회 (33.00, 0.93)\n",
      "    입사 (31.00, 0.99)    발전 (56.00, 0.54)    업계 (30.00, 1.00)    대표 (35.00, 0.84)    함께 (30.00, 0.98)\n",
      "   전반적 (29.00, 1.00)   있는곳 (29.00, 1.00)    가족 (33.00, 0.88)    느낌 (31.00, 0.93)    분들 (30.00, 0.96)\n",
      "    필요 (28.00, 0.99)    위치 (31.00, 0.90)    대우 (39.00, 0.71)    규모 (31.00, 0.89)   사무실 (33.00, 0.82)\n",
      "    기관 (27.00, 1.00)   공기업 (31.00, 0.87)    부족 (27.00, 0.99)    은행 (28.00, 0.94)    운영 (28.00, 0.93)\n",
      "    때문 (26.00, 1.00)    계속 (26.00, 1.00)    장점 (43.00, 0.59)   워라밸 (59.00, 0.43)    야근 (32.00, 0.77)\n",
      "    확실 (24.00, 1.00)    시간 (33.00, 0.72)    적당 (23.00, 1.00)    그만 (23.00, 1.00)    성과 (23.00, 1.00)\n",
      "    비추 (23.00, 1.00)    투자 (26.00, 0.86)   정규직 (33.00, 0.67)  중소기업 (24.00, 0.92)  기업문화 (23.00, 0.96)\n",
      "    단점 (30.00, 0.72)    만족 (22.00, 0.99)    하나 (35.00, 0.62)    최악 (21.00, 1.00)   대부분 (21.00, 1.00)\n",
      "   어려움 (23.00, 0.88)   시스템 (21.00, 0.96)    굉장 (20.00, 1.00)    처음 (20.00, 1.00)    서울 (20.00, 1.00)\n",
      "    대체 (20.00, 1.00)   외국계 (20.00, 0.99)    관심 (23.00, 0.86)    비교 (26.00, 0.75)  업무강도 (33.00, 0.58)\n",
      "   마인드 (20.00, 0.96)    능력 (30.00, 0.63)    국내 (19.00, 1.00)   다닐만 (19.00, 1.00)   수직적 (19.00, 1.00)"
     ]
    }
   ],
   "source": [
    "nounextractor(sentences)"
   ]
  },
  {
   "cell_type": "code",
   "execution_count": 87,
   "id": "ac1d41f1",
   "metadata": {},
   "outputs": [
    {
     "name": "stdout",
     "output_type": "stream",
     "text": [
      "\r",
      "[Noun Extractor] scanning was done (L,R) has (250, 128) tokens\n",
      "\r",
      "[Noun Extractor] building L-R graph was done\n",
      "[Noun Extractor] 50 nouns are extracted\n",
      "\n",
      "    업무 (95.00, 0.84)   분위기 (58.00, 1.00)    다양 (42.00, 1.00)    생각 (37.00, 0.88)   공무원 (42.00, 0.77)\n",
      "    직장 (37.00, 0.86)    복지 (32.00, 0.97)   계약직 (37.00, 0.81)    근무 (35.00, 0.85)   사람들 (34.00, 0.86)\n",
      "   안정적 (29.00, 1.00)  공공기관 (34.00, 0.82)    추천 (27.00, 0.99)    경험 (43.00, 0.60)    회사 (67.00, 0.34)\n",
      "    기업 (23.00, 1.00)    급여 (23.00, 0.92)    기관 (21.00, 1.00)   공기업 (21.00, 0.94)    가능 (20.00, 0.99)\n",
      "    조직 (20.00, 0.88)    사람 (44.00, 0.39)   직원들 (19.00, 0.87)    환경 (21.00, 0.78)    서울 (16.00, 1.00)\n",
      "   워라밸 (24.00, 0.62)    체계 (19.00, 0.76)    좋아 (14.00, 0.98)    자유 (14.00, 0.96)   정규직 (18.00, 0.73)\n",
      "    본인 (15.00, 0.87)    문화 (18.00, 0.71)    위치 (15.00, 0.83)    무난 (12.00, 1.00)    만족 (11.00, 1.00)\n",
      "    장점 (19.00, 0.57)    사회 (10.00, 1.00)    사업 (16.00, 0.61)    경력 (11.00, 0.85)    민원 (11.00, 0.79)\n",
      "    연구 (9.00, 0.94)    눈치 (10.00, 0.79)    부서 (8.00, 0.98)  근무환경 (14.00, 0.47)   워라벨 (20.00, 0.33)\n",
      "    보람 (10.00, 0.65)    발전 (12.00, 0.53)    지방 (6.00, 1.00)    직원 (10.00, 0.59)    행정 (6.00, 0.46)"
     ]
    }
   ],
   "source": [
    "nounextractor(sentences1)"
   ]
  },
  {
   "cell_type": "code",
   "execution_count": 81,
   "id": "6a70884e",
   "metadata": {},
   "outputs": [
    {
     "name": "stdout",
     "output_type": "stream",
     "text": [
      "[Noun Extractor] scanning was done (L,R) has (248, 139) tokens\n",
      "[Noun Extractor] building L-R graph was done\n",
      "[Noun Extractor] 52 nouns are extracted\n",
      "\n",
      "    회사 (315.00, 0.64)    업무 (83.00, 0.92)    기업 (75.00, 0.83)   사람들 (53.00, 0.93)    다양 (47.00, 1.00)\n",
      "    생각 (44.00, 0.99)    사람 (54.00, 0.80)    추천 (43.00, 0.98)    하는 (39.00, 1.00)   안정적 (37.00, 1.00)\n",
      "    연봉 (54.00, 0.67)    복지 (42.00, 0.86)    문화 (41.00, 0.88)    성장 (44.00, 0.81)   직원들 (41.00, 0.78)\n",
      "    최고 (30.00, 0.93)   보수적 (27.00, 1.00)    직장 (32.00, 0.80)    본인 (26.00, 0.98)    체계 (25.00, 0.97)\n",
      "    경험 (37.00, 0.63)    직원 (38.00, 0.59)    무난 (22.00, 1.00)    급여 (26.00, 0.83)    은행 (23.00, 0.94)\n",
      "   커리어 (21.00, 1.00)    투자 (21.00, 0.99)    규모 (22.00, 0.88)    대표 (22.00, 0.87)    업계 (18.00, 1.00)\n",
      "    근무 (23.00, 0.76)    조직 (20.00, 0.88)    이상 (21.00, 0.83)    경력 (24.00, 0.73)   외국계 (16.00, 0.98)\n",
      "    좋아 (16.00, 0.97)    성과 (15.00, 1.00)    대우 (21.00, 0.70)    장점 (18.00, 0.80)    운영 (15.00, 0.94)\n",
      "    가능 (14.00, 0.99)    발전 (29.00, 0.40)    가족 (11.00, 1.00)    신입 (11.00, 1.00)    개인 (14.00, 0.77)\n",
      "    보험 (10.00, 1.00)   워라밸 (30.00, 0.32)    경영 (8.00, 0.83)    능력 (13.00, 0.49)    보수 (5.00, 1.00)\n",
      "    영업 (12.00, 0.40)    안정 (3.00, 0.50)"
     ]
    }
   ],
   "source": [
    "nounextractor(sentences2)"
   ]
  },
  {
   "cell_type": "code",
   "execution_count": 88,
   "id": "3c1a0690",
   "metadata": {},
   "outputs": [
    {
     "name": "stdout",
     "output_type": "stream",
     "text": [
      "\r",
      "[Noun Extractor] scanning was done (L,R) has (97, 58) tokens\n",
      "\r",
      "[Noun Extractor] building L-R graph was done\n",
      "[Noun Extractor] 14 nouns are extracted\n",
      "\n",
      "    회사 (124.00, 0.84)    기업 (38.00, 0.86)    업무 (32.00, 0.80)    다양 (20.00, 1.00)    복지 (16.00, 0.95)\n",
      "   직원들 (12.00, 0.92)    생각 (12.00, 0.90)    직원 (14.00, 0.70)    성장 (14.00, 0.69)    경험 (14.00, 0.57)\n",
      "    사람 (18.00, 0.37)    사업 (9.00, 0.55)    근무 (7.00, 0.70)    연봉 (12.00, 0.40)"
     ]
    }
   ],
   "source": [
    "nounextractor(sentences3)"
   ]
  },
  {
   "cell_type": "code",
   "execution_count": 89,
   "id": "fb07f486",
   "metadata": {},
   "outputs": [
    {
     "name": "stdout",
     "output_type": "stream",
     "text": [
      "\r",
      "[Noun Extractor] scanning was done (L,R) has (115, 60) tokens\n",
      "\r",
      "[Noun Extractor] building L-R graph was done\n",
      "[Noun Extractor] 16 nouns are extracted\n",
      "\n",
      "    회사 (75.00, 0.55)    업무 (39.00, 0.93)    다양 (28.00, 1.00)    사람 (35.00, 0.77)    신입 (21.00, 0.99)\n",
      "   사무실 (20.00, 1.00)   사람들 (18.00, 0.96)   직원들 (15.00, 0.95)   회계사 (13.00, 0.97)    야근 (11.00, 1.00)\n",
      "   거래처 (14.00, 0.74)    경력 (14.00, 0.70)    입사 (8.00, 0.99)    경험 (13.00, 0.54)   세무사 (11.00, 0.46)\n",
      "    개인 (5.00, 1.00)"
     ]
    }
   ],
   "source": [
    "nounextractor(sentences4)"
   ]
  }
 ],
 "metadata": {
  "kernelspec": {
   "display_name": "python3.7",
   "language": "python",
   "name": "py37"
  },
  "language_info": {
   "codemirror_mode": {
    "name": "ipython",
    "version": 3
   },
   "file_extension": ".py",
   "mimetype": "text/x-python",
   "name": "python",
   "nbconvert_exporter": "python",
   "pygments_lexer": "ipython3",
   "version": "3.7.11"
  }
 },
 "nbformat": 4,
 "nbformat_minor": 5
}
