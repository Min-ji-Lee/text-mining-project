{
 "cells": [
  {
   "cell_type": "code",
   "execution_count": 1,
   "id": "723df9b7",
   "metadata": {},
   "outputs": [],
   "source": [
    "import requests, time, re\n",
    "from bs4 import BeautifulSoup\n",
    "import pandas as pd"
   ]
  },
  {
   "cell_type": "markdown",
   "id": "fb93a768",
   "metadata": {},
   "source": [
    "# 1. 리뷰 스크래핑"
   ]
  },
  {
   "cell_type": "code",
   "execution_count": 2,
   "id": "50c0f0eb",
   "metadata": {},
   "outputs": [],
   "source": [
    "# 잡플래닛 로그인 url\n",
    "url = \"https://www.jobplanet.co.kr/users/sign_in?_nav=gb\"\n",
    "user_agent = 'Mozilla/5.0 (Windows NT 10.0; Win64; x64) AppleWebKit/537.36 (KHTML, like Gecko) Chrome/78.0.3904.97 Safari/537.36'\n",
    "headers = {'Content-type': 'application/json', 'Accept': 'text/plain', 'User-Agent':user_agent}\n",
    "login_data = {'user':{'email':'hsmy31@hanyang.ac.kr', 'password':'rhkwpgksmswnd!', 'remember_me':'true'}}\n",
    "session = requests.session()\n",
    "\n",
    "# 로그인 실행\n",
    "login_response = session.post(url, json = login_data, headers = headers)"
   ]
  },
  {
   "cell_type": "code",
   "execution_count": 3,
   "id": "1bec9fa6",
   "metadata": {},
   "outputs": [],
   "source": [
    "# 1.정부/공공기관/공기업(1001), 2.은행/금융업(900), 3.네트워크/통신/모바일(704), 4.세무/회계(1004)\n",
    "codes = ['1001', '900', '704', '1004']\n",
    "nums = ['1', '2', '3', '4']"
   ]
  },
  {
   "cell_type": "code",
   "execution_count": 4,
   "id": "8dee492d",
   "metadata": {},
   "outputs": [],
   "source": [
    "# 리뷰를 txt파일로 저장\n",
    "f = open('review_train.txt', 'w', encoding = 'utf-8')\n",
    "\n",
    "for code, count in zip(codes, nums):\n",
    "    reviews = {}\n",
    "    url = \"https://www.jobplanet.co.kr/reviews?&industry_id=\" + str(code)\n",
    "    response = session.get(url)\n",
    "    soup = BeautifulSoup(response.text, 'html.parser')\n",
    "    num = soup.find('span', class_='num') # 리뷰 개수 확인\n",
    "    num = int(num.get_text().strip())\n",
    "    import math\n",
    "    pages = math.ceil(num / 10) # 한 페이지당 리뷰 10개로 구성됨\n",
    "    \n",
    "    for i in range(1, pages + 1): # 전체 페이지의 리뷰 추출\n",
    "        time.sleep(1)\n",
    "        url = \"https://www.jobplanet.co.kr/reviews?&industry_id=\" + str(code) + \"&page=\"+ str(i)\n",
    "        response =  session.get(url)\n",
    "        soup = BeautifulSoup(response.text, 'html.parser')\n",
    "        label = soup.find_all('h2', class_ = 'us_label') # 한 줄 리뷰 추출\n",
    "\n",
    "        # 추출한 리뷰에서 태그를 제외한 텍스트만 추출하여 labels 리스트에 저장\n",
    "        labels = [label.get_text().replace('\\r', ' ') for label in label[:]]\n",
    "        \n",
    "        # 별점이 포함된 div 추출\n",
    "        star = soup.find_all('div', class_=\"us_star_m\") \n",
    "        # 추출한 div에서 별점을 나타내는 width 속성의 숫자로 된 부분을 stars 리스트에 저장\n",
    "        stars = re.findall('[0-9]+[.]+[0-9]', str(star))\n",
    "\n",
    "        # txt파일에 리뷰 쓰기\n",
    "        for k in range(len(labels)):\n",
    "            start = labels[k].find('\"')\n",
    "            f.write(labels[k][start+1:-1] + '  ')\n",
    "            # reviews 딕셔너리에 '리뷰: 별점' 형식으로 추가\n",
    "            reviews[labels[k][start+1:-1]] = stars[k].replace('.0', '')\n",
    " \n",
    "    # 동적변수를 할당하여 산업군별 리뷰를 각각 리스트로 저장(총 4개의 딕셔너리 생성)\n",
    "    globals()['reviews' + str(count)] = reviews\n",
    "    f.write('\\n')\n",
    "f.close()"
   ]
  },
  {
   "cell_type": "code",
   "execution_count": 5,
   "id": "39ed23b9",
   "metadata": {},
   "outputs": [],
   "source": [
    "# 산업군별 리뷰 4개의 딕셔너리를 하나로 합치기\n",
    "reviews_all = [reviews1, reviews2, reviews3, reviews4]"
   ]
  },
  {
   "cell_type": "code",
   "execution_count": 6,
   "id": "306eced7",
   "metadata": {},
   "outputs": [
    {
     "name": "stdout",
     "output_type": "stream",
     "text": [
      "774 1062 342 374\n"
     ]
    }
   ],
   "source": [
    "# 각 산업군별 리뷰 개수 확인\n",
    "print(len(reviews1), len(reviews2), len(reviews3), len(reviews4))"
   ]
  },
  {
   "cell_type": "code",
   "execution_count": 7,
   "id": "dfbdc169",
   "metadata": {},
   "outputs": [
    {
     "name": "stdout",
     "output_type": "stream",
     "text": [
      "4\n"
     ]
    }
   ],
   "source": [
    "with open('review_train.txt', 'r', encoding = 'utf-8') as f:\n",
    "    print(len(f.readlines()))"
   ]
  },
  {
   "cell_type": "markdown",
   "id": "02db7be1",
   "metadata": {},
   "source": [
    "###  review_train.txt는 하나의 산업군 리뷰 전체를 한 줄로 스크래핑하여 총 4문장으로 이루어져 있음\n",
    " - 각 리뷰는 '  '로 구분하여 저장하였음.\n",
    " - -> 이는 soynlp의 클래스 사용 시 적합하도록 저장한 것임.\n",
    " - (한 줄을 하나의 문서로 인식, 한 문서 내에서 두 칸 띄어쓰기로 문장 구분)\n",
    " \n",
    "### 전체 산업군과 별도로 각각의 산업군별으로도 분석해보기 위해 텍스트 파일을 4개로 분할\n"
   ]
  },
  {
   "cell_type": "code",
   "execution_count": 8,
   "id": "83ce2c12",
   "metadata": {},
   "outputs": [],
   "source": [
    "with open('review_train.txt', 'r', encoding = 'utf-8') as f :\n",
    "    data = f.read().split('\\n')\n",
    "    for i in range(4):\n",
    "        a = 1 + i\n",
    "        with open(f'review_{a}.txt', 'w+', encoding = 'utf-8') as txt:\n",
    "            txt.write(data[i]) "
   ]
  },
  {
   "cell_type": "markdown",
   "id": "d8ce8a9c",
   "metadata": {},
   "source": [
    "# 2. soynlp를 이용한 명사 추출기 적용\n",
    "#### 목적: 말뭉치를 기반으로 학습된 기존의 형태소 분석기는 pos 태깅 시 복합명사를 각각의 명사로 태깅하거나 \n",
    "#### 새로 등장하는 단어를 명사로 인식하지 못하는 문제가 있음. 이에 따라 문서집합의 학습을 통해 명사점수를 부여하고 명사가 아닌지 판단\n",
    " - L - [R]의 bipartite graph의 정보를 이용하여 해당 단어가 명사인지 아닌지 판단\n",
    " - 해당 패키지는 세종 말뭉치를 이용하여 명사 뒤에 등장하는 R set에서 명사 가능 점수가 학습되어 있음.\n",
    " - 명사 가능 점수의 범위: [-1, 1]\n",
    " - 통계 기반의 unsupervised 학습 방법 적용\n",
    " \n",
    "#### 두 가지의 명사 추출기를 적용하여 봄"
   ]
  },
  {
   "cell_type": "code",
   "execution_count": 9,
   "id": "7ab11985",
   "metadata": {},
   "outputs": [],
   "source": [
    "import urllib.request\n",
    "from soynlp import DoublespaceLineCorpus\n",
    "from soynlp.word import WordExtractor"
   ]
  },
  {
   "cell_type": "code",
   "execution_count": 10,
   "id": "b071548b",
   "metadata": {},
   "outputs": [
    {
     "data": {
      "text/plain": [
       "2672"
      ]
     },
     "execution_count": 10,
     "metadata": {},
     "output_type": "execute_result"
    }
   ],
   "source": [
    "from soynlp.utils import DoublespaceLineCorpus\n",
    "\n",
    "corpus_fname = 'review_train.txt'\n",
    "sentences = DoublespaceLineCorpus(corpus_fname, iter_sent=True)\n",
    "len(sentences)"
   ]
  },
  {
   "cell_type": "markdown",
   "id": "507c68ce",
   "metadata": {},
   "source": [
    "## 1) LRNounExtractor\n",
    "#### soynlp의 기본적인 명사 추출기 적용"
   ]
  },
  {
   "cell_type": "code",
   "execution_count": 11,
   "id": "8ce945c8",
   "metadata": {},
   "outputs": [
    {
     "name": "stdout",
     "output_type": "stream",
     "text": [
      "[Noun Extractor] used default noun predictor; Sejong corpus predictor\n",
      "[Noun Extractor] used noun_predictor_sejong\n",
      "[Noun Extractor] All 2398 r features was loaded\n"
     ]
    }
   ],
   "source": [
    "from soynlp.noun import LRNounExtractor\n",
    "\n",
    "noun_extractor = LRNounExtractor(\n",
    "    max_left_length = 10, \n",
    "    max_right_length = 7,\n",
    "    predictor_fnames = None,\n",
    "    verbose = True\n",
    ")"
   ]
  },
  {
   "cell_type": "markdown",
   "id": "76b098ed",
   "metadata": {},
   "source": [
    "#### 전체 리뷰 문장에서 단어를 추출하여 명사를 판단하는 학습 실행"
   ]
  },
  {
   "cell_type": "code",
   "execution_count": 12,
   "id": "0fcd56c7",
   "metadata": {},
   "outputs": [
    {
     "name": "stdout",
     "output_type": "stream",
     "text": [
      "\r",
      "[Noun Extractor] scanning was done (L,R) has (609, 326) tokens\n",
      "\r",
      "[Noun Extractor] building L-R graph was done\n",
      "[Noun Extractor] 172 nouns are extracted\n",
      "Wall time: 398 ms\n"
     ]
    }
   ],
   "source": [
    "%%time\n",
    "nouns = noun_extractor.train_extract(\n",
    "    sentences,\n",
    "    min_noun_score=0.3,\n",
    "    min_noun_frequency=20\n",
    ")"
   ]
  },
  {
   "cell_type": "code",
   "execution_count": 13,
   "id": "cc1040ac",
   "metadata": {
    "scrolled": true
   },
   "outputs": [
    {
     "name": "stdout",
     "output_type": "stream",
     "text": [
      "[('회사', NounScore_v1(frequency=598, score=0.6502674638554216, known_r_ratio=0.7757009345794392)), ('업무', NounScore_v1(frequency=255, score=0.8760207908496732, known_r_ratio=0.9272727272727272)), ('사람', NounScore_v1(frequency=169, score=0.5331877950310557, known_r_ratio=0.6145038167938931)), ('기업', NounScore_v1(frequency=152, score=0.8826821944444446, known_r_ratio=0.6428571428571429)), ('다양', NounScore_v1(frequency=140, score=0.9994517080291968, known_r_ratio=0.9785714285714285)), ('사람들', NounScore_v1(frequency=129, score=0.9179094239130433, known_r_ratio=1.0)), ('추천', NounScore_v1(frequency=118, score=0.9883593124999999, known_r_ratio=0.3137254901960784)), ('생각', NounScore_v1(frequency=116, score=0.9319368923076924, known_r_ratio=0.5803571428571429)), ('복지', NounScore_v1(frequency=115, score=0.9135924666666667, known_r_ratio=1.0)), ('경험', NounScore_v1(frequency=114, score=0.6032131643835617, known_r_ratio=0.7156862745098039)), ('하는', NounScore_v1(frequency=91, score=0.6539166, known_r_ratio=0.625)), ('연봉', NounScore_v1(frequency=86, score=0.6378553684210526, known_r_ratio=0.9827586206896551)), ('직원들', NounScore_v1(frequency=86, score=0.8429517777777776, known_r_ratio=0.9473684210526315)), ('직원', NounScore_v1(frequency=83, score=0.5139899499999999, known_r_ratio=0.4225352112676056)), ('안정적', NounScore_v1(frequency=81, score=0.9992101428571428, known_r_ratio=0.5384615384615384)), ('직장', NounScore_v1(frequency=79, score=0.8185343333333335, known_r_ratio=0.5625)), ('문화', NounScore_v1(frequency=74, score=0.8400942272727274, known_r_ratio=0.9361702127659575)), ('성장', NounScore_v1(frequency=73, score=0.8102526444444446, known_r_ratio=0.7258064516129032)), ('근무', NounScore_v1(frequency=71, score=0.7042499729729729, known_r_ratio=0.7872340425531915)), ('체계', NounScore_v1(frequency=68, score=0.8866198679245283, known_r_ratio=0.8153846153846154)), ('급여', NounScore_v1(frequency=64, score=0.8835767027027027, known_r_ratio=1.0)), ('경력', NounScore_v1(frequency=61, score=0.7729759354838709, known_r_ratio=0.7948717948717948)), ('가능', NounScore_v1(frequency=56, score=0.9921428888888889, known_r_ratio=0.5294117647058824)), ('워라밸', NounScore_v1(frequency=54, score=0.5089795625, known_r_ratio=1.0)), ('환경', NounScore_v1(frequency=51, score=0.7465970909090909, known_r_ratio=0.7096774193548387)), ('자유', NounScore_v1(frequency=51, score=0.9871098958333334, known_r_ratio=0.9795918367346939)), ('워라벨', NounScore_v1(frequency=51, score=0.6066347142857144, known_r_ratio=1.0)), ('발전', NounScore_v1(frequency=50, score=0.5307163888888888, known_r_ratio=0.8780487804878049)), ('본인', NounScore_v1(frequency=50, score=0.9507378139534886, known_r_ratio=0.9555555555555556)), ('최고', NounScore_v1(frequency=49, score=0.9577203714285714, known_r_ratio=0.9210526315789473)), ('계약직', NounScore_v1(frequency=49, score=0.707951388888889, known_r_ratio=0.9473684210526315)), ('신입', NounScore_v1(frequency=48, score=0.9134185714285715, known_r_ratio=0.8974358974358975)), ('공무원', NounScore_v1(frequency=46, score=0.7989730625, known_r_ratio=0.7272727272727273)), ('사업', NounScore_v1(frequency=45, score=0.411914, known_r_ratio=0.8333333333333334)), ('좋아', NounScore_v1(frequency=44, score=0.9856713333333333, known_r_ratio=0.6666666666666666)), ('보수적', NounScore_v1(frequency=43, score=0.99872775, known_r_ratio=0.43243243243243246)), ('조직', NounScore_v1(frequency=42, score=0.906847375, known_r_ratio=0.9411764705882353)), ('장점', NounScore_v1(frequency=42, score=0.5933843928571427, known_r_ratio=0.9333333333333333)), ('이상', NounScore_v1(frequency=41, score=0.8390848636363636, known_r_ratio=0.8461538461538461)), ('커리어', NounScore_v1(frequency=40, score=0.9996461304347826, known_r_ratio=1.0)), ('공공기관', NounScore_v1(frequency=40, score=0.8623442592592592, known_r_ratio=1.0)), ('대우', NounScore_v1(frequency=38, score=0.6874944615384615, known_r_ratio=1.0)), ('싶은', NounScore_v1(frequency=38, score=0.997693, known_r_ratio=1.0)), ('무난', NounScore_v1(frequency=37, score=0.9972568620689656, known_r_ratio=0.8285714285714286)), ('하나', NounScore_v1(frequency=35, score=0.625202, known_r_ratio=1.0)), ('개인', NounScore_v1(frequency=35, score=0.9997336428571427, known_r_ratio=0.5185185185185185)), ('수평적', NounScore_v1(frequency=35, score=0.9993894285714287, known_r_ratio=0.2692307692307692)), ('시간', NounScore_v1(frequency=33, score=0.7882606000000001, known_r_ratio=0.9615384615384616)), ('야근', NounScore_v1(frequency=33, score=0.8462021904761905, known_r_ratio=1.0)), ('정규직', NounScore_v1(frequency=33, score=0.6675554166666667, known_r_ratio=0.9230769230769231)), ('사무실', NounScore_v1(frequency=33, score=0.8244960833333334, known_r_ratio=1.0)), ('대표', NounScore_v1(frequency=32, score=0.8150408888888889, known_r_ratio=0.9)), ('노력', NounScore_v1(frequency=32, score=0.9096292083333334, known_r_ratio=0.7741935483870968)), ('규모', NounScore_v1(frequency=32, score=0.8933296666666667, known_r_ratio=1.0)), ('기회', NounScore_v1(frequency=32, score=0.9308764, known_r_ratio=1.0)), ('가족', NounScore_v1(frequency=32, score=0.8763591176470588, known_r_ratio=0.5862068965517241)), ('분들', NounScore_v1(frequency=32, score=0.9569802692307691, known_r_ratio=1.0)), ('위치', NounScore_v1(frequency=31, score=0.8770545714285716, known_r_ratio=0.9545454545454546)), ('필요', NounScore_v1(frequency=31, score=0.9945299444444444, known_r_ratio=0.75)), ('운영', NounScore_v1(frequency=31, score=0.9152582631578948, known_r_ratio=0.8636363636363636)), ('부서', NounScore_v1(frequency=31, score=0.9947991428571429, known_r_ratio=0.6666666666666666)), ('나름', NounScore_v1(frequency=31, score=0.9988021666666667, known_r_ratio=1.0)), ('업무강도', NounScore_v1(frequency=31, score=0.5627630476190477, known_r_ratio=1.0)), ('근무환경', NounScore_v1(frequency=31, score=0.49345952380952385, known_r_ratio=1.0)), ('능력', NounScore_v1(frequency=30, score=0.6534320769230769, known_r_ratio=1.0)), ('함께', NounScore_v1(frequency=30, score=0.9770833333333333, known_r_ratio=0.75)), ('입사', NounScore_v1(frequency=30, score=0.9921927368421055, known_r_ratio=0.8636363636363636)), ('느낌', NounScore_v1(frequency=30, score=0.9639400714285714, known_r_ratio=0.7777777777777778)), ('있는곳', NounScore_v1(frequency=30, score=0.9982176666666667, known_r_ratio=1.0)), ('단점', NounScore_v1(frequency=29, score=0.7109710476190477, known_r_ratio=0.875)), ('적당', NounScore_v1(frequency=29, score=1.0, known_r_ratio=0.2413793103448276)), ('전반적', NounScore_v1(frequency=29, score=0.999725, known_r_ratio=0.5)), ('공기업', NounScore_v1(frequency=29, score=0.8761654705882352, known_r_ratio=1.0)), ('기관', NounScore_v1(frequency=27, score=0.9996811666666668, known_r_ratio=0.8)), ('업계', NounScore_v1(frequency=27, score=0.9992962000000001, known_r_ratio=1.0)), ('부족', NounScore_v1(frequency=27, score=0.9944140555555556, known_r_ratio=0.75)), ('업무량', NounScore_v1(frequency=27, score=0.6752091875, known_r_ratio=1.0)), ('비교', NounScore_v1(frequency=26, score=0.7491334999999999, known_r_ratio=0.08)), ('계속', NounScore_v1(frequency=26, score=0.995454, known_r_ratio=0.5714285714285714)), ('경우', NounScore_v1(frequency=25, score=0.8223830833333334, known_r_ratio=1.0)), ('전문', NounScore_v1(frequency=25, score=0.9985295000000001, known_r_ratio=0.09090909090909091)), ('투자', NounScore_v1(frequency=25, score=0.859607153846154, known_r_ratio=0.7647058823529411)), ('때문', NounScore_v1(frequency=25, score=0.99972, known_r_ratio=0.96)), ('스트레스', NounScore_v1(frequency=25, score=0.5741849374999999, known_r_ratio=1.0)), ('최악', NounScore_v1(frequency=24, score=0.9998325, known_r_ratio=0.75)), ('만족', NounScore_v1(frequency=24, score=0.9839166153846153, known_r_ratio=0.6190476190476191)), ('성과', NounScore_v1(frequency=24, score=0.9993260588235297, known_r_ratio=0.9444444444444444)), ('욕심', NounScore_v1(frequency=24, score=0.7460034444444444, known_r_ratio=1.0)), ('차이', NounScore_v1(frequency=24, score=0.999605, known_r_ratio=1.0)), ('은행', NounScore_v1(frequency=24, score=0.9287782857142856, known_r_ratio=0.6363636363636364)), ('중소기업', NounScore_v1(frequency=24, score=0.8936144285714287, known_r_ratio=0.8235294117647058)), ('그만', NounScore_v1(frequency=23, score=1.0, known_r_ratio=0.045454545454545456)), ('보장', NounScore_v1(frequency=23, score=0.7015351818181818, known_r_ratio=0.6875)), ('문제', NounScore_v1(frequency=23, score=0.86309925, known_r_ratio=0.8)), ('어려움', NounScore_v1(frequency=23, score=0.8645130000000001, known_r_ratio=1.0)), ('기업문화', NounScore_v1(frequency=23, score=0.9571260833333334, known_r_ratio=0.8571428571428571)), ('확실', NounScore_v1(frequency=22, score=0.9980053750000001, known_r_ratio=0.38095238095238093)), ('비추', NounScore_v1(frequency=22, score=0.995534, known_r_ratio=0.07692307692307693)), ('눈치', NounScore_v1(frequency=22, score=0.5432706363636363, known_r_ratio=1.0)), ('굉장', NounScore_v1(frequency=22, score=1.0, known_r_ratio=0.045454545454545456))]\n"
     ]
    }
   ],
   "source": [
    "# 빈도수 기준 상위 100개 단어\n",
    "sort_nouns1 = sorted(nouns.items(), key=lambda x:-x[1].frequency)[:100]\n",
    "print(sort_nouns1)"
   ]
  },
  {
   "cell_type": "code",
   "execution_count": 26,
   "id": "db6f827d",
   "metadata": {},
   "outputs": [
    {
     "name": "stdout",
     "output_type": "stream",
     "text": [
      "\n",
      "    회사 (598.00)    업무 (255.00)    사람 (169.00)    기업 (152.00)    다양 (140.00)\n",
      "   사람들 (129.00)    추천 (118.00)    생각 (116.00)    복지 (115.00)    경험 (114.00)\n",
      "    하는 (91.00)    연봉 (86.00)   직원들 (86.00)    직원 (83.00)   안정적 (81.00)\n",
      "    직장 (79.00)    문화 (74.00)    성장 (73.00)    근무 (71.00)    체계 (68.00)\n",
      "    급여 (64.00)    경력 (61.00)    가능 (56.00)   워라밸 (54.00)    환경 (51.00)\n",
      "    자유 (51.00)   워라벨 (51.00)    발전 (50.00)    본인 (50.00)    최고 (49.00)\n",
      "   계약직 (49.00)    신입 (48.00)   공무원 (46.00)    사업 (45.00)    좋아 (44.00)\n",
      "   보수적 (43.00)    조직 (42.00)    장점 (42.00)    이상 (41.00)   커리어 (40.00)\n",
      "  공공기관 (40.00)    대우 (38.00)    싶은 (38.00)    무난 (37.00)    하나 (35.00)\n",
      "    개인 (35.00)   수평적 (35.00)    시간 (33.00)    야근 (33.00)   정규직 (33.00)\n",
      "   사무실 (33.00)    대표 (32.00)    노력 (32.00)    규모 (32.00)    기회 (32.00)\n",
      "    가족 (32.00)    분들 (32.00)    위치 (31.00)    필요 (31.00)    운영 (31.00)\n",
      "    부서 (31.00)    나름 (31.00)  업무강도 (31.00)  근무환경 (31.00)    능력 (30.00)\n",
      "    함께 (30.00)    입사 (30.00)    느낌 (30.00)   있는곳 (30.00)    단점 (29.00)\n",
      "    적당 (29.00)   전반적 (29.00)   공기업 (29.00)    기관 (27.00)    업계 (27.00)\n",
      "    부족 (27.00)   업무량 (27.00)    비교 (26.00)    계속 (26.00)    경우 (25.00)\n",
      "    전문 (25.00)    투자 (25.00)    때문 (25.00)  스트레스 (25.00)    최악 (24.00)\n",
      "    만족 (24.00)    성과 (24.00)    욕심 (24.00)    차이 (24.00)    은행 (24.00)\n",
      "  중소기업 (24.00)    그만 (23.00)    보장 (23.00)    문제 (23.00)   어려움 (23.00)\n",
      "  기업문화 (23.00)    확실 (22.00)    비추 (22.00)    눈치 (22.00)    굉장 (22.00)"
     ]
    }
   ],
   "source": [
    "# 빈도수 기준 상위 100개 단어 확인\n",
    "for i, (word, score) in enumerate(sort_nouns1):\n",
    "    if i % 5 == 0:\n",
    "        print()\n",
    "    print('%6s (%.2f)' % (word, score.frequency), end = '')"
   ]
  },
  {
   "cell_type": "code",
   "execution_count": 27,
   "id": "4afcaff5",
   "metadata": {
    "scrolled": true
   },
   "outputs": [
    {
     "name": "stdout",
     "output_type": "stream",
     "text": [
      "[('회사', NounScore_v1(frequency=598, score=0.6502674638554216, known_r_ratio=0.7757009345794392)), ('업무', NounScore_v1(frequency=255, score=0.8760207908496732, known_r_ratio=0.9272727272727272)), ('다양', NounScore_v1(frequency=140, score=0.9994517080291968, known_r_ratio=0.9785714285714285)), ('기업', NounScore_v1(frequency=152, score=0.8826821944444446, known_r_ratio=0.6428571428571429)), ('사람들', NounScore_v1(frequency=129, score=0.9179094239130433, known_r_ratio=1.0)), ('추천', NounScore_v1(frequency=118, score=0.9883593124999999, known_r_ratio=0.3137254901960784)), ('생각', NounScore_v1(frequency=116, score=0.9319368923076924, known_r_ratio=0.5803571428571429)), ('복지', NounScore_v1(frequency=115, score=0.9135924666666667, known_r_ratio=1.0)), ('사람', NounScore_v1(frequency=169, score=0.5331877950310557, known_r_ratio=0.6145038167938931)), ('안정적', NounScore_v1(frequency=81, score=0.9992101428571428, known_r_ratio=0.5384615384615384)), ('직원들', NounScore_v1(frequency=86, score=0.8429517777777776, known_r_ratio=0.9473684210526315)), ('경험', NounScore_v1(frequency=114, score=0.6032131643835617, known_r_ratio=0.7156862745098039)), ('직장', NounScore_v1(frequency=79, score=0.8185343333333335, known_r_ratio=0.5625)), ('문화', NounScore_v1(frequency=74, score=0.8400942272727274, known_r_ratio=0.9361702127659575)), ('체계', NounScore_v1(frequency=68, score=0.8866198679245283, known_r_ratio=0.8153846153846154)), ('하는', NounScore_v1(frequency=91, score=0.6539166, known_r_ratio=0.625)), ('성장', NounScore_v1(frequency=73, score=0.8102526444444446, known_r_ratio=0.7258064516129032)), ('급여', NounScore_v1(frequency=64, score=0.8835767027027027, known_r_ratio=1.0)), ('가능', NounScore_v1(frequency=56, score=0.9921428888888889, known_r_ratio=0.5294117647058824)), ('연봉', NounScore_v1(frequency=86, score=0.6378553684210526, known_r_ratio=0.9827586206896551)), ('자유', NounScore_v1(frequency=51, score=0.9871098958333334, known_r_ratio=0.9795918367346939)), ('근무', NounScore_v1(frequency=71, score=0.7042499729729729, known_r_ratio=0.7872340425531915)), ('본인', NounScore_v1(frequency=50, score=0.9507378139534886, known_r_ratio=0.9555555555555556)), ('경력', NounScore_v1(frequency=61, score=0.7729759354838709, known_r_ratio=0.7948717948717948)), ('최고', NounScore_v1(frequency=49, score=0.9577203714285714, known_r_ratio=0.9210526315789473)), ('신입', NounScore_v1(frequency=48, score=0.9134185714285715, known_r_ratio=0.8974358974358975)), ('좋아', NounScore_v1(frequency=44, score=0.9856713333333333, known_r_ratio=0.6666666666666666)), ('보수적', NounScore_v1(frequency=43, score=0.99872775, known_r_ratio=0.43243243243243246)), ('직원', NounScore_v1(frequency=83, score=0.5139899499999999, known_r_ratio=0.4225352112676056)), ('커리어', NounScore_v1(frequency=40, score=0.9996461304347826, known_r_ratio=1.0)), ('조직', NounScore_v1(frequency=42, score=0.906847375, known_r_ratio=0.9411764705882353)), ('환경', NounScore_v1(frequency=51, score=0.7465970909090909, known_r_ratio=0.7096774193548387)), ('싶은', NounScore_v1(frequency=38, score=0.997693, known_r_ratio=1.0)), ('무난', NounScore_v1(frequency=37, score=0.9972568620689656, known_r_ratio=0.8285714285714286)), ('공무원', NounScore_v1(frequency=46, score=0.7989730625, known_r_ratio=0.7272727272727273)), ('개인', NounScore_v1(frequency=35, score=0.9997336428571427, known_r_ratio=0.5185185185185185)), ('수평적', NounScore_v1(frequency=35, score=0.9993894285714287, known_r_ratio=0.2692307692307692)), ('계약직', NounScore_v1(frequency=49, score=0.707951388888889, known_r_ratio=0.9473684210526315)), ('공공기관', NounScore_v1(frequency=40, score=0.8623442592592592, known_r_ratio=1.0)), ('이상', NounScore_v1(frequency=41, score=0.8390848636363636, known_r_ratio=0.8461538461538461)), ('나름', NounScore_v1(frequency=31, score=0.9988021666666667, known_r_ratio=1.0)), ('워라벨', NounScore_v1(frequency=51, score=0.6066347142857144, known_r_ratio=1.0)), ('부서', NounScore_v1(frequency=31, score=0.9947991428571429, known_r_ratio=0.6666666666666666)), ('필요', NounScore_v1(frequency=31, score=0.9945299444444444, known_r_ratio=0.75)), ('분들', NounScore_v1(frequency=32, score=0.9569802692307691, known_r_ratio=1.0)), ('있는곳', NounScore_v1(frequency=30, score=0.9982176666666667, known_r_ratio=1.0)), ('기회', NounScore_v1(frequency=32, score=0.9308764, known_r_ratio=1.0)), ('입사', NounScore_v1(frequency=30, score=0.9921927368421055, known_r_ratio=0.8636363636363636)), ('함께', NounScore_v1(frequency=30, score=0.9770833333333333, known_r_ratio=0.75)), ('노력', NounScore_v1(frequency=32, score=0.9096292083333334, known_r_ratio=0.7741935483870968)), ('적당', NounScore_v1(frequency=29, score=1.0, known_r_ratio=0.2413793103448276)), ('전반적', NounScore_v1(frequency=29, score=0.999725, known_r_ratio=0.5)), ('느낌', NounScore_v1(frequency=30, score=0.9639400714285714, known_r_ratio=0.7777777777777778)), ('규모', NounScore_v1(frequency=32, score=0.8933296666666667, known_r_ratio=1.0)), ('운영', NounScore_v1(frequency=31, score=0.9152582631578948, known_r_ratio=0.8636363636363636)), ('가족', NounScore_v1(frequency=32, score=0.8763591176470588, known_r_ratio=0.5862068965517241)), ('야근', NounScore_v1(frequency=33, score=0.8462021904761905, known_r_ratio=1.0)), ('워라밸', NounScore_v1(frequency=54, score=0.5089795625, known_r_ratio=1.0)), ('사무실', NounScore_v1(frequency=33, score=0.8244960833333334, known_r_ratio=1.0)), ('위치', NounScore_v1(frequency=31, score=0.8770545714285716, known_r_ratio=0.9545454545454546)), ('기관', NounScore_v1(frequency=27, score=0.9996811666666668, known_r_ratio=0.8)), ('업계', NounScore_v1(frequency=27, score=0.9992962000000001, known_r_ratio=1.0)), ('부족', NounScore_v1(frequency=27, score=0.9944140555555556, known_r_ratio=0.75)), ('발전', NounScore_v1(frequency=50, score=0.5307163888888888, known_r_ratio=0.8780487804878049)), ('대우', NounScore_v1(frequency=38, score=0.6874944615384615, known_r_ratio=1.0)), ('대표', NounScore_v1(frequency=32, score=0.8150408888888889, known_r_ratio=0.9)), ('시간', NounScore_v1(frequency=33, score=0.7882606000000001, known_r_ratio=0.9615384615384616)), ('계속', NounScore_v1(frequency=26, score=0.995454, known_r_ratio=0.5714285714285714)), ('공기업', NounScore_v1(frequency=29, score=0.8761654705882352, known_r_ratio=1.0)), ('때문', NounScore_v1(frequency=25, score=0.99972, known_r_ratio=0.96)), ('전문', NounScore_v1(frequency=25, score=0.9985295000000001, known_r_ratio=0.09090909090909091)), ('장점', NounScore_v1(frequency=42, score=0.5933843928571427, known_r_ratio=0.9333333333333333)), ('최악', NounScore_v1(frequency=24, score=0.9998325, known_r_ratio=0.75)), ('차이', NounScore_v1(frequency=24, score=0.999605, known_r_ratio=1.0)), ('성과', NounScore_v1(frequency=24, score=0.9993260588235297, known_r_ratio=0.9444444444444444)), ('만족', NounScore_v1(frequency=24, score=0.9839166153846153, known_r_ratio=0.6190476190476191)), ('그만', NounScore_v1(frequency=23, score=1.0, known_r_ratio=0.045454545454545456)), ('은행', NounScore_v1(frequency=24, score=0.9287782857142856, known_r_ratio=0.6363636363636364)), ('정규직', NounScore_v1(frequency=33, score=0.6675554166666667, known_r_ratio=0.9230769230769231)), ('기업문화', NounScore_v1(frequency=23, score=0.9571260833333334, known_r_ratio=0.8571428571428571)), ('굉장', NounScore_v1(frequency=22, score=1.0, known_r_ratio=0.045454545454545456)), ('확실', NounScore_v1(frequency=22, score=0.9980053750000001, known_r_ratio=0.38095238095238093)), ('비추', NounScore_v1(frequency=22, score=0.995534, known_r_ratio=0.07692307692307693)), ('하나', NounScore_v1(frequency=35, score=0.625202, known_r_ratio=1.0)), ('투자', NounScore_v1(frequency=25, score=0.859607153846154, known_r_ratio=0.7647058823529411)), ('중소기업', NounScore_v1(frequency=24, score=0.8936144285714287, known_r_ratio=0.8235294117647058)), ('단점', NounScore_v1(frequency=29, score=0.7109710476190477, known_r_ratio=0.875)), ('경우', NounScore_v1(frequency=25, score=0.8223830833333334, known_r_ratio=1.0)), ('다닐만', NounScore_v1(frequency=20, score=1.0, known_r_ratio=1.0)), ('처음', NounScore_v1(frequency=20, score=0.999943, known_r_ratio=1.0)), ('대부분', NounScore_v1(frequency=20, score=0.9994868, known_r_ratio=0.7142857142857143)), ('대체', NounScore_v1(frequency=20, score=0.99883, known_r_ratio=0.35294117647058826)), ('어려움', NounScore_v1(frequency=23, score=0.8645130000000001, known_r_ratio=1.0)), ('문제', NounScore_v1(frequency=23, score=0.86309925, known_r_ratio=0.8)), ('기대', NounScore_v1(frequency=20, score=0.9902503076923078, known_r_ratio=0.6842105263157895)), ('외국계', NounScore_v1(frequency=20, score=0.9869042, known_r_ratio=0.8333333333333334)), ('능력', NounScore_v1(frequency=30, score=0.6534320769230769, known_r_ratio=1.0)), ('비교', NounScore_v1(frequency=26, score=0.7491334999999999, known_r_ratio=0.08)), ('시스템', NounScore_v1(frequency=21, score=0.9171034166666668, known_r_ratio=0.9230769230769231)), ('서울', NounScore_v1(frequency=19, score=0.9996627142857143, known_r_ratio=0.6363636363636364))]\n"
     ]
    }
   ],
   "source": [
    "# 빈도수 * 명사점수 기준 상위 100개 단어\n",
    "sort_nouns2 = sorted(nouns.items(), key=lambda x:-x[1].frequency * x[1].score)[:100]\n",
    "print(sort_nouns2)"
   ]
  },
  {
   "cell_type": "code",
   "execution_count": 28,
   "id": "142d9e0a",
   "metadata": {},
   "outputs": [
    {
     "name": "stdout",
     "output_type": "stream",
     "text": [
      "\n",
      "    회사 (0.65)    업무 (0.88)    다양 (1.00)    기업 (0.88)   사람들 (0.92)\n",
      "    추천 (0.99)    생각 (0.93)    복지 (0.91)    사람 (0.53)   안정적 (1.00)\n",
      "   직원들 (0.84)    경험 (0.60)    직장 (0.82)    문화 (0.84)    체계 (0.89)\n",
      "    하는 (0.65)    성장 (0.81)    급여 (0.88)    가능 (0.99)    연봉 (0.64)\n",
      "    자유 (0.99)    근무 (0.70)    본인 (0.95)    경력 (0.77)    최고 (0.96)\n",
      "    신입 (0.91)    좋아 (0.99)   보수적 (1.00)    직원 (0.51)   커리어 (1.00)\n",
      "    조직 (0.91)    환경 (0.75)    싶은 (1.00)    무난 (1.00)   공무원 (0.80)\n",
      "    개인 (1.00)   수평적 (1.00)   계약직 (0.71)  공공기관 (0.86)    이상 (0.84)\n",
      "    나름 (1.00)   워라벨 (0.61)    부서 (0.99)    필요 (0.99)    분들 (0.96)\n",
      "   있는곳 (1.00)    기회 (0.93)    입사 (0.99)    함께 (0.98)    노력 (0.91)\n",
      "    적당 (1.00)   전반적 (1.00)    느낌 (0.96)    규모 (0.89)    운영 (0.92)\n",
      "    가족 (0.88)    야근 (0.85)   워라밸 (0.51)   사무실 (0.82)    위치 (0.88)\n",
      "    기관 (1.00)    업계 (1.00)    부족 (0.99)    발전 (0.53)    대우 (0.69)\n",
      "    대표 (0.82)    시간 (0.79)    계속 (1.00)   공기업 (0.88)    때문 (1.00)\n",
      "    전문 (1.00)    장점 (0.59)    최악 (1.00)    차이 (1.00)    성과 (1.00)\n",
      "    만족 (0.98)    그만 (1.00)    은행 (0.93)   정규직 (0.67)  기업문화 (0.96)\n",
      "    굉장 (1.00)    확실 (1.00)    비추 (1.00)    하나 (0.63)    투자 (0.86)\n",
      "  중소기업 (0.89)    단점 (0.71)    경우 (0.82)   다닐만 (1.00)    처음 (1.00)\n",
      "   대부분 (1.00)    대체 (1.00)   어려움 (0.86)    문제 (0.86)    기대 (0.99)\n",
      "   외국계 (0.99)    능력 (0.65)    비교 (0.75)   시스템 (0.92)    서울 (1.00)"
     ]
    }
   ],
   "source": [
    "# 빈도수 * 명사점수 기준 상위 100개 단어 확인\n",
    "for i, (word, score) in enumerate(sort_nouns2):\n",
    "    if i % 5 ==0:\n",
    "        print()\n",
    "    print('%6s (%.2f)' % (word, score.score), end = '')\n",
    "f.close()"
   ]
  },
  {
   "cell_type": "markdown",
   "id": "d1b3f285",
   "metadata": {},
   "source": [
    "## 2) NewsNounExtractor\n",
    "#### 뉴스 데이터에서 더 좋은 성능을 내기 위해 여러가지 후처리 과정이 추가된 명사 추출기 적용"
   ]
  },
  {
   "cell_type": "code",
   "execution_count": 29,
   "id": "b746adfc",
   "metadata": {},
   "outputs": [
    {
     "name": "stdout",
     "output_type": "stream",
     "text": [
      "used default noun predictor; Sejong corpus based logistic predictor\n",
      "C:/Users/hsmy1/Anaconda3/envs/py37/lib/site-packages/soynlp\n",
      "local variable 'f' referenced before assignment\n",
      "local variable 'f' referenced before assignment\n"
     ]
    }
   ],
   "source": [
    "from soynlp.noun import NewsNounExtractor\n",
    "\n",
    "noun_extractor = NewsNounExtractor(\n",
    "    max_left_length=10, \n",
    "    max_right_length=7,\n",
    "    predictor_fnames=None,\n",
    "    verbose=True\n",
    ")"
   ]
  },
  {
   "cell_type": "code",
   "execution_count": 30,
   "id": "b02ef084",
   "metadata": {},
   "outputs": [
    {
     "name": "stdout",
     "output_type": "stream",
     "text": [
      "scan vocabulary ... \n",
      "done (Lset, Rset, Eojeol) = (26540, 15822, 13049)\n",
      "predicting noun score was done                                        \n",
      "before postprocessing 3520\n",
      "_noun_scores_ 1082\n",
      "checking hardrules ... done / 1082떡볶+(이)), NVsubE (사기(당)+했다) ... done\n",
      "after postprocessing 660\n",
      "extracted 0 compounds from eojeols"
     ]
    }
   ],
   "source": [
    "nouns = noun_extractor.train_extract(sentences)"
   ]
  },
  {
   "cell_type": "code",
   "execution_count": 31,
   "id": "6db79f07",
   "metadata": {},
   "outputs": [
    {
     "name": "stdout",
     "output_type": "stream",
     "text": [
      "word: 공공기관, score: 0.89, frequency: 56.00\n",
      "word: 워라밸, score: 0.52, frequency: 56.00\n",
      "word: 분위기, score: 0.52, frequency: 237.00\n",
      "word: 야근, score: 0.85, frequency: 47.00\n",
      "word: 꼰대, score: 0.67, frequency: 28.00\n"
     ]
    }
   ],
   "source": [
    "# 각 단어별 점수 및 빈도수 확인\n",
    "words = ['공공기관', '워라밸', '분위기', '야근', '꼰대']\n",
    "\n",
    "for word in words:\n",
    "    if not word in nouns:\n",
    "        continue\n",
    "    score = nouns[word]\n",
    "    print('word: %s, score: %.2f, frequency: %.2f' % (word, score.score, score.frequency))"
   ]
  },
  {
   "cell_type": "markdown",
   "id": "f48329ff",
   "metadata": {},
   "source": [
    "### 각 산업군별 차이를 확인하기 위해 각 산업군별 리뷰 학습 실행"
   ]
  },
  {
   "cell_type": "code",
   "execution_count": 32,
   "id": "29d3581c",
   "metadata": {},
   "outputs": [
    {
     "data": {
      "text/plain": [
       "815"
      ]
     },
     "execution_count": 32,
     "metadata": {},
     "output_type": "execute_result"
    }
   ],
   "source": [
    "corpus_fname1 = 'review_1.txt'\n",
    "sentences1 = DoublespaceLineCorpus(corpus_fname1, iter_sent=True)\n",
    "len(sentences1)"
   ]
  },
  {
   "cell_type": "code",
   "execution_count": 33,
   "id": "88f6da0f",
   "metadata": {},
   "outputs": [
    {
     "data": {
      "text/plain": [
       "1114"
      ]
     },
     "execution_count": 33,
     "metadata": {},
     "output_type": "execute_result"
    }
   ],
   "source": [
    "corpus_fname2 = 'review_2.txt'\n",
    "sentences2 = DoublespaceLineCorpus(corpus_fname2, iter_sent=True)\n",
    "len(sentences2)"
   ]
  },
  {
   "cell_type": "code",
   "execution_count": 34,
   "id": "246b66b9",
   "metadata": {},
   "outputs": [
    {
     "data": {
      "text/plain": [
       "358"
      ]
     },
     "execution_count": 34,
     "metadata": {},
     "output_type": "execute_result"
    }
   ],
   "source": [
    "corpus_fname3 = 'review_3.txt'\n",
    "sentences3 = DoublespaceLineCorpus(corpus_fname3, iter_sent=True)\n",
    "len(sentences3)"
   ]
  },
  {
   "cell_type": "code",
   "execution_count": 35,
   "id": "c92bd568",
   "metadata": {},
   "outputs": [
    {
     "data": {
      "text/plain": [
       "385"
      ]
     },
     "execution_count": 35,
     "metadata": {},
     "output_type": "execute_result"
    }
   ],
   "source": [
    "corpus_fname4 = 'review_4.txt'\n",
    "sentences4 = DoublespaceLineCorpus(corpus_fname4, iter_sent=True)\n",
    "len(sentences4)"
   ]
  },
  {
   "cell_type": "code",
   "execution_count": 45,
   "id": "e7b2358d",
   "metadata": {},
   "outputs": [],
   "source": [
    "# 리뷰 개수가 적은 산업군을 감안하여 최소 빈도수를 15로 조정\n",
    "def nounextractor(sent):\n",
    "    noun_extractor = LRNounExtractor(\n",
    "    max_left_length = 10, \n",
    "    max_right_length = 7,\n",
    "    predictor_fnames = None,\n",
    "    verbose = True\n",
    "    )\n",
    "    \n",
    "    nouns = noun_extractor.train_extract(\n",
    "        sent,\n",
    "        min_noun_score=0.3,\n",
    "        min_noun_frequency=15\n",
    "    )\n",
    "\n",
    "    # 빈도수 * 명사점수 기준 상위 100개 단어\n",
    "    sort_nouns = sorted(nouns.items(), key=lambda x:-x[1].frequency * x[1].score)[:100]\n",
    "\n",
    "    for i, (word, score) in enumerate(sort_nouns):\n",
    "        if i % 5 ==0:\n",
    "            print()\n",
    "        print('%6s (%.2f, %.2f)' % (word, score.frequency, score.score), end = '')"
   ]
  },
  {
   "cell_type": "code",
   "execution_count": 47,
   "id": "ac1d41f1",
   "metadata": {},
   "outputs": [
    {
     "name": "stdout",
     "output_type": "stream",
     "text": [
      "[Noun Extractor] used default noun predictor; Sejong corpus predictor\n",
      "[Noun Extractor] used noun_predictor_sejong\n",
      "[Noun Extractor] All 2398 r features was loaded\n",
      "\r",
      "[Noun Extractor] scanning was done (L,R) has (251, 127) tokens\n",
      "\r",
      "[Noun Extractor] building L-R graph was done\n",
      "[Noun Extractor] 52 nouns are extracted\n",
      "\n",
      "    업무 (97.00, 0.84)   분위기 (62.00, 1.00)    다양 (40.00, 1.00)   사람들 (37.00, 0.88)    복지 (32.00, 0.98)\n",
      "    직장 (36.00, 0.86)   계약직 (37.00, 0.81)    생각 (34.00, 0.88)    근무 (34.00, 0.85)   공무원 (38.00, 0.75)\n",
      "  공공기관 (34.00, 0.82)   안정적 (28.00, 1.00)    추천 (27.00, 0.99)    경험 (44.00, 0.60)    기업 (24.00, 1.00)\n",
      "    기관 (23.00, 1.00)    회사 (66.00, 0.34)    급여 (22.00, 0.92)    가능 (20.00, 0.99)    조직 (21.00, 0.88)\n",
      "    사람 (48.00, 0.38)   공기업 (18.00, 0.94)    환경 (21.00, 0.78)    서울 (15.00, 1.00)   워라밸 (24.00, 0.62)\n",
      "    좋아 (15.00, 0.98)    체계 (19.00, 0.76)   정규직 (19.00, 0.72)   직원들 (16.00, 0.82)    만족 (13.00, 1.00)\n",
      "    자유 (13.00, 0.95)    문화 (17.00, 0.71)    본인 (14.00, 0.87)    개인 (12.00, 1.00)    장점 (19.00, 0.60)\n",
      "    사업 (16.00, 0.70)    위치 (13.00, 0.83)    경력 (11.00, 0.85)    지역 (9.00, 1.00)    사회 (9.00, 1.00)\n",
      "    부서 (9.00, 0.99)   워라벨 (21.00, 0.41)    민원 (11.00, 0.79)    눈치 (10.00, 0.79)    연구 (8.00, 0.94)\n",
      "    다닐 (23.00, 0.32)  근무환경 (14.00, 0.47)    보람 (10.00, 0.65)    지방 (6.00, 1.00)    직원 (10.00, 0.59)\n",
      "    발전 (10.00, 0.40)    행정 (6.00, 0.46)"
     ]
    }
   ],
   "source": [
    "nounextractor(sentences1)"
   ]
  },
  {
   "cell_type": "code",
   "execution_count": 48,
   "id": "6a70884e",
   "metadata": {},
   "outputs": [
    {
     "name": "stdout",
     "output_type": "stream",
     "text": [
      "[Noun Extractor] used default noun predictor; Sejong corpus predictor\n",
      "[Noun Extractor] used noun_predictor_sejong\n",
      "[Noun Extractor] All 2398 r features was loaded\n",
      "\r",
      "[Noun Extractor] scanning was done (L,R) has (365, 187) tokens\n",
      "\r",
      "[Noun Extractor] building L-R graph was done\n",
      "[Noun Extractor] 82 nouns are extracted\n",
      "\n",
      "    회사 (320.00, 0.64)    업무 (87.00, 0.93)    기업 (77.00, 0.85)   사람들 (61.00, 0.93)    다양 (48.00, 1.00)\n",
      "    추천 (45.00, 0.98)    생각 (44.00, 0.99)   안정적 (40.00, 1.00)    연봉 (58.00, 0.68)    문화 (43.00, 0.89)\n",
      "    복지 (45.00, 0.85)    사람 (59.00, 0.64)    성장 (43.00, 0.81)   직원들 (40.00, 0.79)    직장 (31.00, 0.92)\n",
      "   보수적 (28.00, 1.00)    최고 (29.00, 0.93)    하는 (40.00, 0.65)    본인 (26.00, 0.98)    체계 (26.00, 0.97)\n",
      "   커리어 (24.00, 1.00)    은행 (25.00, 0.93)    경험 (37.00, 0.63)    급여 (26.00, 0.83)    직원 (34.00, 0.64)\n",
      "    가능 (20.00, 0.99)    규모 (22.00, 0.88)    무난 (19.00, 1.00)    싶은 (19.00, 1.00)    경력 (26.00, 0.73)\n",
      "    투자 (22.00, 0.85)    이상 (21.00, 0.86)    업계 (18.00, 1.00)    기회 (18.00, 0.99)    조직 (19.00, 0.91)\n",
      "    성과 (17.00, 1.00)    분들 (17.00, 0.96)    운영 (17.00, 0.95)    적당 (16.00, 1.00)   수평적 (16.00, 1.00)\n",
      "    대표 (19.00, 0.84)   외국계 (16.00, 0.98)    근무 (21.00, 0.75)    그만 (15.00, 1.00)  기업문화 (16.00, 0.94)\n",
      "    좋아 (15.00, 0.99)    발전 (28.00, 0.50)    대우 (20.00, 0.68)    장점 (17.00, 0.78)   일하는 (13.00, 1.00)\n",
      "    시간 (14.00, 0.89)    하나 (16.00, 0.75)    개인 (12.00, 1.00)    보장 (12.00, 1.00)    자유 (12.00, 0.99)\n",
      "    기대 (12.00, 0.99)    환경 (13.00, 0.92)   워라밸 (25.00, 0.47)    가족 (11.00, 1.00)    보험 (11.00, 1.00)\n",
      "    야근 (13.00, 0.84)    입사 (11.00, 0.99)   워라벨 (19.00, 0.57)  스트레스 (13.00, 0.79)    부족 (10.00, 1.00)\n",
      "    욕심 (12.00, 0.79)    실적 (10.00, 0.93)    신입 (12.00, 0.73)    증권 (8.00, 1.00)    만족 (8.00, 0.97)\n",
      "    노력 (9.00, 0.86)    보상 (11.00, 0.64)  업무강도 (15.00, 0.45)    개발 (13.00, 0.50)   가능성 (15.00, 0.43)\n",
      "    능력 (13.00, 0.49)    경영 (7.00, 0.83)    지원 (7.00, 0.83)    영업 (13.00, 0.40)    보수 (5.00, 1.00)\n",
      "    퇴사 (8.00, 0.59)    안정 (5.00, 0.75)"
     ]
    }
   ],
   "source": [
    "nounextractor(sentences2)"
   ]
  },
  {
   "cell_type": "code",
   "execution_count": 49,
   "id": "3c1a0690",
   "metadata": {},
   "outputs": [
    {
     "name": "stdout",
     "output_type": "stream",
     "text": [
      "[Noun Extractor] used default noun predictor; Sejong corpus predictor\n",
      "[Noun Extractor] used noun_predictor_sejong\n",
      "[Noun Extractor] All 2398 r features was loaded\n",
      "\r",
      "[Noun Extractor] scanning was done (L,R) has (99, 60) tokens\n",
      "\r",
      "[Noun Extractor] building L-R graph was done\n",
      "[Noun Extractor] 13 nouns are extracted\n",
      "\n",
      "    회사 (121.00, 0.89)    기업 (38.00, 0.86)    업무 (32.00, 0.80)    다양 (21.00, 1.00)    직원 (24.00, 0.73)\n",
      "    복지 (18.00, 0.95)    생각 (11.00, 0.94)    성장 (14.00, 0.69)    경험 (15.00, 0.61)    사람 (17.00, 0.52)\n",
      "    연봉 (13.00, 0.47)    사업 (10.00, 0.55)    근무 (7.00, 0.63)"
     ]
    }
   ],
   "source": [
    "nounextractor(sentences3)"
   ]
  },
  {
   "cell_type": "code",
   "execution_count": 50,
   "id": "fb07f486",
   "metadata": {},
   "outputs": [
    {
     "name": "stdout",
     "output_type": "stream",
     "text": [
      "[Noun Extractor] used default noun predictor; Sejong corpus predictor\n",
      "[Noun Extractor] used noun_predictor_sejong\n",
      "[Noun Extractor] All 2398 r features was loaded\n",
      "\r",
      "[Noun Extractor] scanning was done (L,R) has (114, 62) tokens\n",
      "\r",
      "[Noun Extractor] building L-R graph was done\n",
      "[Noun Extractor] 17 nouns are extracted\n",
      "\n",
      "    회사 (77.00, 0.55)    업무 (36.00, 0.90)    다양 (29.00, 1.00)    사람 (35.00, 0.70)    신입 (21.00, 0.99)\n",
      "   사무실 (19.00, 1.00)   사람들 (19.00, 0.96)   직원들 (17.00, 0.95)   회계사 (13.00, 0.97)   거래처 (15.00, 0.74)\n",
      "    야근 (11.00, 1.00)    경력 (15.00, 0.67)    입사 (9.00, 0.99)    경험 (13.00, 0.49)   세무사 (11.00, 0.46)\n",
      "    개인 (5.00, 1.00)    생각 (6.00, 0.80)"
     ]
    }
   ],
   "source": [
    "nounextractor(sentences4)"
   ]
  }
 ],
 "metadata": {
  "kernelspec": {
   "display_name": "python3.7",
   "language": "python",
   "name": "py37"
  },
  "language_info": {
   "codemirror_mode": {
    "name": "ipython",
    "version": 3
   },
   "file_extension": ".py",
   "mimetype": "text/x-python",
   "name": "python",
   "nbconvert_exporter": "python",
   "pygments_lexer": "ipython3",
   "version": "3.7.11"
  }
 },
 "nbformat": 4,
 "nbformat_minor": 5
}
