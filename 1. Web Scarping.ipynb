{
 "cells": [
  {
   "cell_type": "code",
   "execution_count": 1,
   "id": "723df9b7",
   "metadata": {},
   "outputs": [],
   "source": [
    "import requests, time, re\n",
    "from bs4 import BeautifulSoup\n",
    "import pandas as pd"
   ]
  },
  {
   "cell_type": "markdown",
   "id": "fb93a768",
   "metadata": {},
   "source": [
    "# 1. 리뷰 스크래핑"
   ]
  },
  {
   "cell_type": "code",
   "execution_count": 2,
   "id": "50c0f0eb",
   "metadata": {},
   "outputs": [],
   "source": [
    "# 잡플래닛 로그인 url\n",
    "url = \"https://www.jobplanet.co.kr/users/sign_in?_nav=gb\"\n",
    "user_agent = 'Mozilla/5.0 (Windows NT 10.0; Win64; x64) AppleWebKit/537.36 (KHTML, like Gecko) Chrome/78.0.3904.97 Safari/537.36'\n",
    "headers = {'Content-type': 'application/json', 'Accept': 'text/plain', 'User-Agent':user_agent}\n",
    "login_data = {'user':{'email':'hsmy31@hanyang.ac.kr', 'password':'rhkwpgksmswnd!', 'remember_me':'true'}}\n",
    "session = requests.session()\n",
    "\n",
    "# 로그인 실행\n",
    "login_response = session.post(url, json = login_data, headers = headers)"
   ]
  },
  {
   "cell_type": "code",
   "execution_count": 3,
   "id": "1bec9fa6",
   "metadata": {},
   "outputs": [],
   "source": [
    "# 1.정부/공공기관/공기업(1001), 2.은행/금융업(900), 3.네트워크/통신/모바일(704), 4.세무/회계(1004)\n",
    "codes = ['1001', '900', '704', '1004']\n",
    "nums = ['1', '2', '3', '4']"
   ]
  },
  {
   "cell_type": "code",
   "execution_count": 4,
   "id": "3f2bc214",
   "metadata": {},
   "outputs": [],
   "source": [
    "# PyKoSpacing(띄어쓰기 교정) 패키지 적용\n",
    "from pykospacing import Spacing\n",
    "spacing = Spacing()"
   ]
  },
  {
   "cell_type": "code",
   "execution_count": 6,
   "id": "8dee492d",
   "metadata": {},
   "outputs": [],
   "source": [
    "f = open('review_train.txt', 'w', encoding = 'utf-8') # 리뷰를 txt파일로 저장\n",
    "\n",
    "for code, count in zip(codes, nums):\n",
    "    reviews = {}\n",
    "    url = \"https://www.jobplanet.co.kr/reviews?&industry_id=\" + str(code)\n",
    "    response = session.get(url)\n",
    "    soup = BeautifulSoup(response.text, 'html.parser')\n",
    "    num = soup.find('span', class_='num') # 리뷰 개수 확인\n",
    "    num = int(num.get_text().strip())\n",
    "    import math\n",
    "    pages = math.ceil(num / 10) # 한 페이지당 리뷰 10개로 구성됨\n",
    "    \n",
    "    for i in range(1, pages + 1): # 전체 페이지의 리뷰 추출\n",
    "        time.sleep(1)\n",
    "        url = \"https://www.jobplanet.co.kr/reviews?&industry_id=\" + str(code) + \"&page=\"+ str(i)\n",
    "        response =  session.get(url)\n",
    "        soup = BeautifulSoup(response.text, 'html.parser')\n",
    "        label = soup.find_all('h2', class_ = 'us_label') # 한 줄 리뷰 추출\n",
    "        labels = [label.get_text().replace('\\r', ' ') for label in label[:]] # 텍스트만 추출하여 labels 리스트에 저장  \n",
    "        star = soup.find_all('div', class_=\"us_star_m\") # 별점이 포함된 div 추출\n",
    "        stars = re.findall('[0-9]+[.]+[0-9]', str(star)) # 별점을 나타내는 width 속성의 숫자 부분을 stars 리스트에 저장\n",
    "\n",
    "        # txt파일에 리뷰 쓰기\n",
    "        for k in range(len(labels)):\n",
    "            start = labels[k].find('\"')\n",
    "            f.write(spacing(labels[k][start+1:-1]) + '  ')\n",
    "            # reviews 딕셔너리에 '리뷰: 별점' 형식으로 추가\n",
    "            reviews[spacing(labels[k][start+1:-1])] = stars[k].replace('.0', '')\n",
    " \n",
    "    # 동적변수를 할당하여 산업군별 리뷰를 각각 리스트로 저장(총 4개의 딕셔너리 생성)\n",
    "    globals()['reviews' + str(count)] = reviews\n",
    "    f.write('\\n')\n",
    "f.close()"
   ]
  },
  {
   "cell_type": "code",
   "execution_count": 7,
   "id": "39ed23b9",
   "metadata": {},
   "outputs": [],
   "source": [
    "# 산업군별 리뷰 4개의 딕셔너리를 하나로 합치기\n",
    "reviews_all = {**reviews1, **reviews2, **reviews3, **reviews4}"
   ]
  },
  {
   "cell_type": "code",
   "execution_count": 9,
   "id": "e898ca3b",
   "metadata": {},
   "outputs": [],
   "source": [
    "# 딕셔너리를 pickle 파일로 저장\n",
    "import pickle\n",
    "with open('reviews_all.pkl', 'wb') as f:\n",
    "    pickle.dump(reviews_all, f)\n",
    "with open('reviews1.pkl', 'wb') as f:\n",
    "    pickle.dump(reviews1, f)\n",
    "with open('reviews2.pkl', 'wb') as f:\n",
    "    pickle.dump(reviews2, f)\n",
    "with open('reviews3.pkl', 'wb') as f:\n",
    "    pickle.dump(reviews3, f)\n",
    "with open('reviews4.pkl', 'wb') as f:\n",
    "    pickle.dump(reviews4, f)"
   ]
  },
  {
   "cell_type": "code",
   "execution_count": 13,
   "id": "acacc21d",
   "metadata": {},
   "outputs": [
    {
     "data": {
      "text/plain": [
       "2558"
      ]
     },
     "execution_count": 13,
     "metadata": {},
     "output_type": "execute_result"
    }
   ],
   "source": [
    "len(reviews_all)"
   ]
  },
  {
   "cell_type": "code",
   "execution_count": 14,
   "id": "306eced7",
   "metadata": {},
   "outputs": [
    {
     "name": "stdout",
     "output_type": "stream",
     "text": [
      "775 1065 343 375\n"
     ]
    }
   ],
   "source": [
    "# 각 산업군별 리뷰 개수 확인\n",
    "print(len(reviews1), len(reviews2), len(reviews3), len(reviews4))"
   ]
  },
  {
   "cell_type": "markdown",
   "id": "02db7be1",
   "metadata": {},
   "source": [
    "###  review_train.txt는 하나의 산업군 리뷰 전체를 한 줄로 스크래핑하여 총 4문장으로 이루어져 있음\n",
    " - 각 리뷰는 '  '로 구분하여 저장하였음.\n",
    " - -> 이는 soynlp의 클래스 사용 시 적합하도록 저장한 것임.\n",
    " - (한 줄을 하나의 문서로 인식, 한 문서 내에서 두 칸 띄어쓰기로 문장 구분)"
   ]
  },
  {
   "cell_type": "markdown",
   "id": "d8ce8a9c",
   "metadata": {},
   "source": [
    "# 2. soynlp를 이용한 명사 추출기 적용\n",
    "#### 목적: 말뭉치를 기반으로 학습된 기존의 형태소 분석기는 pos 태깅 시 복합명사를 각각의 명사로 태깅하거나 \n",
    "#### 새로 등장하는 단어를 명사로 인식하지 못하는 문제가 있음. 이에 따라 문서집합의 학습을 통해 명사점수를 부여하고 명사가 아닌지 판단\n",
    " - L - [R]의 bipartite graph의 정보를 이용하여 해당 단어가 명사인지 아닌지 판단\n",
    " - 해당 패키지는 세종 말뭉치를 이용하여 명사 뒤에 등장하는 R set에서 명사 가능 점수가 학습되어 있음.\n",
    " - 명사 가능 점수의 범위: [-1, 1]\n",
    " - 통계 기반의 unsupervised 학습 방법 적용\n",
    " \n",
    "#### 두 가지의 명사 추출기를 적용하여 봄"
   ]
  },
  {
   "cell_type": "code",
   "execution_count": 3,
   "id": "7ab11985",
   "metadata": {},
   "outputs": [],
   "source": [
    "import urllib.request\n",
    "from soynlp import DoublespaceLineCorpus\n",
    "from soynlp.word import WordExtractor"
   ]
  },
  {
   "cell_type": "code",
   "execution_count": 17,
   "id": "b071548b",
   "metadata": {},
   "outputs": [
    {
     "data": {
      "text/plain": [
       "2564"
      ]
     },
     "execution_count": 17,
     "metadata": {},
     "output_type": "execute_result"
    }
   ],
   "source": [
    "from soynlp.utils import DoublespaceLineCorpus\n",
    "\n",
    "corpus_fname = 'data/review_train.txt'\n",
    "sentences = DoublespaceLineCorpus(corpus_fname, iter_sent=True)\n",
    "len(sentences)"
   ]
  },
  {
   "cell_type": "markdown",
   "id": "507c68ce",
   "metadata": {},
   "source": [
    "## 1) LRNounExtractor\n",
    "#### soynlp의 기본적인 명사 추출기 적용"
   ]
  },
  {
   "cell_type": "code",
   "execution_count": 12,
   "id": "8ce945c8",
   "metadata": {},
   "outputs": [
    {
     "name": "stdout",
     "output_type": "stream",
     "text": [
      "[Noun Extractor] used default noun predictor; Sejong corpus predictor\n",
      "[Noun Extractor] used noun_predictor_sejong\n",
      "[Noun Extractor] All 2398 r features was loaded\n"
     ]
    }
   ],
   "source": [
    "from soynlp.noun import LRNounExtractor\n",
    "\n",
    "noun_extractor = LRNounExtractor(\n",
    "    max_left_length = 10, \n",
    "    max_right_length = 7,\n",
    "    predictor_fnames = None,\n",
    "    verbose = True\n",
    ")"
   ]
  },
  {
   "cell_type": "markdown",
   "id": "76b098ed",
   "metadata": {},
   "source": [
    "#### 전체 리뷰 문장에서 단어를 추출하여 명사를 판단하는 학습 실행"
   ]
  },
  {
   "cell_type": "code",
   "execution_count": 18,
   "id": "0fcd56c7",
   "metadata": {},
   "outputs": [
    {
     "name": "stdout",
     "output_type": "stream",
     "text": [
      "[Noun Extractor] scanning was done (L,R) has (654, 331) tokens\n",
      "[Noun Extractor] building L-R graph was done\n",
      "[Noun Extractor] 159 nouns are extracted\n",
      "Wall time: 633 ms\n"
     ]
    }
   ],
   "source": [
    "%%time\n",
    "nouns = noun_extractor.train_extract(\n",
    "    sentences,\n",
    "    min_noun_score=0.3,\n",
    "    min_noun_frequency=20\n",
    ")"
   ]
  },
  {
   "cell_type": "code",
   "execution_count": 19,
   "id": "cc1040ac",
   "metadata": {
    "scrolled": true
   },
   "outputs": [
    {
     "name": "stdout",
     "output_type": "stream",
     "text": [
      "[('회사', NounScore_v1(frequency=728, score=0.6604329772727273, known_r_ratio=0.7553648068669528)), ('업무', NounScore_v1(frequency=368, score=0.8664290380434783, known_r_ratio=0.9246231155778895)), ('사람', NounScore_v1(frequency=203, score=0.5184580439560439, known_r_ratio=0.621160409556314)), ('기업', NounScore_v1(frequency=193, score=0.8675755227272727, known_r_ratio=0.6567164179104478)), ('다양', NounScore_v1(frequency=145, score=0.9994672624113472, known_r_ratio=0.9724137931034482)), ('사람들', NounScore_v1(frequency=140, score=0.9229012244897958, known_r_ratio=0.98989898989899)), ('복지', NounScore_v1(frequency=132, score=0.9073422142857143, known_r_ratio=0.875)), ('추천', NounScore_v1(frequency=131, score=0.9868988666666667, known_r_ratio=0.28846153846153844)), ('생각', NounScore_v1(frequency=129, score=0.9089652835820896, known_r_ratio=0.5775862068965517)), ('경험', NounScore_v1(frequency=129, score=0.646697743902439, known_r_ratio=0.7387387387387387)), ('직원', NounScore_v1(frequency=114, score=0.491019644736842, known_r_ratio=0.4550898203592814)), ('연봉', NounScore_v1(frequency=112, score=0.6088158888888888, known_r_ratio=0.984375)), ('직원들', NounScore_v1(frequency=101, score=0.8547858363636363, known_r_ratio=1.0)), ('문화', NounScore_v1(frequency=99, score=0.8171514915254238, known_r_ratio=0.9516129032258065)), ('직장', NounScore_v1(frequency=96, score=0.6697778333333334, known_r_ratio=0.6)), ('근무', NounScore_v1(frequency=96, score=0.6485478913043478, known_r_ratio=0.7931034482758621)), ('성장', NounScore_v1(frequency=92, score=0.8112882291666668, known_r_ratio=0.7272727272727273)), ('급여', NounScore_v1(frequency=82, score=0.8918271219512197, known_r_ratio=1.0)), ('안정적', NounScore_v1(frequency=82, score=0.99932395, known_r_ratio=0.5063291139240507)), ('경력', NounScore_v1(frequency=81, score=0.7341445000000001, known_r_ratio=0.7906976744186046)), ('발전', NounScore_v1(frequency=71, score=0.4834120697674419, known_r_ratio=0.8958333333333334)), ('체계', NounScore_v1(frequency=65, score=0.8463951200000001, known_r_ratio=0.819672131147541)), ('가능', NounScore_v1(frequency=64, score=0.9901777857142857, known_r_ratio=0.37333333333333335)), ('환경', NounScore_v1(frequency=62, score=0.7568379999999999, known_r_ratio=0.7105263157894737)), ('공무원', NounScore_v1(frequency=61, score=0.8390641000000001, known_r_ratio=0.7692307692307693)), ('최고', NounScore_v1(frequency=58, score=0.9998381944444444, known_r_ratio=0.9230769230769231)), ('하나', NounScore_v1(frequency=57, score=0.6341842666666667, known_r_ratio=1.0)), ('좋아', NounScore_v1(frequency=56, score=0.9856713333333333, known_r_ratio=0.5)), ('조직', NounScore_v1(frequency=56, score=0.9254235, known_r_ratio=0.8333333333333334)), ('개인', NounScore_v1(frequency=56, score=0.8825936470588234, known_r_ratio=0.53125)), ('계약직', NounScore_v1(frequency=56, score=0.7314469268292683, known_r_ratio=0.9761904761904762)), ('신입', NounScore_v1(frequency=55, score=0.911815275, known_r_ratio=0.8888888888888888)), ('사업', NounScore_v1(frequency=54, score=0.5370903055555556, known_r_ratio=0.8372093023255814)), ('시간', NounScore_v1(frequency=54, score=0.6983598484848486, known_r_ratio=0.9705882352941176)), ('자유', NounScore_v1(frequency=53, score=0.9876255, known_r_ratio=0.9803921568627451)), ('본인', NounScore_v1(frequency=53, score=0.9496112558139534, known_r_ratio=0.9555555555555556)), ('강도', NounScore_v1(frequency=52, score=0.5544669743589744, known_r_ratio=1.0)), ('보수적', NounScore_v1(frequency=52, score=0.9988233157894735, known_r_ratio=0.4318181818181818)), ('대우', NounScore_v1(frequency=51, score=0.7498283928571429, known_r_ratio=1.0)), ('워라밸', NounScore_v1(frequency=51, score=0.38954835483870964, known_r_ratio=1.0)), ('개발', NounScore_v1(frequency=50, score=0.4290832857142858, known_r_ratio=0.5185185185185185)), ('장점', NounScore_v1(frequency=48, score=0.5669138666666667, known_r_ratio=0.9375)), ('정도', NounScore_v1(frequency=48, score=0.6255543157894737, known_r_ratio=0.7916666666666666)), ('공공기관', NounScore_v1(frequency=48, score=0.8800486129032259, known_r_ratio=0.96875)), ('야근', NounScore_v1(frequency=46, score=0.8138636153846153, known_r_ratio=0.9629629629629629)), ('사무실', NounScore_v1(frequency=45, score=0.9050482941176472, known_r_ratio=1.0)), ('분들', NounScore_v1(frequency=44, score=0.9678732000000001, known_r_ratio=1.0)), ('운영', NounScore_v1(frequency=42, score=0.9042477272727272, known_r_ratio=0.88)), ('위치', NounScore_v1(frequency=42, score=0.9128757333333333, known_r_ratio=0.967741935483871)), ('커리어', NounScore_v1(frequency=42, score=0.9996479999999999, known_r_ratio=1.0)), ('무난', NounScore_v1(frequency=41, score=0.9972960937500001, known_r_ratio=0.8205128205128205)), ('이상', NounScore_v1(frequency=41, score=0.7438968000000001, known_r_ratio=0.8333333333333334)), ('가능성', NounScore_v1(frequency=41, score=0.47081447222222217, known_r_ratio=1.0)), ('능력', NounScore_v1(frequency=40, score=0.7734959499999998, known_r_ratio=1.0)), ('수준', NounScore_v1(frequency=40, score=0.5289700769230768, known_r_ratio=0.9629629629629629)), ('업계', NounScore_v1(frequency=40, score=0.9991410000000001, known_r_ratio=1.0)), ('수평적', NounScore_v1(frequency=40, score=0.9993442857142857, known_r_ratio=0.25925925925925924)), ('기회', NounScore_v1(frequency=39, score=0.8781915925925927, known_r_ratio=1.0)), ('워라벨', NounScore_v1(frequency=38, score=0.5572338421052633, known_r_ratio=1.0)), ('부서', NounScore_v1(frequency=37, score=0.9954134375000001, known_r_ratio=0.7272727272727273)), ('규모', NounScore_v1(frequency=37, score=0.9443445806451612, known_r_ratio=1.0)), ('가족', NounScore_v1(frequency=37, score=0.48056580000000004, known_r_ratio=0.2631578947368421)), ('대표', NounScore_v1(frequency=36, score=0.8150408888888889, known_r_ratio=0.8181818181818182)), ('정규직', NounScore_v1(frequency=36, score=0.6881453333333334, known_r_ratio=0.9230769230769231)), ('스트레스', NounScore_v1(frequency=36, score=0.675151, known_r_ratio=1.0)), ('노력', NounScore_v1(frequency=35, score=0.91215672, known_r_ratio=0.8064516129032258)), ('단점', NounScore_v1(frequency=35, score=0.747410423076923, known_r_ratio=0.8666666666666667)), ('느낌', NounScore_v1(frequency=35, score=0.9639400714285714, known_r_ratio=0.7368421052631579)), ('공기업', NounScore_v1(frequency=35, score=0.8829627222222222, known_r_ratio=0.9473684210526315)), ('입사', NounScore_v1(frequency=33, score=0.9917476666666668, known_r_ratio=0.84)), ('필요', NounScore_v1(frequency=33, score=0.994365, known_r_ratio=0.7083333333333334)), ('부족', NounScore_v1(frequency=33, score=0.9949974090909091, known_r_ratio=0.7857142857142857)), ('은행', NounScore_v1(frequency=31, score=0.9287782857142856, known_r_ratio=0.5384615384615384)), ('성과', NounScore_v1(frequency=31, score=0.9993479444444446, known_r_ratio=0.8181818181818182)), ('자체', NounScore_v1(frequency=31, score=0.5466772105263159, known_r_ratio=0.8636363636363636)), ('관련', NounScore_v1(frequency=31, score=0.9970383333333332, known_r_ratio=0.5454545454545454)), ('기관', NounScore_v1(frequency=31, score=0.9997172142857144, known_r_ratio=0.8235294117647058)), ('전반적', NounScore_v1(frequency=31, score=0.999725, known_r_ratio=0.5)), ('나름', NounScore_v1(frequency=30, score=0.9988021666666667, known_r_ratio=1.0)), ('전문', NounScore_v1(frequency=29, score=0.9985295000000001, known_r_ratio=0.08333333333333333)), ('눈치', NounScore_v1(frequency=29, score=0.5430063636363637, known_r_ratio=1.0)), ('투자', NounScore_v1(frequency=29, score=0.9924412857142858, known_r_ratio=0.7777777777777778)), ('근무환경', NounScore_v1(frequency=29, score=0.5463764761904761, known_r_ratio=1.0)), ('관리', NounScore_v1(frequency=28, score=0.7455621875000001, known_r_ratio=0.7619047619047619)), ('경우', NounScore_v1(frequency=28, score=0.8473760714285714, known_r_ratio=1.0)), ('계속', NounScore_v1(frequency=28, score=0.995454, known_r_ratio=0.6666666666666666)), ('퇴사', NounScore_v1(frequency=28, score=0.7804021333333334, known_r_ratio=0.7142857142857143)), ('욕심', NounScore_v1(frequency=28, score=0.76469425, known_r_ratio=1.0)), ('최악', NounScore_v1(frequency=28, score=0.9548163636363636, known_r_ratio=0.7333333333333333)), ('만족', NounScore_v1(frequency=28, score=0.9492049285714286, known_r_ratio=0.5833333333333334)), ('비교', NounScore_v1(frequency=28, score=0.7491334999999999, known_r_ratio=0.07692307692307693)), ('보장', NounScore_v1(frequency=28, score=0.5925223333333333, known_r_ratio=0.7058823529411765)), ('업무량', NounScore_v1(frequency=28, score=0.694266588235294, known_r_ratio=1.0)), ('관심', NounScore_v1(frequency=27, score=0.999341, known_r_ratio=1.0)), ('처음', NounScore_v1(frequency=27, score=0.9999088, known_r_ratio=1.0)), ('구조', NounScore_v1(frequency=27, score=0.9888611666666668, known_r_ratio=0.75)), ('꼰대', NounScore_v1(frequency=27, score=0.9901046666666667, known_r_ratio=0.375)), ('문제', NounScore_v1(frequency=27, score=0.896782375, known_r_ratio=0.8888888888888888)), ('지원', NounScore_v1(frequency=26, score=0.7339138461538462, known_r_ratio=0.8666666666666667)), ('영업', NounScore_v1(frequency=26, score=0.6114088888888889, known_r_ratio=0.6428571428571429))]\n"
     ]
    }
   ],
   "source": [
    "# 빈도수 기준 상위 100개 단어\n",
    "sort_nouns1 = sorted(nouns.items(), key=lambda x:-x[1].frequency)[:100]\n",
    "print(sort_nouns1)"
   ]
  },
  {
   "cell_type": "code",
   "execution_count": 20,
   "id": "db6f827d",
   "metadata": {},
   "outputs": [
    {
     "name": "stdout",
     "output_type": "stream",
     "text": [
      "\n",
      "    회사 (728.00)    업무 (368.00)    사람 (203.00)    기업 (193.00)    다양 (145.00)\n",
      "   사람들 (140.00)    복지 (132.00)    추천 (131.00)    생각 (129.00)    경험 (129.00)\n",
      "    직원 (114.00)    연봉 (112.00)   직원들 (101.00)    문화 (99.00)    직장 (96.00)\n",
      "    근무 (96.00)    성장 (92.00)    급여 (82.00)   안정적 (82.00)    경력 (81.00)\n",
      "    발전 (71.00)    체계 (65.00)    가능 (64.00)    환경 (62.00)   공무원 (61.00)\n",
      "    최고 (58.00)    하나 (57.00)    좋아 (56.00)    조직 (56.00)    개인 (56.00)\n",
      "   계약직 (56.00)    신입 (55.00)    사업 (54.00)    시간 (54.00)    자유 (53.00)\n",
      "    본인 (53.00)    강도 (52.00)   보수적 (52.00)    대우 (51.00)   워라밸 (51.00)\n",
      "    개발 (50.00)    장점 (48.00)    정도 (48.00)  공공기관 (48.00)    야근 (46.00)\n",
      "   사무실 (45.00)    분들 (44.00)    운영 (42.00)    위치 (42.00)   커리어 (42.00)\n",
      "    무난 (41.00)    이상 (41.00)   가능성 (41.00)    능력 (40.00)    수준 (40.00)\n",
      "    업계 (40.00)   수평적 (40.00)    기회 (39.00)   워라벨 (38.00)    부서 (37.00)\n",
      "    규모 (37.00)    가족 (37.00)    대표 (36.00)   정규직 (36.00)  스트레스 (36.00)\n",
      "    노력 (35.00)    단점 (35.00)    느낌 (35.00)   공기업 (35.00)    입사 (33.00)\n",
      "    필요 (33.00)    부족 (33.00)    은행 (31.00)    성과 (31.00)    자체 (31.00)\n",
      "    관련 (31.00)    기관 (31.00)   전반적 (31.00)    나름 (30.00)    전문 (29.00)\n",
      "    눈치 (29.00)    투자 (29.00)  근무환경 (29.00)    관리 (28.00)    경우 (28.00)\n",
      "    계속 (28.00)    퇴사 (28.00)    욕심 (28.00)    최악 (28.00)    만족 (28.00)\n",
      "    비교 (28.00)    보장 (28.00)   업무량 (28.00)    관심 (27.00)    처음 (27.00)\n",
      "    구조 (27.00)    꼰대 (27.00)    문제 (27.00)    지원 (26.00)    영업 (26.00)"
     ]
    }
   ],
   "source": [
    "# 빈도수 기준 상위 100개 단어 확인\n",
    "for i, (word, score) in enumerate(sort_nouns1):\n",
    "    if i % 5 == 0:\n",
    "        print()\n",
    "    print('%6s (%.2f)' % (word, score.frequency), end = '')"
   ]
  },
  {
   "cell_type": "code",
   "execution_count": 21,
   "id": "4afcaff5",
   "metadata": {
    "scrolled": true
   },
   "outputs": [
    {
     "name": "stdout",
     "output_type": "stream",
     "text": [
      "[('회사', NounScore_v1(frequency=728, score=0.6604329772727273, known_r_ratio=0.7553648068669528)), ('업무', NounScore_v1(frequency=368, score=0.8664290380434783, known_r_ratio=0.9246231155778895)), ('기업', NounScore_v1(frequency=193, score=0.8675755227272727, known_r_ratio=0.6567164179104478)), ('다양', NounScore_v1(frequency=145, score=0.9994672624113472, known_r_ratio=0.9724137931034482)), ('추천', NounScore_v1(frequency=131, score=0.9868988666666667, known_r_ratio=0.28846153846153844)), ('사람들', NounScore_v1(frequency=140, score=0.9229012244897958, known_r_ratio=0.98989898989899)), ('복지', NounScore_v1(frequency=132, score=0.9073422142857143, known_r_ratio=0.875)), ('생각', NounScore_v1(frequency=129, score=0.9089652835820896, known_r_ratio=0.5775862068965517)), ('사람', NounScore_v1(frequency=203, score=0.5184580439560439, known_r_ratio=0.621160409556314)), ('직원들', NounScore_v1(frequency=101, score=0.8547858363636363, known_r_ratio=1.0)), ('경험', NounScore_v1(frequency=129, score=0.646697743902439, known_r_ratio=0.7387387387387387)), ('안정적', NounScore_v1(frequency=82, score=0.99932395, known_r_ratio=0.5063291139240507)), ('문화', NounScore_v1(frequency=99, score=0.8171514915254238, known_r_ratio=0.9516129032258065)), ('성장', NounScore_v1(frequency=92, score=0.8112882291666668, known_r_ratio=0.7272727272727273)), ('급여', NounScore_v1(frequency=82, score=0.8918271219512197, known_r_ratio=1.0)), ('연봉', NounScore_v1(frequency=112, score=0.6088158888888888, known_r_ratio=0.984375)), ('직장', NounScore_v1(frequency=96, score=0.6697778333333334, known_r_ratio=0.6)), ('가능', NounScore_v1(frequency=64, score=0.9901777857142857, known_r_ratio=0.37333333333333335)), ('근무', NounScore_v1(frequency=96, score=0.6485478913043478, known_r_ratio=0.7931034482758621)), ('경력', NounScore_v1(frequency=81, score=0.7341445000000001, known_r_ratio=0.7906976744186046)), ('최고', NounScore_v1(frequency=58, score=0.9998381944444444, known_r_ratio=0.9230769230769231)), ('직원', NounScore_v1(frequency=114, score=0.491019644736842, known_r_ratio=0.4550898203592814)), ('좋아', NounScore_v1(frequency=56, score=0.9856713333333333, known_r_ratio=0.5)), ('체계', NounScore_v1(frequency=65, score=0.8463951200000001, known_r_ratio=0.819672131147541)), ('자유', NounScore_v1(frequency=53, score=0.9876255, known_r_ratio=0.9803921568627451)), ('보수적', NounScore_v1(frequency=52, score=0.9988233157894735, known_r_ratio=0.4318181818181818)), ('조직', NounScore_v1(frequency=56, score=0.9254235, known_r_ratio=0.8333333333333334)), ('공무원', NounScore_v1(frequency=61, score=0.8390641000000001, known_r_ratio=0.7692307692307693)), ('본인', NounScore_v1(frequency=53, score=0.9496112558139534, known_r_ratio=0.9555555555555556)), ('신입', NounScore_v1(frequency=55, score=0.911815275, known_r_ratio=0.8888888888888888)), ('개인', NounScore_v1(frequency=56, score=0.8825936470588234, known_r_ratio=0.53125)), ('환경', NounScore_v1(frequency=62, score=0.7568379999999999, known_r_ratio=0.7105263157894737)), ('분들', NounScore_v1(frequency=44, score=0.9678732000000001, known_r_ratio=1.0)), ('공공기관', NounScore_v1(frequency=48, score=0.8800486129032259, known_r_ratio=0.96875)), ('커리어', NounScore_v1(frequency=42, score=0.9996479999999999, known_r_ratio=1.0)), ('계약직', NounScore_v1(frequency=56, score=0.7314469268292683, known_r_ratio=0.9761904761904762)), ('무난', NounScore_v1(frequency=41, score=0.9972960937500001, known_r_ratio=0.8205128205128205)), ('사무실', NounScore_v1(frequency=45, score=0.9050482941176472, known_r_ratio=1.0)), ('수평적', NounScore_v1(frequency=40, score=0.9993442857142857, known_r_ratio=0.25925925925925924)), ('업계', NounScore_v1(frequency=40, score=0.9991410000000001, known_r_ratio=1.0)), ('위치', NounScore_v1(frequency=42, score=0.9128757333333333, known_r_ratio=0.967741935483871)), ('대우', NounScore_v1(frequency=51, score=0.7498283928571429, known_r_ratio=1.0)), ('운영', NounScore_v1(frequency=42, score=0.9042477272727272, known_r_ratio=0.88)), ('시간', NounScore_v1(frequency=54, score=0.6983598484848486, known_r_ratio=0.9705882352941176)), ('야근', NounScore_v1(frequency=46, score=0.8138636153846153, known_r_ratio=0.9629629629629629)), ('부서', NounScore_v1(frequency=37, score=0.9954134375000001, known_r_ratio=0.7272727272727273)), ('하나', NounScore_v1(frequency=57, score=0.6341842666666667, known_r_ratio=1.0)), ('규모', NounScore_v1(frequency=37, score=0.9443445806451612, known_r_ratio=1.0)), ('발전', NounScore_v1(frequency=71, score=0.4834120697674419, known_r_ratio=0.8958333333333334)), ('기회', NounScore_v1(frequency=39, score=0.8781915925925927, known_r_ratio=1.0)), ('느낌', NounScore_v1(frequency=35, score=0.9639400714285714, known_r_ratio=0.7368421052631579)), ('부족', NounScore_v1(frequency=33, score=0.9949974090909091, known_r_ratio=0.7857142857142857)), ('필요', NounScore_v1(frequency=33, score=0.994365, known_r_ratio=0.7083333333333334)), ('입사', NounScore_v1(frequency=33, score=0.9917476666666668, known_r_ratio=0.84)), ('노력', NounScore_v1(frequency=35, score=0.91215672, known_r_ratio=0.8064516129032258)), ('전반적', NounScore_v1(frequency=31, score=0.999725, known_r_ratio=0.5)), ('기관', NounScore_v1(frequency=31, score=0.9997172142857144, known_r_ratio=0.8235294117647058)), ('성과', NounScore_v1(frequency=31, score=0.9993479444444446, known_r_ratio=0.8181818181818182)), ('능력', NounScore_v1(frequency=40, score=0.7734959499999998, known_r_ratio=1.0)), ('관련', NounScore_v1(frequency=31, score=0.9970383333333332, known_r_ratio=0.5454545454545454)), ('공기업', NounScore_v1(frequency=35, score=0.8829627222222222, known_r_ratio=0.9473684210526315)), ('이상', NounScore_v1(frequency=41, score=0.7438968000000001, known_r_ratio=0.8333333333333334)), ('정도', NounScore_v1(frequency=48, score=0.6255543157894737, known_r_ratio=0.7916666666666666)), ('나름', NounScore_v1(frequency=30, score=0.9988021666666667, known_r_ratio=1.0)), ('대표', NounScore_v1(frequency=36, score=0.8150408888888889, known_r_ratio=0.8181818181818182)), ('사업', NounScore_v1(frequency=54, score=0.5370903055555556, known_r_ratio=0.8372093023255814)), ('전문', NounScore_v1(frequency=29, score=0.9985295000000001, known_r_ratio=0.08333333333333333)), ('강도', NounScore_v1(frequency=52, score=0.5544669743589744, known_r_ratio=1.0)), ('은행', NounScore_v1(frequency=31, score=0.9287782857142856, known_r_ratio=0.5384615384615384)), ('투자', NounScore_v1(frequency=29, score=0.9924412857142858, known_r_ratio=0.7777777777777778)), ('계속', NounScore_v1(frequency=28, score=0.995454, known_r_ratio=0.6666666666666666)), ('장점', NounScore_v1(frequency=48, score=0.5669138666666667, known_r_ratio=0.9375)), ('처음', NounScore_v1(frequency=27, score=0.9999088, known_r_ratio=1.0)), ('관심', NounScore_v1(frequency=27, score=0.999341, known_r_ratio=1.0)), ('최악', NounScore_v1(frequency=28, score=0.9548163636363636, known_r_ratio=0.7333333333333333)), ('꼰대', NounScore_v1(frequency=27, score=0.9901046666666667, known_r_ratio=0.375)), ('구조', NounScore_v1(frequency=27, score=0.9888611666666668, known_r_ratio=0.75)), ('만족', NounScore_v1(frequency=28, score=0.9492049285714286, known_r_ratio=0.5833333333333334)), ('단점', NounScore_v1(frequency=35, score=0.747410423076923, known_r_ratio=0.8666666666666667)), ('외국계', NounScore_v1(frequency=26, score=0.9869042, known_r_ratio=1.0)), ('적당', NounScore_v1(frequency=25, score=1.0, known_r_ratio=0.24)), ('굉장', NounScore_v1(frequency=25, score=1.0, known_r_ratio=0.04)), ('차이', NounScore_v1(frequency=25, score=0.999605, known_r_ratio=1.0)), ('확실', NounScore_v1(frequency=25, score=0.9958933333333335, known_r_ratio=0.375)), ('정규직', NounScore_v1(frequency=36, score=0.6881453333333334, known_r_ratio=0.9230769230769231)), ('스트레스', NounScore_v1(frequency=36, score=0.675151, known_r_ratio=1.0)), ('문제', NounScore_v1(frequency=27, score=0.896782375, known_r_ratio=0.8888888888888888)), ('경우', NounScore_v1(frequency=28, score=0.8473760714285714, known_r_ratio=1.0)), ('중소기업', NounScore_v1(frequency=26, score=0.8854309230769233, known_r_ratio=0.8125)), ('지역', NounScore_v1(frequency=23, score=0.9996791999999999, known_r_ratio=0.8333333333333334)), ('보고', NounScore_v1(frequency=23, score=0.98162375, known_r_ratio=1.0)), ('서울', NounScore_v1(frequency=22, score=0.999669875, known_r_ratio=0.6666666666666666)), ('사회', NounScore_v1(frequency=22, score=0.998998, known_r_ratio=0.7)), ('퇴사', NounScore_v1(frequency=28, score=0.7804021333333334, known_r_ratio=0.7142857142857143)), ('경영진', NounScore_v1(frequency=24, score=0.9103543333333334, known_r_ratio=0.9473684210526315)), ('개발', NounScore_v1(frequency=50, score=0.4290832857142858, known_r_ratio=0.5185185185185185)), ('욕심', NounScore_v1(frequency=28, score=0.76469425, known_r_ratio=1.0)), ('워라벨', NounScore_v1(frequency=38, score=0.5572338421052633, known_r_ratio=1.0)), ('수준', NounScore_v1(frequency=40, score=0.5289700769230768, known_r_ratio=0.9629629629629629)), ('보험', NounScore_v1(frequency=21, score=0.9994525000000001, known_r_ratio=0.3333333333333333))]\n"
     ]
    }
   ],
   "source": [
    "# 빈도수 * 명사점수 기준 상위 100개 단어\n",
    "sort_nouns2 = sorted(nouns.items(), key=lambda x:-x[1].frequency * x[1].score)[:100]\n",
    "print(sort_nouns2)"
   ]
  },
  {
   "cell_type": "code",
   "execution_count": 22,
   "id": "142d9e0a",
   "metadata": {},
   "outputs": [
    {
     "name": "stdout",
     "output_type": "stream",
     "text": [
      "\n",
      "    회사 (0.66)    업무 (0.87)    기업 (0.87)    다양 (1.00)    추천 (0.99)\n",
      "   사람들 (0.92)    복지 (0.91)    생각 (0.91)    사람 (0.52)   직원들 (0.85)\n",
      "    경험 (0.65)   안정적 (1.00)    문화 (0.82)    성장 (0.81)    급여 (0.89)\n",
      "    연봉 (0.61)    직장 (0.67)    가능 (0.99)    근무 (0.65)    경력 (0.73)\n",
      "    최고 (1.00)    직원 (0.49)    좋아 (0.99)    체계 (0.85)    자유 (0.99)\n",
      "   보수적 (1.00)    조직 (0.93)   공무원 (0.84)    본인 (0.95)    신입 (0.91)\n",
      "    개인 (0.88)    환경 (0.76)    분들 (0.97)  공공기관 (0.88)   커리어 (1.00)\n",
      "   계약직 (0.73)    무난 (1.00)   사무실 (0.91)   수평적 (1.00)    업계 (1.00)\n",
      "    위치 (0.91)    대우 (0.75)    운영 (0.90)    시간 (0.70)    야근 (0.81)\n",
      "    부서 (1.00)    하나 (0.63)    규모 (0.94)    발전 (0.48)    기회 (0.88)\n",
      "    느낌 (0.96)    부족 (0.99)    필요 (0.99)    입사 (0.99)    노력 (0.91)\n",
      "   전반적 (1.00)    기관 (1.00)    성과 (1.00)    능력 (0.77)    관련 (1.00)\n",
      "   공기업 (0.88)    이상 (0.74)    정도 (0.63)    나름 (1.00)    대표 (0.82)\n",
      "    사업 (0.54)    전문 (1.00)    강도 (0.55)    은행 (0.93)    투자 (0.99)\n",
      "    계속 (1.00)    장점 (0.57)    처음 (1.00)    관심 (1.00)    최악 (0.95)\n",
      "    꼰대 (0.99)    구조 (0.99)    만족 (0.95)    단점 (0.75)   외국계 (0.99)\n",
      "    적당 (1.00)    굉장 (1.00)    차이 (1.00)    확실 (1.00)   정규직 (0.69)\n",
      "  스트레스 (0.68)    문제 (0.90)    경우 (0.85)  중소기업 (0.89)    지역 (1.00)\n",
      "    보고 (0.98)    서울 (1.00)    사회 (1.00)    퇴사 (0.78)   경영진 (0.91)\n",
      "    개발 (0.43)    욕심 (0.76)   워라벨 (0.56)    수준 (0.53)    보험 (1.00)"
     ]
    }
   ],
   "source": [
    "# 빈도수 * 명사점수 기준 상위 100개 단어 확인\n",
    "for i, (word, score) in enumerate(sort_nouns2):\n",
    "    if i % 5 ==0:\n",
    "        print()\n",
    "    print('%6s (%.2f)' % (word, score.score), end = '')"
   ]
  },
  {
   "cell_type": "markdown",
   "id": "d1b3f285",
   "metadata": {},
   "source": [
    "## 2) NewsNounExtractor\n",
    "#### 뉴스 데이터에서 더 좋은 성능을 내기 위해 여러가지 후처리 과정이 추가된 명사 추출기 적용"
   ]
  },
  {
   "cell_type": "code",
   "execution_count": 23,
   "id": "b746adfc",
   "metadata": {},
   "outputs": [
    {
     "name": "stdout",
     "output_type": "stream",
     "text": [
      "used default noun predictor; Sejong corpus based logistic predictor\n",
      "C:/Users/hsmy1/Anaconda3/envs/py37/lib/site-packages/soynlp\n",
      "local variable 'f' referenced before assignment\n",
      "local variable 'f' referenced before assignment\n"
     ]
    }
   ],
   "source": [
    "from soynlp.noun import NewsNounExtractor\n",
    "\n",
    "noun_extractor = NewsNounExtractor(\n",
    "    max_left_length=10, \n",
    "    max_right_length=7,\n",
    "    predictor_fnames=None,\n",
    "    verbose=True\n",
    ")"
   ]
  },
  {
   "cell_type": "code",
   "execution_count": 24,
   "id": "b02ef084",
   "metadata": {},
   "outputs": [
    {
     "name": "stdout",
     "output_type": "stream",
     "text": [
      "scan vocabulary ... \n",
      "done (Lset, Rset, Eojeol) = (20785, 11074, 11995)\n",
      "predicting noun score was done                                        \n",
      "before postprocessing 3495\n",
      "_noun_scores_ 1043\n",
      "checking hardrules ... done / 1043떡볶+(이)), NVsubE (사기(당)+했다) ... done\n",
      "after postprocessing 653\n",
      "extracted 0 compounds from eojeolss ... 1000 / 1094"
     ]
    }
   ],
   "source": [
    "nouns = noun_extractor.train_extract(sentences)"
   ]
  },
  {
   "cell_type": "code",
   "execution_count": 25,
   "id": "6db79f07",
   "metadata": {},
   "outputs": [
    {
     "name": "stdout",
     "output_type": "stream",
     "text": [
      "word: 공공기관, score: 0.91, frequency: 63.00\n",
      "word: 분위기, score: 0.49, frequency: 260.00\n",
      "word: 야근, score: 0.81, frequency: 51.00\n",
      "word: 꼰대, score: 0.76, frequency: 32.00\n"
     ]
    }
   ],
   "source": [
    "# 각 단어별 점수 및 빈도수 확인\n",
    "words = ['공공기관', '워라밸', '분위기', '야근', '꼰대']\n",
    "\n",
    "for word in words:\n",
    "    if not word in nouns:\n",
    "        continue\n",
    "    score = nouns[word]\n",
    "    print('word: %s, score: %.2f, frequency: %.2f' % (word, score.score, score.frequency))"
   ]
  },
  {
   "cell_type": "code",
   "execution_count": 10,
   "id": "e7b2358d",
   "metadata": {},
   "outputs": [],
   "source": [
    "# 리뷰 개수가 적은 산업군을 감안하여 최소 빈도수를 15로 조정\n",
    "def nounextractor(sent):\n",
    "    noun_extractor = LRNounExtractor(\n",
    "    max_left_length = 10, \n",
    "    max_right_length = 7,\n",
    "    predictor_fnames = None,\n",
    "    verbose = True\n",
    "    )\n",
    "    \n",
    "    nouns = noun_extractor.train_extract(\n",
    "        sent,\n",
    "        min_noun_score=0.3,\n",
    "        min_noun_frequency=15\n",
    "    )\n",
    "\n",
    "    # 빈도수 * 명사점수 기준 상위 100개 단어\n",
    "    sort_nouns = sorted(nouns.items(), key=lambda x:-x[1].frequency * x[1].score)[:100]\n",
    "\n",
    "    for i, (word, score) in enumerate(sort_nouns):\n",
    "        if i % 5 ==0:\n",
    "            print()\n",
    "        print('%6s (%.2f, %.2f)' % (word, score.frequency, score.score), end = '')"
   ]
  },
  {
   "cell_type": "code",
   "execution_count": 27,
   "id": "a11c87c1",
   "metadata": {},
   "outputs": [
    {
     "name": "stdout",
     "output_type": "stream",
     "text": [
      "[Noun Extractor] used default noun predictor; Sejong corpus predictor\n",
      "[Noun Extractor] used noun_predictor_sejong\n",
      "[Noun Extractor] All 2398 r features was loaded\n",
      "[Noun Extractor] scanning was done (L,R) has (854, 432) tokens\n",
      "[Noun Extractor] building L-R graph was done\n",
      "[Noun Extractor] 226 nouns are extracted\n",
      "\n",
      "    회사 (732.00, 0.66)    업무 (368.00, 0.87)    기업 (194.00, 0.87)    다양 (145.00, 1.00)    추천 (131.00, 0.99)\n",
      "   사람들 (140.00, 0.92)    복지 (133.00, 0.91)    생각 (130.00, 0.91)    사람 (209.00, 0.53)   직원들 (101.00, 0.85)\n",
      "    경험 (130.00, 0.65)   안정적 (82.00, 1.00)    문화 (99.00, 0.82)    성장 (93.00, 0.82)    급여 (83.00, 0.89)\n",
      "    연봉 (112.00, 0.61)    근무 (98.00, 0.66)    가능 (65.00, 0.99)    직장 (96.00, 0.67)    경력 (83.00, 0.73)\n",
      "    최고 (58.00, 1.00)    직원 (115.00, 0.50)    좋아 (56.00, 0.99)   보수적 (54.00, 1.00)   공무원 (63.00, 0.85)\n",
      "    자유 (53.00, 0.99)    신입 (57.00, 0.92)    조직 (56.00, 0.93)    본인 (53.00, 0.95)    환경 (62.00, 0.76)\n",
      "  공공기관 (52.00, 0.89)    체계 (54.00, 0.85)   계약직 (58.00, 0.74)    분들 (44.00, 0.97)   커리어 (42.00, 1.00)\n",
      "    무난 (41.00, 1.00)   사무실 (45.00, 0.91)   수평적 (40.00, 1.00)    업계 (40.00, 1.00)    대우 (52.00, 0.75)\n",
      "    위치 (42.00, 0.91)    운영 (42.00, 0.90)    부서 (38.00, 1.00)    시간 (54.00, 0.70)    야근 (46.00, 0.81)\n",
      "    개인 (42.00, 0.88)    하나 (58.00, 0.63)    발전 (72.00, 0.50)    규모 (37.00, 0.94)    기회 (39.00, 0.88)\n",
      "    기관 (34.00, 1.00)    느낌 (35.00, 0.96)    입사 (34.00, 0.99)    때문 (33.00, 1.00)    부족 (33.00, 0.99)\n",
      "    필요 (33.00, 0.99)   공기업 (36.00, 0.89)    성과 (32.00, 1.00)    노력 (35.00, 0.91)   전반적 (31.00, 1.00)\n",
      "    능력 (40.00, 0.77)    관련 (31.00, 1.00)    이상 (41.00, 0.74)    정도 (48.00, 0.63)    은행 (32.00, 0.94)\n",
      "    나름 (30.00, 1.00)    만족 (31.00, 0.95)    대표 (36.00, 0.82)    사업 (54.00, 0.54)    강도 (52.00, 0.55)\n",
      "    계속 (28.00, 1.00)    구조 (28.00, 0.98)    단점 (36.00, 0.76)    장점 (48.00, 0.57)    처음 (27.00, 1.00)\n",
      "    관심 (27.00, 1.00)    최악 (28.00, 0.95)    꼰대 (27.00, 0.99)    투자 (30.00, 0.88)   정규직 (37.00, 0.70)\n",
      "   외국계 (26.00, 0.99)    적당 (25.00, 1.00)    굉장 (25.00, 1.00)    차이 (25.00, 1.00)    확실 (25.00, 1.00)\n",
      "  스트레스 (36.00, 0.68)    문제 (27.00, 0.90)    국내 (24.00, 1.00)    경우 (28.00, 0.85)  중소기업 (26.00, 0.89)\n",
      "    지역 (23.00, 1.00)    보고 (23.00, 0.98)    서울 (22.00, 1.00)    보험 (22.00, 1.00)    사회 (22.00, 1.00)\n",
      "    퇴사 (28.00, 0.78)   경영진 (24.00, 0.91)    관리 (29.00, 0.75)    보람 (33.00, 0.65)    욕심 (28.00, 0.76)"
     ]
    }
   ],
   "source": [
    "nounextractor(sentences)"
   ]
  },
  {
   "cell_type": "markdown",
   "id": "3b3fff82",
   "metadata": {},
   "source": [
    "### 전체 산업군과 별도로 각각의 산업군별으로도 분석해보기 위해 텍스트 파일을 4개로 분할\n"
   ]
  },
  {
   "cell_type": "code",
   "execution_count": 1,
   "id": "dce5fdd4",
   "metadata": {},
   "outputs": [],
   "source": [
    "with open('review_train.txt', 'r', encoding = 'utf-8') as f :\n",
    "    data = f.read().split('\\n')\n",
    "    for i in range(4):\n",
    "        a = 1 + i\n",
    "        with open(f'review_{a}.txt', 'w+', encoding = 'utf-8') as txt:\n",
    "            txt.write(data[i]) "
   ]
  },
  {
   "cell_type": "code",
   "execution_count": 18,
   "id": "b7a0bd66",
   "metadata": {},
   "outputs": [
    {
     "data": {
      "text/plain": [
       "775"
      ]
     },
     "execution_count": 18,
     "metadata": {},
     "output_type": "execute_result"
    }
   ],
   "source": [
    "corpus_fname1 = 'data/review_1.txt'\n",
    "sentences1 = DoublespaceLineCorpus(corpus_fname1, iter_sent=True)\n",
    "len(sentences1)"
   ]
  },
  {
   "cell_type": "code",
   "execution_count": 6,
   "id": "1fa146ce",
   "metadata": {},
   "outputs": [
    {
     "data": {
      "text/plain": [
       "1068"
      ]
     },
     "execution_count": 6,
     "metadata": {},
     "output_type": "execute_result"
    }
   ],
   "source": [
    "corpus_fname2 = 'data/review_2.txt'\n",
    "sentences2 = DoublespaceLineCorpus(corpus_fname2, iter_sent=True)\n",
    "len(sentences2)"
   ]
  },
  {
   "cell_type": "code",
   "execution_count": 7,
   "id": "176f04b6",
   "metadata": {},
   "outputs": [
    {
     "data": {
      "text/plain": [
       "346"
      ]
     },
     "execution_count": 7,
     "metadata": {},
     "output_type": "execute_result"
    }
   ],
   "source": [
    "corpus_fname3 = 'data/review_3.txt'\n",
    "sentences3 = DoublespaceLineCorpus(corpus_fname3, iter_sent=True)\n",
    "len(sentences3)"
   ]
  },
  {
   "cell_type": "code",
   "execution_count": 8,
   "id": "13514f01",
   "metadata": {},
   "outputs": [
    {
     "data": {
      "text/plain": [
       "375"
      ]
     },
     "execution_count": 8,
     "metadata": {},
     "output_type": "execute_result"
    }
   ],
   "source": [
    "corpus_fname4 = 'data/review_4.txt'\n",
    "sentences4 = DoublespaceLineCorpus(corpus_fname4, iter_sent=True)\n",
    "len(sentences4)"
   ]
  },
  {
   "cell_type": "markdown",
   "id": "3d40da5a",
   "metadata": {},
   "source": [
    "### 각 산업군별 빈도수 * 명사점수 기준 상위 100개 단어 확인"
   ]
  },
  {
   "cell_type": "code",
   "execution_count": 13,
   "id": "53e796c0",
   "metadata": {},
   "outputs": [
    {
     "name": "stdout",
     "output_type": "stream",
     "text": [
      "[Noun Extractor] used default noun predictor; Sejong corpus predictor\n",
      "[Noun Extractor] used noun_predictor_sejong\n",
      "[Noun Extractor] All 2398 r features was loaded\n",
      "\r",
      "[Noun Extractor] scanning was done (L,R) has (274, 138) tokens\n",
      "\r",
      "[Noun Extractor] building L-R graph was done\n",
      "[Noun Extractor] 57 nouns are extracted\n",
      "\n",
      "    업무 (130.00, 0.85)    다양 (40.00, 1.00)   공무원 (50.00, 0.80)    회사 (76.00, 0.49)    복지 (38.00, 0.98)\n",
      "   계약직 (44.00, 0.82)    경험 (53.00, 0.68)    근무 (47.00, 0.74)   사람들 (39.00, 0.87)    생각 (38.00, 0.88)\n",
      "  공공기관 (38.00, 0.84)    기업 (31.00, 1.00)    추천 (30.00, 0.99)   안정적 (27.00, 1.00)    기관 (26.00, 1.00)\n",
      "    가능 (25.00, 0.99)    조직 (27.00, 0.92)    급여 (26.00, 0.92)    직장 (39.00, 0.57)   공기업 (23.00, 0.95)\n",
      "    사람 (55.00, 0.38)    환경 (25.00, 0.80)    강도 (22.00, 0.90)   직원들 (21.00, 0.86)    경력 (21.00, 0.85)\n",
      "    서울 (17.00, 1.00)    관련 (16.00, 1.00)    문화 (24.00, 0.66)    만족 (16.00, 0.99)    좋아 (16.00, 0.98)\n",
      "    문제 (15.00, 1.00)    체계 (19.00, 0.76)    개인 (14.00, 1.00)   정규직 (19.00, 0.73)    지역 (13.00, 1.00)\n",
      "    본인 (15.00, 0.87)    연봉 (18.00, 0.71)    시간 (16.00, 0.78)    분들 (12.00, 1.00)    위치 (14.00, 0.85)\n",
      "    장점 (23.00, 0.51)    자유 (12.00, 0.95)    눈치 (14.00, 0.79)    부서 (11.00, 0.99)    사업 (18.00, 0.60)\n",
      "    사회 (10.00, 1.00)    하나 (15.00, 0.66)    단점 (15.00, 0.66)    지원 (11.00, 0.89)    민원 (12.00, 0.79)\n",
      "    연구 (9.00, 0.94)    보람 (12.00, 0.65)   워라밸 (21.00, 0.35)    지방 (7.00, 1.00)    직원 (20.00, 0.31)\n",
      "    보장 (10.00, 0.35)    행정 (7.00, 0.46)"
     ]
    }
   ],
   "source": [
    "nounextractor(sentences1)"
   ]
  },
  {
   "cell_type": "code",
   "execution_count": 14,
   "id": "64fdb06f",
   "metadata": {},
   "outputs": [
    {
     "name": "stdout",
     "output_type": "stream",
     "text": [
      "[Noun Extractor] used default noun predictor; Sejong corpus predictor\n",
      "[Noun Extractor] used noun_predictor_sejong\n",
      "[Noun Extractor] All 2398 r features was loaded\n",
      "[Noun Extractor] scanning was done (L,R) has (397, 200) tokens\n",
      "[Noun Extractor] building L-R graph was done\n",
      "[Noun Extractor] 86 nouns are extracted\n",
      "\n",
      "    회사 (400.00, 0.65)    업무 (140.00, 0.90)   분위기 (101.00, 1.00)    기업 (101.00, 0.88)   사람들 (66.00, 0.94)\n",
      "    문화 (58.00, 0.87)    다양 (49.00, 1.00)    복지 (52.00, 0.94)    추천 (49.00, 0.98)    생각 (52.00, 0.92)\n",
      "    성장 (57.00, 0.82)    연봉 (67.00, 0.66)    사람 (71.00, 0.61)   안정적 (42.00, 1.00)   직원들 (48.00, 0.79)\n",
      "    최고 (36.00, 1.00)   보수적 (35.00, 1.00)    급여 (37.00, 0.87)    은행 (30.00, 0.93)    투자 (26.00, 0.99)\n",
      "    본인 (26.00, 0.98)    업계 (25.00, 1.00)   커리어 (24.00, 1.00)    기회 (24.00, 1.00)    개인 (23.00, 1.00)\n",
      "    조직 (25.00, 0.92)    규모 (25.00, 0.91)    경험 (37.00, 0.62)    직원 (41.00, 0.54)    체계 (23.00, 0.96)\n",
      "    무난 (22.00, 1.00)    정도 (22.00, 0.99)    가능 (22.00, 0.99)    성과 (21.00, 1.00)   외국계 (21.00, 0.98)\n",
      "    경력 (29.00, 0.71)    하나 (27.00, 0.75)    근무 (30.00, 0.67)    가족 (20.00, 1.00)    운영 (21.00, 0.91)\n",
      "   수평적 (19.00, 1.00)    좋아 (19.00, 0.99)    발전 (38.00, 0.49)    직장 (40.00, 0.47)    대우 (26.00, 0.71)\n",
      "  스트레스 (21.00, 0.84)    분들 (18.00, 0.96)    보험 (17.00, 1.00)    야근 (19.00, 0.88)    대표 (20.00, 0.84)\n",
      "    시간 (26.00, 0.64)    실적 (16.00, 0.95)    필요 (15.00, 0.99)    이상 (18.00, 0.81)    능력 (22.00, 0.66)\n",
      "    위치 (16.00, 0.89)  기업문화 (15.00, 0.94)    장점 (18.00, 0.78)    그만 (14.00, 1.00)    구조 (14.00, 1.00)\n",
      "    자유 (14.00, 1.00)    환경 (16.00, 0.86)   가능성 (29.00, 0.45)    부족 (13.00, 1.00)    수준 (23.00, 0.54)\n",
      "    사업 (17.00, 0.67)    욕심 (15.00, 0.74)    입사 (11.00, 0.99)   워라밸 (25.00, 0.43)    영업 (21.00, 0.50)\n",
      "    증권 (10.00, 1.00)    지원 (12.00, 0.83)    역량 (15.00, 0.65)    노력 (11.00, 0.86)    만족 (10.00, 0.90)\n",
      "    부서 (9.00, 1.00)    신입 (13.00, 0.66)    자체 (17.00, 0.50)    경영 (10.00, 0.83)    보장 (13.00, 0.60)\n",
      "    보상 (11.00, 0.69)    보수 (6.00, 1.00)    안정 (8.00, 0.75)    개발 (12.00, 0.50)    자산 (7.00, 0.83)\n",
      "    퇴사 (10.00, 0.53)"
     ]
    }
   ],
   "source": [
    "nounextractor(sentences2)"
   ]
  },
  {
   "cell_type": "code",
   "execution_count": 15,
   "id": "5e113f0e",
   "metadata": {},
   "outputs": [
    {
     "name": "stdout",
     "output_type": "stream",
     "text": [
      "[Noun Extractor] used default noun predictor; Sejong corpus predictor\n",
      "[Noun Extractor] used noun_predictor_sejong\n",
      "[Noun Extractor] All 2398 r features was loaded\n",
      "\r",
      "[Noun Extractor] scanning was done (L,R) has (114, 63) tokens\n",
      "\r",
      "[Noun Extractor] building L-R graph was done\n",
      "[Noun Extractor] 16 nouns are extracted\n",
      "\n",
      "    회사 (137.00, 0.77)    기업 (46.00, 0.71)    업무 (42.00, 0.74)    다양 (21.00, 1.00)    복지 (20.00, 0.96)\n",
      "    직원 (20.00, 0.73)    개발 (19.00, 0.75)    경험 (21.00, 0.67)   직원들 (14.00, 0.92)    성장 (17.00, 0.67)\n",
      "    생각 (12.00, 0.95)    사람 (23.00, 0.48)    대우 (10.00, 1.00)    연봉 (18.00, 0.53)    사업 (12.00, 0.59)\n",
      "    근무 (8.00, 0.63)"
     ]
    }
   ],
   "source": [
    "nounextractor(sentences3)"
   ]
  },
  {
   "cell_type": "code",
   "execution_count": 16,
   "id": "3c7af104",
   "metadata": {},
   "outputs": [
    {
     "name": "stdout",
     "output_type": "stream",
     "text": [
      "[Noun Extractor] used default noun predictor; Sejong corpus predictor\n",
      "[Noun Extractor] used noun_predictor_sejong\n",
      "[Noun Extractor] All 2398 r features was loaded\n",
      "\r",
      "[Noun Extractor] scanning was done (L,R) has (127, 71) tokens\n",
      "\r",
      "[Noun Extractor] building L-R graph was done\n",
      "[Noun Extractor] 19 nouns are extracted\n",
      "\n",
      "    회사 (98.00, 0.54)    업무 (52.00, 0.91)    다양 (33.00, 1.00)    사람 (45.00, 0.70)   사무실 (27.00, 1.00)\n",
      "    신입 (25.00, 0.99)   사람들 (22.00, 0.97)    복지 (21.00, 1.00)    추천 (18.00, 0.99)   직원들 (18.00, 0.95)\n",
      "   회계사 (14.00, 0.98)    직원 (32.00, 0.42)    야근 (15.00, 0.84)    경력 (16.00, 0.75)   거래처 (16.00, 0.74)\n",
      "    경험 (18.00, 0.58)    입사 (10.00, 0.99)    생각 (7.00, 0.80)    개인 (12.00, 0.34)"
     ]
    }
   ],
   "source": [
    "nounextractor(sentences4)"
   ]
  }
 ],
 "metadata": {
  "kernelspec": {
   "display_name": "python3.7",
   "language": "python",
   "name": "py37"
  },
  "language_info": {
   "codemirror_mode": {
    "name": "ipython",
    "version": 3
   },
   "file_extension": ".py",
   "mimetype": "text/x-python",
   "name": "python",
   "nbconvert_exporter": "python",
   "pygments_lexer": "ipython3",
   "version": "3.7.11"
  }
 },
 "nbformat": 4,
 "nbformat_minor": 5
}
